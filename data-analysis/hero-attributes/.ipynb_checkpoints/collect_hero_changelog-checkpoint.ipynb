{
 "cells": [
  {
   "cell_type": "markdown",
   "metadata": {},
   "source": [
    "## Notebook to collect the changelog for each Dota 2 hero"
   ]
  },
  {
   "cell_type": "markdown",
   "metadata": {},
   "source": [
    "The changelog is collected from https://dota2.gamepedia.com/Heroes"
   ]
  },
  {
   "cell_type": "code",
   "execution_count": 8,
   "metadata": {},
   "outputs": [],
   "source": [
    "# Import necessary libraries\n",
    "from bs4 import BeautifulSoup\n",
    "import requests\n",
    "import os\n",
    "import json\n",
    "import csv"
   ]
  },
  {
   "cell_type": "code",
   "execution_count": 9,
   "metadata": {},
   "outputs": [],
   "source": [
    "# Load the JSON data for all files - get current and its parent directory\n",
    "cwd = os.getcwd()\n",
    "repo_root_directory = os.path.dirname(cwd)"
   ]
  },
  {
   "cell_type": "code",
   "execution_count": 10,
   "metadata": {},
   "outputs": [],
   "source": [
    "# Adjust the path to the heroes.json file of constants as needed\n",
    "def get_hero_names():\n",
    "    hero_name_list = list()\n",
    "    with open(repo_root_directory + \"\\\\data-analysis\\\\heroes.json\", 'r') as hero_file:\n",
    "        heroes = json.load(hero_file) # 119 different heroes May 23rd\n",
    "\n",
    "    for hero in heroes:\n",
    "        specific_hero = heroes[hero]\n",
    "        hero_name = specific_hero['localized_name']\n",
    "        if hero_name is None:\n",
    "            break\n",
    "        hero_name_list.append(hero_name)\n",
    "    return hero_name_list"
   ]
  },
  {
   "cell_type": "code",
   "execution_count": 11,
   "metadata": {},
   "outputs": [],
   "source": [
    "def crawl(hero_name):\n",
    "    url=\"https://dota2.gamepedia.com/\" + hero_name + \"/Changelogs\"\n",
    "    changelog_dict = {}\n",
    "\n",
    "    # Make a GET request to fetch the raw HTML content\n",
    "    html_content = requests.get(url).text\n",
    "\n",
    "    # Parse the html content\n",
    "    soup = BeautifulSoup(html_content, \"lxml\")\n",
    "    main_div = soup.find(\"div\", {\"class\": \"mw-parser-output\"})\n",
    "    table_body = main_div.find_all(\"div\" , {\"class\": \"updatetablebody\"})\n",
    "    table_body_single = table_body[0]\n",
    "    entries = table_body_single.find_all(\"div\" , {\"id\": \"entry\"})\n",
    "\n",
    "    for entry in entries:\n",
    "        try:\n",
    "            version = entry.find_all(\"div\" , {\"id\": \"version\"})\n",
    "            for div in version:\n",
    "                version_text = div.a.getText()\n",
    "                print (version_text)\n",
    "            \n",
    "            list_of_changes = list()\n",
    "            descr = entry.find_all(\"div\" , {\"id\": \"description\"})\n",
    "            try:\n",
    "                results_dl = descr[0].find(\"dl\")\n",
    "                dd = results_dl.find_all(\"dd\")\n",
    "                results_dl2 = dd[0].find(\"dl\")\n",
    "                dd_all = results_dl2.find_all(\"dd\")\n",
    "                for each in dd_all:\n",
    "                    change_descr = each.text\n",
    "                    if change_descr not in list_of_changes:\n",
    "                        list_of_changes.append(change_descr)\n",
    "            except:\n",
    "                pass\n",
    "            \n",
    "            try:\n",
    "                results_ul = descr[0].find(\"ul\")\n",
    "                li = results_ul.find_all(\"li\")\n",
    "                for each_li in li:\n",
    "                    results_ul_2 = each_li.find(\"ul\")\n",
    "                    li_2 = results_ul_2.find_all(\"li\")\n",
    "                    for each in li_2:\n",
    "                        change_descr = each.text\n",
    "                        if change_descr not in list_of_changes:\n",
    "                            list_of_changes.append(change_descr)\n",
    "                    \n",
    "            except:\n",
    "                try:\n",
    "                    results_ul = descr[0].find(\"ul\")\n",
    "                    li = results_ul.find_all(\"li\") \n",
    "                    for each in li:\n",
    "                        change_descr = each.text\n",
    "                        if change_descr not in list_of_changes:\n",
    "                            list_of_changes.append(change_descr)\n",
    "                except:\n",
    "                    pass     \n",
    "        except:\n",
    "            pass\n",
    "\n",
    "        changelog_dict[version_text] = list_of_changes\n",
    "            \n",
    "    # Save changelog for the hero\n",
    "    with open(\"hero_changelog/\" + hero_name + '_changelog_dict.csv', 'w', newline=\"\", encoding='utf-8') as csv_file:  \n",
    "        writer = csv.writer(csv_file)\n",
    "        for key in changelog_dict:\n",
    "            list_changes = changelog_dict[key]\n",
    "            writer.writerow([key, list_changes])\n"
   ]
  },
  {
   "cell_type": "code",
   "execution_count": null,
   "metadata": {},
   "outputs": [],
   "source": [
    "if __name__ == \"__main__\":\n",
    "    hero_name_list = get_hero_names()\n",
    "    print(len(hero_name_list))\n",
    "    \n",
    "    for each_hero_name in hero_name_list:\n",
    "        print(each_hero_name)\n",
    "        \n",
    "        # Get changelog for 'each_hero_name'\n",
    "        crawl(each_hero_name)"
   ]
  }
 ],
 "metadata": {
  "kernelspec": {
   "display_name": "Python 3",
   "language": "python",
   "name": "python3"
  },
  "language_info": {
   "codemirror_mode": {
    "name": "ipython",
    "version": 3
   },
   "file_extension": ".py",
   "mimetype": "text/x-python",
   "name": "python",
   "nbconvert_exporter": "python",
   "pygments_lexer": "ipython3",
   "version": "3.6.8"
  }
 },
 "nbformat": 4,
 "nbformat_minor": 2
}
