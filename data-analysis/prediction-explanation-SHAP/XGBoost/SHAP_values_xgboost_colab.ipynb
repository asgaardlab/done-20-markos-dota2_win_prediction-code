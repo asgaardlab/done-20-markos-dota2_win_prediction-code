{
 "cells": [
  {
   "cell_type": "markdown",
   "metadata": {
    "colab_type": "text",
    "id": "c_UwLOLBH_Tu"
   },
   "source": [
    "## **SHAP Values Implementation**\n",
    "\n",
    "## Explanation of XGBoost prediction for Dota 2 team victory by means of feature importance\n",
    "\n",
    "---"
   ]
  },
  {
   "cell_type": "markdown",
   "metadata": {},
   "source": [
    "Disclaimer: this notebook was implemented on Google colab! Some steps are slighty different compared to running the code on a local machine (e.g., the functions to read the data rely on the data uploaded to the google colab session)"
   ]
  },
  {
   "cell_type": "markdown",
   "metadata": {
    "colab_type": "text",
    "id": "dnxe7fzMIcEs"
   },
   "source": [
    "###  REGULAR MATCHES"
   ]
  },
  {
   "cell_type": "code",
   "execution_count": 0,
   "metadata": {
    "colab": {},
    "colab_type": "code",
    "id": "yQYMjY7cJHSw"
   },
   "outputs": [],
   "source": [
    "# Install shap for python\n",
    "pip install shap"
   ]
  },
  {
   "cell_type": "code",
   "execution_count": 0,
   "metadata": {
    "colab": {},
    "colab_type": "code",
    "id": "1EdxuVJQDzCd"
   },
   "outputs": [],
   "source": [
    "# Import necessary libraries\n",
    "import os\n",
    "import numpy as np\n",
    "import pandas as pd\n",
    "from xgboost import XGBClassifier\n",
    "\n",
    "from sklearn.model_selection import KFold, RandomizedSearchCV, GridSearchCV, train_test_split, StratifiedKFold\n",
    "from sklearn.metrics import confusion_matrix, roc_curve, roc_auc_score, auc\n",
    "\n",
    "import statistics as st\n",
    "\n",
    "import warnings\n",
    "warnings.filterwarnings('ignore')\n",
    "from datetime import datetime\n",
    "\n",
    "import matplotlib.pylab as pl\n",
    "import matplotlib.pyplot as plt\n",
    "import matplotlib\n",
    "import seaborn as sns\n",
    "import shap"
   ]
  },
  {
   "cell_type": "code",
   "execution_count": null,
   "metadata": {},
   "outputs": [],
   "source": [
    "shap.initjs()\n",
    "np.random.seed(3)"
   ]
  },
  {
   "cell_type": "code",
   "execution_count": 0,
   "metadata": {
    "colab": {},
    "colab_type": "code",
    "id": "idL7xvx1D-f-"
   },
   "outputs": [],
   "source": [
    "# load JS visualization code to notebook\n",
    "shap.initjs()"
   ]
  },
  {
   "cell_type": "code",
   "execution_count": 0,
   "metadata": {
    "colab": {},
    "colab_type": "code",
    "id": "oNoGOPBuEfPF"
   },
   "outputs": [],
   "source": [
    "# Read the data\n",
    "feature_regular_df = pd.read_csv(\"/content/dota2_regular-new_features.csv\")"
   ]
  },
  {
   "cell_type": "code",
   "execution_count": 0,
   "metadata": {
    "colab": {},
    "colab_type": "code",
    "id": "OP18JpVEIhUW"
   },
   "outputs": [],
   "source": [
    "len(feature_regular_df.columns)"
   ]
  },
  {
   "cell_type": "code",
   "execution_count": 0,
   "metadata": {
    "colab": {},
    "colab_type": "code",
    "id": "iqUTqW5lEkoO"
   },
   "outputs": [],
   "source": [
    "# Drop first column (match id)\n",
    "feature_regular_df = feature_regular_df.drop(['match_id'], axis=1)"
   ]
  },
  {
   "cell_type": "code",
   "execution_count": 0,
   "metadata": {
    "colab": {},
    "colab_type": "code",
    "id": "MysZtv3kKu7f"
   },
   "outputs": [],
   "source": [
    "feature_regular_df.head()"
   ]
  },
  {
   "cell_type": "code",
   "execution_count": 0,
   "metadata": {
    "colab": {},
    "colab_type": "code",
    "id": "wGca8MePEmvV"
   },
   "outputs": [],
   "source": [
    "feature_regular_df['win_label'].value_counts()"
   ]
  },
  {
   "cell_type": "markdown",
   "metadata": {
    "colab_type": "text",
    "id": "O9tEmurVKK8t"
   },
   "source": [
    "### Model building, training, and evaluation"
   ]
  },
  {
   "cell_type": "code",
   "execution_count": 0,
   "metadata": {
    "colab": {},
    "colab_type": "code",
    "id": "MjrGpee1IhbG"
   },
   "outputs": [],
   "source": [
    "features = [c for c in feature_regular_df.columns if c != 'win_label']\n",
    "target = 'win_label'\n",
    "X, y = feature_regular_df.iloc[:,:-1],feature_regular_df.iloc[:,-1]"
   ]
  },
  {
   "cell_type": "markdown",
   "metadata": {
    "colab_type": "text",
    "id": "xX0OOomUf-Os"
   },
   "source": [
    "### Grid search to tune hyperparameters"
   ]
  },
  {
   "cell_type": "code",
   "execution_count": 0,
   "metadata": {
    "colab": {},
    "colab_type": "code",
    "id": "OmzRZ3nff1fR"
   },
   "outputs": [],
   "source": [
    "# Define a timer function\n",
    "def timer(start_time=None):\n",
    "    if not start_time:\n",
    "        start_time = datetime.now()\n",
    "        return start_time\n",
    "    elif start_time:\n",
    "        thour, temp_sec = divmod((datetime.now() - start_time).total_seconds(), 3600)\n",
    "        tmin, tsec = divmod(temp_sec, 60)\n",
    "        print('\\n Time taken: %i hours %i minutes and %s seconds.' % (thour, tmin, round(tsec, 2)))"
   ]
  },
  {
   "cell_type": "code",
   "execution_count": 0,
   "metadata": {
    "colab": {},
    "colab_type": "code",
    "id": "pnPK9MAXf-Ov"
   },
   "outputs": [],
   "source": [
    "# A parameter grid for XGBoost\n",
    "params_search = {\n",
    "        'learning_rate': [0.01, 0.05, 0.1, 0.2],\n",
    "        'gamma': [0.5, 1, 1.5, 2, 5],\n",
    "        'subsample': [0.6, 0.8, 1.0],\n",
    "        'colsample_bytree': [0.3, 0.5, 0.7],\n",
    "        'max_depth': [4, 6, 8, 10],\n",
    "        'n_estimators': [10, 50, 100]\n",
    "        }"
   ]
  },
  {
   "cell_type": "code",
   "execution_count": 0,
   "metadata": {
    "colab": {},
    "colab_type": "code",
    "id": "_55EMOmOf-O3"
   },
   "outputs": [],
   "source": [
    "xgb = XGBClassifier(objective='binary:logistic', silent=False, nthread=4)"
   ]
  },
  {
   "cell_type": "code",
   "execution_count": 0,
   "metadata": {
    "colab": {},
    "colab_type": "code",
    "id": "43Waq4CDf-O7"
   },
   "outputs": [],
   "source": [
    "train, test, train_labels, test_labels = train_test_split(X, y, \n",
    "                                                          stratify = y,\n",
    "                                                          test_size = 0.2)"
   ]
  },
  {
   "cell_type": "code",
   "execution_count": 0,
   "metadata": {
    "colab": {
     "base_uri": "https://localhost:8080/",
     "height": 85
    },
    "colab_type": "code",
    "executionInfo": {
     "elapsed": 1695546,
     "status": "ok",
     "timestamp": 1591560315784,
     "user": {
      "displayName": "Markos Viggiato De Almeida",
      "photoUrl": "",
      "userId": "15790694491473808312"
     },
     "user_tz": 360
    },
    "id": "VTAGOshGf-PA",
    "outputId": "e5094772-2eb5-4bff-f479-270f6414a5f8"
   },
   "outputs": [
    {
     "name": "stdout",
     "output_type": "stream",
     "text": [
      "Fitting 5 folds for each of 100 candidates, totalling 500 fits\n"
     ]
    },
    {
     "name": "stderr",
     "output_type": "stream",
     "text": [
      "[Parallel(n_jobs=4)]: Using backend LokyBackend with 4 concurrent workers.\n",
      "[Parallel(n_jobs=4)]: Done  42 tasks      | elapsed: 15.2min\n",
      "[Parallel(n_jobs=4)]: Done 192 tasks      | elapsed: 70.5min\n"
     ]
    }
   ],
   "source": [
    "folds = 5\n",
    "param_comb = 100\n",
    "\n",
    "# Stratified k fold is used to maintain the class distribution from the original data in each fold\n",
    "skf = StratifiedKFold(n_splits=folds, shuffle = True, random_state = 1001)\n",
    "\n",
    "# Define the model for the random search\n",
    "random_search = RandomizedSearchCV(xgb, param_distributions=params_search, n_iter=param_comb, scoring='roc_auc', n_jobs=4, cv=skf.split(train,train_labels), verbose=True)\n",
    "\n",
    "# Run random search\n",
    "start_time = timer(None) # timing starts from this point for \"start_time\" variable\n",
    "random_search.fit(train, train_labels)\n",
    "timer(start_time) # timing ends here for \"start_time\" variable"
   ]
  },
  {
   "cell_type": "code",
   "execution_count": 0,
   "metadata": {
    "colab": {
     "base_uri": "https://localhost:8080/",
     "height": 68
    },
    "colab_type": "code",
    "executionInfo": {
     "elapsed": 665,
     "status": "ok",
     "timestamp": 1591561796722,
     "user": {
      "displayName": "Markos Viggiato De Almeida",
      "photoUrl": "",
      "userId": "15790694491473808312"
     },
     "user_tz": 360
    },
    "id": "9Mn96Thbf-PE",
    "outputId": "f06eb6dd-7afd-49bb-e67f-e6da68d681b2"
   },
   "outputs": [
    {
     "name": "stdout",
     "output_type": "stream",
     "text": [
      "\n",
      " Best hyperparameters:\n",
      "{'subsample': 1.0, 'n_estimators': 100, 'max_depth': 4, 'learning_rate': 0.05, 'gamma': 1, 'colsample_bytree': 0.3}\n"
     ]
    }
   ],
   "source": [
    "print('\\n Best hyperparameters:')\n",
    "print(random_search.best_params_)"
   ]
  },
  {
   "cell_type": "markdown",
   "metadata": {
    "colab_type": "text",
    "id": "kk5cmTl1f-PH"
   },
   "source": [
    "**Best hyperparameters regular:** {'subsample': 0.8, 'n_estimators': 100, 'max_depth': 4, 'learning_rate': 0.1, 'gamma': 0.5, 'colsample_bytree': 0.5}"
   ]
  },
  {
   "cell_type": "markdown",
   "metadata": {
    "colab_type": "text",
    "id": "qao8c-b9f-PH"
   },
   "source": [
    "### Use best hyperparameters to build the model"
   ]
  },
  {
   "cell_type": "code",
   "execution_count": 0,
   "metadata": {
    "colab": {},
    "colab_type": "code",
    "id": "M7bPNzR0J7aY"
   },
   "outputs": [],
   "source": [
    "# Define the number of fold for the k-fold cross-validation\n",
    "kfolds = KFold(n_splits=10, shuffle=True)"
   ]
  },
  {
   "cell_type": "code",
   "execution_count": 0,
   "metadata": {
    "colab": {},
    "colab_type": "code",
    "id": "hAg9-q4ZgP7T"
   },
   "outputs": [],
   "source": [
    "param = {\n",
    "    'objective': 'binary:logistic',\n",
    "    'eval_metric': 'auc',\n",
    "    'subsample': 0.8,\n",
    "    'colsample_bytree': 0.5,\n",
    "    'learning_rate': 0.1,\n",
    "    'max_depth': 4,\n",
    "    'gamma': 0.5\n",
    "}\n",
    "\n",
    "# This variable corresponds to 'n_estimators' (number of trees)\n",
    "num_round = 100"
   ]
  },
  {
   "cell_type": "code",
   "execution_count": 17,
   "metadata": {
    "colab": {
     "base_uri": "https://localhost:8080/",
     "height": 34
    },
    "colab_type": "code",
    "executionInfo": {
     "elapsed": 273529,
     "status": "ok",
     "timestamp": 1591620151793,
     "user": {
      "displayName": "Markos Viggiato De Almeida",
      "photoUrl": "",
      "userId": "15790694491473808312"
     },
     "user_tz": 360
    },
    "id": "Vz7TCG0UgP7c",
    "outputId": "e17accdd-08ff-486f-c15b-1d7061d2c93b"
   },
   "outputs": [
    {
     "data": {
      "text/plain": [
       "'Median AUC: 0.6500'"
      ]
     },
     "execution_count": 17,
     "metadata": {
      "tags": []
     },
     "output_type": "execute_result"
    }
   ],
   "source": [
    "import xgboost as xgb\n",
    "\n",
    "auc = list()\n",
    "for train_idx, test_idx in kfolds.split(X):\n",
    "    X_train, y_train = X.iloc[train_idx], y.iloc[train_idx]\n",
    "    X_test, y_test = X.iloc[test_idx], y.iloc[test_idx]\n",
    "    \n",
    "    param['scale_pos_weight'] = (y_train.size - y_train.sum()) / y_train.sum()    \n",
    "    \n",
    "    xg_train = xgb.DMatrix(\n",
    "        X_train.values, feature_names=features, label=y_train.values\n",
    "    )\n",
    "    xg_test = xgb.DMatrix(\n",
    "        X_test.values, feature_names=features, label=y_test.values\n",
    "    )\n",
    "    \n",
    "    watchlist = [(xg_train, 'train'), (xg_test, 'test')]\n",
    "    bst = xgb.train(param, xg_train, num_round, watchlist, verbose_eval=False)\n",
    "    preds = bst.predict(xg_test) \n",
    "\n",
    "    auc.append(roc_auc_score(y_test, preds))\n",
    "\n",
    "'Median AUC: {:.04f}'.format(st.median(auc))\n"
   ]
  },
  {
   "cell_type": "markdown",
   "metadata": {
    "colab_type": "text",
    "id": "hvAubuJ9AhA2"
   },
   "source": [
    "### SHAP values"
   ]
  },
  {
   "cell_type": "code",
   "execution_count": 0,
   "metadata": {
    "colab": {},
    "colab_type": "code",
    "id": "NFETfIKLAc0J"
   },
   "outputs": [],
   "source": [
    "# Create the original summary plot\n",
    "# Use only the last x_test as there is little variance between the folds\n",
    "explainer = shap.TreeExplainer(bst)\n",
    "shap_values = explainer.shap_values(X_test)\n",
    "\n",
    "# Variable importance-like plot\n",
    "shap.summary_plot(shap_values, X_test, plot_type=\"bar\")"
   ]
  },
  {
   "cell_type": "code",
   "execution_count": 0,
   "metadata": {
    "colab": {},
    "colab_type": "code",
    "id": "KtbpJhGLgscI"
   },
   "outputs": [],
   "source": [
    "# Using np.abs(shap_values).mean(0) will summarize the global importance of a feature as the mean of the absolute change in the prediction\n",
    "# caused by that feature over the entire dataset. \n",
    "\n",
    "np.abs(shap_values).mean(0)"
   ]
  },
  {
   "cell_type": "code",
   "execution_count": 0,
   "metadata": {
    "colab": {},
    "colab_type": "code",
    "id": "EnxsYT9zpviT"
   },
   "outputs": [],
   "source": [
    "# Check the shape of the shap_values matrix\n",
    "shap_values.shape"
   ]
  },
  {
   "cell_type": "code",
   "execution_count": 0,
   "metadata": {
    "colab": {},
    "colab_type": "code",
    "id": "D9F6gWC2YfiL"
   },
   "outputs": [],
   "source": [
    "# Keep a backup in case it is necessary\n",
    "shap_values_backup = shap_values"
   ]
  },
  {
   "cell_type": "code",
   "execution_count": 33,
   "metadata": {
    "colab": {
     "base_uri": "https://localhost:8080/",
     "height": 34
    },
    "colab_type": "code",
    "executionInfo": {
     "elapsed": 707,
     "status": "ok",
     "timestamp": 1591620716069,
     "user": {
      "displayName": "Markos Viggiato De Almeida",
      "photoUrl": "",
      "userId": "15790694491473808312"
     },
     "user_tz": 360
    },
    "id": "hHihUwQOchBC",
    "outputId": "07d79b41-5976-4fac-dd08-63940024928d"
   },
   "outputs": [
    {
     "data": {
      "text/plain": [
       "61"
      ]
     },
     "execution_count": 33,
     "metadata": {
      "tags": []
     },
     "output_type": "execute_result"
    }
   ],
   "source": [
    "new_columns = ['heroes_r', 'heroes_d',\n",
    "               'role_carry_r', 'role_support_r', 'role_nuker_r', 'role_disabler_r', 'role_jungler_r',\n",
    "                'role_durable_r', 'role_escape_r', 'role_pusher_r', 'role_initiator_r',\n",
    "                'role_carry_d', 'role_support_d', 'role_nuker_d', 'role_disabler_d', 'role_jungler_d',\n",
    "                'role_durable_d', 'role_escape_d', 'role_pusher_d', 'role_initiator_d',\n",
    "                'strength_r', 'agility_r', 'intellig_r', 'strength_gain_r', 'agility_gain_r', 'intellig_gain_r', 'health_r', 'health_regeneration_r', 'move_speed_r',\n",
    "                'strength_d', 'agility_d', 'intellig_d', 'strength_gain_d', 'agility_gain_d', 'intellig_gain_d', 'health_d', 'health_regeneration_d', 'move_speed_d',\n",
    "                'hero_winrate_r', 'hero_winrate_d', 'player_winrate_r', 'player_winrate_d',\n",
    "                'hp_winrate_r', 'hp_xp_min_r', 'hp_gold_min_r', 'hp_death_min_r', 'hp_taken_damage_min_r', 'hp_kill_min_r', 'hp_assist_min_r', 'hp_caused_damage_min_r', 'hp_heal_min_r',\n",
    "                'hp_winrate_d', 'hp_xp_min_d', 'hp_gold_min_d', 'hp_death_min_d', 'hp_taken_damage_min_d', 'hp_kill_min_d', 'hp_assist_min_d', 'hp_caused_damage_min_d', 'hp_heal_min_d',\n",
    "                'first_pick']\n",
    "\n",
    "len(new_columns)"
   ]
  },
  {
   "cell_type": "code",
   "execution_count": 0,
   "metadata": {
    "colab": {},
    "colab_type": "code",
    "id": "_CqI8CrrYLND"
   },
   "outputs": [],
   "source": [
    "# Create new shap values matrix\n",
    "shap_values_new = pd.DataFrame(columns=new_columns)\n",
    "print(shap_values_new.shape)\n",
    "\n",
    "for row in range(len(shap_values)):\n",
    "    print(row)\n",
    "\n",
    "    # hero binary array\n",
    "    sum_hero_rad = 0\n",
    "    for col in range(119):\n",
    "    sum_hero_rad = sum_hero_rad + shap_values[row, col]\n",
    "    \n",
    "    sum_hero_dire = 0\n",
    "    for col in range(119,238):\n",
    "    sum_hero_dire = sum_hero_dire + shap_values[row, col]\n",
    "\n",
    "    # base and gain stats\n",
    "    \n",
    "    # RADIANT\n",
    "    index_base_str_rad = [18+238, 27+238, 36+238, 45+238, 54+238]\n",
    "    index_base_agi_rad = [x + 1 for x in index_base_str_rad] \n",
    "    index_base_int_rad = [x + 1 for x in index_base_agi_rad] \n",
    "    index_str_gain_rad = [x + 1 for x in index_base_int_rad] \n",
    "    index_agi_gain_rad = [x + 1 for x in index_str_gain_rad] \n",
    "    index_int_gain_rad = [x + 1 for x in index_agi_gain_rad]\n",
    "    index_base_health_rad = [x + 1 for x in index_int_gain_rad]\n",
    "    index_base_health_reg_rad = [x + 1 for x in index_base_health_rad]\n",
    "    index_move_speed_rad = [x + 1 for x in index_base_health_reg_rad]\n",
    "\n",
    "    sum_base_str_rad = 0\n",
    "    for col in index_base_str_rad:\n",
    "    sum_base_str_rad = sum_base_str_rad + shap_values[row, col] \n",
    "\n",
    "    sum_base_agi_rad = 0\n",
    "    for col in index_base_agi_rad:\n",
    "    sum_base_agi_rad = sum_base_agi_rad + shap_values[row, col]\n",
    "\n",
    "    sum_base_int_rad = 0\n",
    "    for col in index_base_int_rad:\n",
    "    sum_base_int_rad = sum_base_int_rad + shap_values[row, col]\n",
    "\n",
    "    sum_str_gain_rad = 0\n",
    "    for col in index_str_gain_rad:\n",
    "    sum_str_gain_rad = sum_str_gain_rad + shap_values[row, col]\n",
    "\n",
    "    sum_agi_gain_rad = 0\n",
    "    for col in index_agi_gain_rad:\n",
    "    sum_agi_gain_rad = sum_agi_gain_rad + shap_values[row, col]\n",
    "\n",
    "    sum_int_gain_rad = 0\n",
    "    for col in index_int_gain_rad:\n",
    "    sum_int_gain_rad = sum_int_gain_rad + shap_values[row, col]\n",
    "\n",
    "    sum_base_health_rad = 0\n",
    "    for col in index_base_health_rad:\n",
    "    sum_base_health_rad = sum_base_health_rad + shap_values[row, col]\n",
    "\n",
    "    sum_base_health_reg_rad = 0\n",
    "    for col in index_base_health_reg_rad:\n",
    "    sum_base_health_reg_rad = sum_base_health_reg_rad + shap_values[row, col]\n",
    "\n",
    "    sum_move_speed_rad = 0\n",
    "    for col in index_move_speed_rad:\n",
    "    sum_move_speed_rad = sum_move_speed_rad + shap_values[row, col]  \n",
    "\n",
    "    # DIRE\n",
    "    index_base_str_dire = [63+238, 72+238, 81+238, 90+238, 99+238]\n",
    "    index_base_agi_dire = [x + 1 for x in index_base_str_dire] \n",
    "    index_base_int_dire = [x + 1 for x in index_base_agi_dire] \n",
    "    index_str_gain_dire = [x + 1 for x in index_base_int_dire] \n",
    "    index_agi_gain_dire = [x + 1 for x in index_str_gain_dire] \n",
    "    index_int_gain_dire = [x + 1 for x in index_agi_gain_dire]\n",
    "    index_base_health_dire = [x + 1 for x in index_int_gain_dire]\n",
    "    index_base_health_reg_dire = [x + 1 for x in index_base_health_dire]\n",
    "    index_move_speed_dire = [x + 1 for x in index_base_health_reg_dire]\n",
    "\n",
    "    sum_base_str_dire = 0\n",
    "    for col in index_base_str_dire:\n",
    "    sum_base_str_dire = sum_base_str_dire + shap_values[row, col] \n",
    "\n",
    "    sum_base_agi_dire = 0\n",
    "    for col in index_base_agi_dire:\n",
    "    sum_base_agi_dire = sum_base_agi_dire + shap_values[row, col]\n",
    "\n",
    "    sum_base_int_dire = 0\n",
    "    for col in index_base_int_dire:\n",
    "    sum_base_int_dire = sum_base_int_dire + shap_values[row, col]\n",
    "\n",
    "    sum_str_gain_dire = 0\n",
    "    for col in index_str_gain_dire:\n",
    "    sum_str_gain_dire = sum_str_gain_dire + shap_values[row, col]\n",
    "\n",
    "    sum_agi_gain_dire = 0\n",
    "    for col in index_agi_gain_dire:\n",
    "    sum_agi_gain_dire = sum_agi_gain_dire + shap_values[row, col]\n",
    "\n",
    "    sum_int_gain_dire = 0\n",
    "    for col in index_int_gain_dire:\n",
    "    sum_int_gain_dire = sum_int_gain_dire + shap_values[row, col]\n",
    "\n",
    "    sum_base_health_dire = 0\n",
    "    for col in index_base_health_dire:\n",
    "    sum_base_health_dire = sum_base_health_dire + shap_values[row, col]\n",
    "\n",
    "    sum_base_health_reg_dire = 0\n",
    "    for col in index_base_health_reg_dire:\n",
    "    sum_base_health_reg_dire = sum_base_health_reg_dire + shap_values[row, col]\n",
    "\n",
    "    sum_move_speed_dire = 0\n",
    "    for col in index_move_speed_dire:\n",
    "    sum_move_speed_dire = sum_move_speed_dire + shap_values[row, col]\n",
    "\n",
    "\n",
    "    # Win rate historical stats for heroes and players\n",
    "    \n",
    "    index_winrate_rad = list(range(108+238,113+238))\n",
    "    sum_winrate_rad = 0\n",
    "    for col in index_winrate_rad:\n",
    "    sum_winrate_rad = sum_winrate_rad + shap_values[row, col]\n",
    "\n",
    "    index_winrate_dire = list(range(113+238,118+238))\n",
    "    sum_winrate_dire = 0\n",
    "    for col in index_winrate_dire:\n",
    "    sum_winrate_dire = sum_winrate_dire + shap_values[row, col]\n",
    "\n",
    "    index_winrate_player_rad = list(range(118+238,123+238))\n",
    "    winrate_player_rad = 0\n",
    "    for col in index_winrate_player_rad:\n",
    "    winrate_player_rad = winrate_player_rad + shap_values[row, col]\n",
    "\n",
    "    index_winrate_player_dire = list(range(123+238,128+238))\n",
    "    winrate_player_dire = 0\n",
    "    for col in index_winrate_player_dire:\n",
    "    winrate_player_dire = winrate_player_dire + shap_values[row, col]\n",
    "\n",
    "    # Win rate historical stats for hero-player tuple\n",
    "    \n",
    "    # RADIANT\n",
    "    index_winrate_hp_rad = list(range(128+238,133+238))\n",
    "    winrate_hp_rad = 0\n",
    "    for col in index_winrate_hp_rad:\n",
    "    winrate_hp_rad = winrate_hp_rad + shap_values[row, col]\n",
    "\n",
    "    index_xpm_hp_rad = list(range(133+238,138+238))\n",
    "    xpm_hp_rad = 0\n",
    "    for col in index_xpm_hp_rad:\n",
    "    xpm_hp_rad = xpm_hp_rad + shap_values[row, col]\n",
    "\n",
    "    index_goldm_hp_rad = list(range(138+238,143+238))\n",
    "    goldm_hp_rad = 0\n",
    "    for col in index_goldm_hp_rad:\n",
    "    goldm_hp_rad = goldm_hp_rad + shap_values[row, col]\n",
    "\n",
    "    index_deathsm_hp_rad = list(range(143+238,148+238))\n",
    "    deathsm_hp_rad = 0\n",
    "    for col in index_deathsm_hp_rad:\n",
    "    deathsm_hp_rad = deathsm_hp_rad + shap_values[row, col]\n",
    "\n",
    "    index_damagem_hp_rad = list(range(148+238,153+238))\n",
    "    damagem_hp_rad = 0\n",
    "    for col in index_damagem_hp_rad:\n",
    "    damagem_hp_rad = damagem_hp_rad + shap_values[row, col]\n",
    "\n",
    "    index_killm_hp_rad = list(range(153+238,158+238))\n",
    "    killm_hp_rad = 0\n",
    "    for col in index_killm_hp_rad:\n",
    "    killm_hp_rad = killm_hp_rad + shap_values[row, col]\n",
    "\n",
    "    index_assistm_hp_rad = list(range(158+238,163+238))\n",
    "    assistm_hp_rad = 0\n",
    "    for col in index_assistm_hp_rad:\n",
    "    assistm_hp_rad = assistm_hp_rad + shap_values[row, col]\n",
    "\n",
    "    index_hero_damagem_hp_rad = list(range(163+238,168+238))\n",
    "    herodamagem_hp_rad = 0\n",
    "    for col in index_hero_damagem_hp_rad:\n",
    "    herodamagem_hp_rad = herodamagem_hp_rad + shap_values[row, col]\n",
    "\n",
    "    index_healm_hp_rad = list(range(168+238,173+238))\n",
    "    healm_hp_rad = 0\n",
    "    for col in index_healm_hp_rad:\n",
    "    healm_hp_rad = healm_hp_rad + shap_values[row, col]\n",
    "\n",
    "\n",
    "    # DIRE\n",
    "    index_winrate_hp_dire = list(range(173+238,178+238))\n",
    "    winrate_hp_dire = 0\n",
    "    for col in index_winrate_hp_dire:\n",
    "    winrate_hp_dire = winrate_hp_dire + shap_values[row, col]\n",
    "\n",
    "    index_xpm_hp_dire = list(range(178+238,183+238))\n",
    "    xpm_hp_dire = 0\n",
    "    for col in index_xpm_hp_dire:\n",
    "    xpm_hp_dire = xpm_hp_dire + shap_values[row, col]\n",
    "\n",
    "    index_goldm_hp_dire = list(range(183+238,188+238))\n",
    "    goldm_hp_dire = 0\n",
    "    for col in index_goldm_hp_dire:\n",
    "    goldm_hp_dire = goldm_hp_dire + shap_values[row, col]\n",
    "\n",
    "    index_deathsm_hp_dire = list(range(188+238,193+238))\n",
    "    deathsm_hp_dire = 0\n",
    "    for col in index_deathsm_hp_rad:\n",
    "    deathsm_hp_dire = deathsm_hp_dire + shap_values[row, col]\n",
    "\n",
    "    index_damagem_hp_dire = list(range(193+238,198+238))\n",
    "    damagem_hp_dire = 0\n",
    "    for col in index_damagem_hp_rad:\n",
    "    damagem_hp_dire = damagem_hp_dire + shap_values[row, col]\n",
    "\n",
    "    index_killm_hp_dire = list(range(198+238,203+238))\n",
    "    killm_hp_dire = 0\n",
    "    for col in index_killm_hp_dire:\n",
    "    killm_hp_dire = killm_hp_dire + shap_values[row, col]\n",
    "\n",
    "    index_assistm_hp_dire = list(range(203+238,208+238))\n",
    "    assistm_hp_dire = 0\n",
    "    for col in index_assistm_hp_dire:\n",
    "    assistm_hp_dire = assistm_hp_dire + shap_values[row, col]\n",
    "\n",
    "    index_damagem_hp_dire = list(range(208+238,213+238))\n",
    "    herodamagem_hp_dire = 0\n",
    "    for col in index_damagem_hp_dire:\n",
    "    herodamagem_hp_dire = herodamagem_hp_dire + shap_values[row, col]\n",
    "\n",
    "    index_healm_hp_dire = list(range(213+238,218+238))\n",
    "    healm_hp_dire = 0\n",
    "    for col in index_healm_hp_dire:\n",
    "    healm_hp_dire = healm_hp_dire + shap_values[row, col]\n",
    "  \n",
    "    new_row = [sum_hero_rad] + [sum_hero_dire] + list(shap_values[row, 238:256]) + [sum_base_str_rad] + [sum_base_agi_rad] + [sum_base_int_rad] + [sum_str_gain_rad] + [sum_agi_gain_rad] + [sum_int_gain_rad] + [sum_base_health_rad] + [sum_base_health_reg_rad] + [sum_move_speed_rad] + [sum_base_str_dire] + [sum_base_agi_dire] + [sum_base_int_dire] + [sum_str_gain_dire] + [sum_agi_gain_dire] + [sum_int_gain_dire] + [sum_base_health_dire] + [sum_base_health_reg_dire] + [sum_move_speed_dire] + [sum_winrate_rad] + [sum_winrate_dire] + [winrate_player_rad] + [winrate_player_dire] + [winrate_hp_rad] + [xpm_hp_rad] + [goldm_hp_rad] + [deathsm_hp_rad] + [damagem_hp_rad] + [killm_hp_rad] + [assistm_hp_rad] + [herodamagem_hp_rad] + [healm_hp_rad] + [winrate_hp_dire] + [xpm_hp_dire] + [goldm_hp_dire] + [deathsm_hp_dire] + [damagem_hp_dire] + [killm_hp_dire] + [assistm_hp_dire] + [herodamagem_hp_dire] + [healm_hp_dire] + [shap_values[row,198]]\n",
    "\n",
    "    print(len(new_row))\n",
    "\n",
    "    shap_values_new.loc[row] = new_row"
   ]
  },
  {
   "cell_type": "code",
   "execution_count": 35,
   "metadata": {
    "colab": {
     "base_uri": "https://localhost:8080/",
     "height": 34
    },
    "colab_type": "code",
    "executionInfo": {
     "elapsed": 1189,
     "status": "ok",
     "timestamp": 1591620758497,
     "user": {
      "displayName": "Markos Viggiato De Almeida",
      "photoUrl": "",
      "userId": "15790694491473808312"
     },
     "user_tz": 360
    },
    "id": "HnE6ut_OW4-D",
    "outputId": "9392e6bf-a546-402f-ae30-489218f410af"
   },
   "outputs": [
    {
     "data": {
      "text/plain": [
       "(3634, 61)"
      ]
     },
     "execution_count": 35,
     "metadata": {
      "tags": []
     },
     "output_type": "execute_result"
    }
   ],
   "source": [
    "# Check the shape of the new shap values matrix\n",
    "shap_values_new.shape"
   ]
  },
  {
   "cell_type": "code",
   "execution_count": 0,
   "metadata": {
    "colab": {},
    "colab_type": "code",
    "id": "6K3sPl_GcAdE"
   },
   "outputs": [],
   "source": [
    "#Convert to numpy\n",
    "shap_values_new = shap_values_new.to_numpy()"
   ]
  },
  {
   "cell_type": "code",
   "execution_count": 0,
   "metadata": {
    "colab": {},
    "colab_type": "code",
    "id": "Pw0hbNI440i5"
   },
   "outputs": [],
   "source": [
    "# Modify X_test accordingly\n",
    "\n",
    "X_test_new = pd.DataFrame(columns=new_columns)\n",
    "print(X_test_new.shape)\n",
    "for row in range(len(X_test)):\n",
    "\n",
    "    # hero binary array\n",
    "    sum_hero_rad = 0\n",
    "    for col in range(119):\n",
    "    sum_hero_rad = sum_hero_rad + X_test.iloc[row, col]\n",
    "    sum_hero_dire = 0\n",
    "    for col in range(119,238):\n",
    "    sum_hero_dire = sum_hero_dire + X_test.iloc[row, col]\n",
    "\n",
    "\n",
    "    # base and gain stats\n",
    "    \n",
    "    # RADIANT\n",
    "    index_base_str_rad = [18+238, 27+238, 36+238, 45+238, 54+238]\n",
    "    index_base_agi_rad = [x + 1 for x in index_base_str_rad] \n",
    "    index_base_int_rad = [x + 1 for x in index_base_agi_rad] \n",
    "    index_str_gain_rad = [x + 1 for x in index_base_int_rad] \n",
    "    index_agi_gain_rad = [x + 1 for x in index_str_gain_rad] \n",
    "    index_int_gain_rad = [x + 1 for x in index_agi_gain_rad]\n",
    "    index_base_health_rad = [x + 1 for x in index_int_gain_rad]\n",
    "    index_base_health_reg_rad = [x + 1 for x in index_base_health_rad]\n",
    "    index_move_speed_rad = [x + 1 for x in index_base_health_reg_rad]\n",
    "\n",
    "    sum_base_str_rad = 0\n",
    "    for col in index_base_str_rad:\n",
    "    sum_base_str_rad = sum_base_str_rad + X_test.iloc[row, col] \n",
    "\n",
    "    sum_base_agi_rad = 0\n",
    "    for col in index_base_agi_rad:\n",
    "    sum_base_agi_rad = sum_base_agi_rad + X_test.iloc[row, col]\n",
    "\n",
    "    sum_base_int_rad = 0\n",
    "    for col in index_base_int_rad:\n",
    "    sum_base_int_rad = sum_base_int_rad + X_test.iloc[row, col]\n",
    "\n",
    "    sum_str_gain_rad = 0\n",
    "    for col in index_str_gain_rad:\n",
    "    sum_str_gain_rad = sum_str_gain_rad + X_test.iloc[row, col]\n",
    "\n",
    "    sum_agi_gain_rad = 0\n",
    "    for col in index_agi_gain_rad:\n",
    "    sum_agi_gain_rad = sum_agi_gain_rad + X_test.iloc[row, col]\n",
    "\n",
    "    sum_int_gain_rad = 0\n",
    "    for col in index_int_gain_rad:\n",
    "    sum_int_gain_rad = sum_int_gain_rad + X_test.iloc[row, col]\n",
    "\n",
    "    sum_base_health_rad = 0\n",
    "    for col in index_base_health_rad:\n",
    "    sum_base_health_rad = sum_base_health_rad + X_test.iloc[row, col]\n",
    "\n",
    "    sum_base_health_reg_rad = 0\n",
    "    for col in index_base_health_reg_rad:\n",
    "    sum_base_health_reg_rad = sum_base_health_reg_rad + X_test.iloc[row, col]\n",
    "\n",
    "    sum_move_speed_rad = 0\n",
    "    for col in index_move_speed_rad:\n",
    "    sum_move_speed_rad = sum_move_speed_rad + X_test.iloc[row, col]  \n",
    "\n",
    "    # DIRE\n",
    "    index_base_str_dire = [63+238, 72+238, 81+238, 90+238, 99+238]\n",
    "    index_base_agi_dire = [x + 1 for x in index_base_str_dire] \n",
    "    index_base_int_dire = [x + 1 for x in index_base_agi_dire] \n",
    "    index_str_gain_dire = [x + 1 for x in index_base_int_dire] \n",
    "    index_agi_gain_dire = [x + 1 for x in index_str_gain_dire] \n",
    "    index_int_gain_dire = [x + 1 for x in index_agi_gain_dire]\n",
    "    index_base_health_dire = [x + 1 for x in index_int_gain_dire]\n",
    "    index_base_health_reg_dire = [x + 1 for x in index_base_health_dire]\n",
    "    index_move_speed_dire = [x + 1 for x in index_base_health_reg_dire]\n",
    "\n",
    "    sum_base_str_dire = 0\n",
    "    for col in index_base_str_dire:\n",
    "    sum_base_str_dire = sum_base_str_dire + X_test.iloc[row, col] \n",
    "\n",
    "    sum_base_agi_dire = 0\n",
    "    for col in index_base_agi_dire:\n",
    "    sum_base_agi_dire = sum_base_agi_dire + X_test.iloc[row, col]\n",
    "\n",
    "    sum_base_int_dire = 0\n",
    "    for col in index_base_int_dire:\n",
    "    sum_base_int_dire = sum_base_int_dire + X_test.iloc[row, col]\n",
    "\n",
    "    sum_str_gain_dire = 0\n",
    "    for col in index_str_gain_dire:\n",
    "    sum_str_gain_dire = sum_str_gain_dire + X_test.iloc[row, col]\n",
    "\n",
    "    sum_agi_gain_dire = 0\n",
    "    for col in index_agi_gain_dire:\n",
    "    sum_agi_gain_dire = sum_agi_gain_dire + X_test.iloc[row, col]\n",
    "\n",
    "    sum_int_gain_dire = 0\n",
    "    for col in index_int_gain_dire:\n",
    "    sum_int_gain_dire = sum_int_gain_dire + X_test.iloc[row, col]\n",
    "\n",
    "    sum_base_health_dire = 0\n",
    "    for col in index_base_health_dire:\n",
    "    sum_base_health_dire = sum_base_health_dire + X_test.iloc[row, col]\n",
    "\n",
    "    sum_base_health_reg_dire = 0\n",
    "    for col in index_base_health_reg_dire:\n",
    "    sum_base_health_reg_dire = sum_base_health_reg_dire + X_test.iloc[row, col]\n",
    "\n",
    "    sum_move_speed_dire = 0\n",
    "    for col in index_move_speed_dire:\n",
    "    sum_move_speed_dire = sum_move_speed_dire + X_test.iloc[row, col]\n",
    "\n",
    "    # Win rate historical stats for heroes and players\n",
    "    \n",
    "    index_winrate_rad = list(range(108+238,113+238))\n",
    "    sum_winrate_rad = 0\n",
    "    for col in index_winrate_rad:\n",
    "    sum_winrate_rad = sum_winrate_rad + X_test.iloc[row, col]\n",
    "\n",
    "    index_winrate_dire = list(range(113+238,118+238))\n",
    "    sum_winrate_dire = 0\n",
    "    for col in index_winrate_dire:\n",
    "    sum_winrate_dire = sum_winrate_dire + X_test.iloc[row, col]\n",
    "\n",
    "    index_winrate_player_rad = list(range(118+238,123+238))\n",
    "    winrate_player_rad = 0\n",
    "    for col in index_winrate_player_rad:\n",
    "    winrate_player_rad = winrate_player_rad + X_test.iloc[row, col]\n",
    "\n",
    "    index_winrate_player_dire = list(range(123+238,128+238))\n",
    "    winrate_player_dire = 0\n",
    "    for col in index_winrate_player_dire:\n",
    "    winrate_player_dire = winrate_player_dire + X_test.iloc[row, col]\n",
    "\n",
    "\n",
    "    # Win rate historical stats for hero-player tuple\n",
    "    \n",
    "    # RADIANT\n",
    "    index_winrate_hp_rad = list(range(128+238,133+238))\n",
    "    winrate_hp_rad = 0\n",
    "    for col in index_winrate_hp_rad:\n",
    "    winrate_hp_rad = winrate_hp_rad + X_test.iloc[row, col]\n",
    "\n",
    "    index_xpm_hp_rad = list(range(133+238,138+238))\n",
    "    xpm_hp_rad = 0\n",
    "    for col in index_xpm_hp_rad:\n",
    "    xpm_hp_rad = xpm_hp_rad + X_test.iloc[row, col]\n",
    "\n",
    "    index_goldm_hp_rad = list(range(138+238,143+238))\n",
    "    goldm_hp_rad = 0\n",
    "    for col in index_goldm_hp_rad:\n",
    "    goldm_hp_rad = goldm_hp_rad + X_test.iloc[row, col]\n",
    "\n",
    "    index_deathsm_hp_rad = list(range(143+238,148+238))\n",
    "    deathsm_hp_rad = 0\n",
    "    for col in index_deathsm_hp_rad:\n",
    "    deathsm_hp_rad = deathsm_hp_rad + X_test.iloc[row, col]\n",
    "\n",
    "    index_damagem_hp_rad = list(range(148+238,153+238))\n",
    "    damagem_hp_rad = 0\n",
    "    for col in index_damagem_hp_rad:\n",
    "    damagem_hp_rad = damagem_hp_rad + X_test.iloc[row, col]\n",
    "\n",
    "    index_killm_hp_rad = list(range(153+238,158+238))\n",
    "    killm_hp_rad = 0\n",
    "    for col in index_killm_hp_rad:\n",
    "    killm_hp_rad = killm_hp_rad + X_test.iloc[row, col]\n",
    "\n",
    "    index_assistm_hp_rad = list(range(158+238,163+238))\n",
    "    assistm_hp_rad = 0\n",
    "    for col in index_assistm_hp_rad:\n",
    "    assistm_hp_rad = assistm_hp_rad + X_test.iloc[row, col]\n",
    "\n",
    "    index_damagem_hp_rad = list(range(163+238,168+238))\n",
    "    herodamagem_hp_rad = 0\n",
    "    for col in index_damagem_hp_rad:\n",
    "    herodamagem_hp_rad = herodamagem_hp_rad + X_test.iloc[row, col]\n",
    "\n",
    "    index_healm_hp_rad = list(range(168+238,173+238))\n",
    "    healm_hp_rad = 0\n",
    "    for col in index_healm_hp_rad:\n",
    "    healm_hp_rad = healm_hp_rad + X_test.iloc[row, col]\n",
    "\n",
    "    # DIRE\n",
    "    index_winrate_hp_dire = list(range(173+238,178+238))\n",
    "    winrate_hp_dire = 0\n",
    "    for col in index_winrate_hp_dire:\n",
    "    winrate_hp_dire = winrate_hp_dire + X_test.iloc[row, col]\n",
    "\n",
    "    index_xpm_hp_dire = list(range(178+238,183+238))\n",
    "    xpm_hp_dire = 0\n",
    "    for col in index_xpm_hp_dire:\n",
    "    xpm_hp_dire = xpm_hp_dire + X_test.iloc[row, col]\n",
    "\n",
    "    index_goldm_hp_dire = list(range(183+238,188+238))\n",
    "    goldm_hp_dire = 0\n",
    "    for col in index_goldm_hp_dire:\n",
    "    goldm_hp_dire = goldm_hp_dire + X_test.iloc[row, col]\n",
    "\n",
    "    index_deathsm_hp_dire = list(range(188+238,193+238))\n",
    "    deathsm_hp_rad = 0\n",
    "    for col in index_deathsm_hp_rad:\n",
    "    deathsm_hp_rad = deathsm_hp_rad + X_test.iloc[row, col]\n",
    "\n",
    "    index_damagem_hp_dire = list(range(193+238,198+238))\n",
    "    damagem_hp_rad = 0\n",
    "    for col in index_damagem_hp_rad:\n",
    "    damagem_hp_rad = damagem_hp_rad + X_test.iloc[row, col]\n",
    "\n",
    "    index_killm_hp_dire = list(range(198+238,203+238))\n",
    "    killm_hp_dire = 0\n",
    "    for col in index_killm_hp_dire:\n",
    "    killm_hp_dire = killm_hp_dire + X_test.iloc[row, col]\n",
    "\n",
    "    index_assistm_hp_dire = list(range(203+238,208+238))\n",
    "    assistm_hp_dire = 0\n",
    "    for col in index_assistm_hp_dire:\n",
    "    assistm_hp_dire = assistm_hp_dire + X_test.iloc[row, col]\n",
    "\n",
    "    index_damagem_hp_dire = list(range(208+238,213+238))\n",
    "    herodamagem_hp_dire = 0\n",
    "    for col in index_damagem_hp_dire:\n",
    "    herodamagem_hp_dire = herodamagem_hp_dire + X_test.iloc[row, col]\n",
    "\n",
    "    index_healm_hp_dire = list(range(213+238,218+238))\n",
    "    healm_hp_dire = 0\n",
    "    for col in index_healm_hp_dire:\n",
    "    healm_hp_dire = healm_hp_dire + X_test.iloc[row, col]\n",
    "  \n",
    "    new_row = [sum_hero_rad] + [sum_hero_dire] + list(X_test.iloc[row, 238:256]) + [sum_base_str_rad] + [sum_base_agi_rad] + [sum_base_int_rad] + [sum_str_gain_rad] + [sum_agi_gain_rad] + [sum_int_gain_rad] + [sum_base_health_rad] + [sum_base_health_reg_rad] + [sum_move_speed_rad] + [sum_base_str_dire] + [sum_base_agi_dire] + [sum_base_int_dire] + [sum_str_gain_dire] + [sum_agi_gain_dire] + [sum_int_gain_dire] + [sum_base_health_dire] + [sum_base_health_reg_dire] + [sum_move_speed_dire] + [sum_winrate_rad] + [sum_winrate_dire] + [winrate_player_rad] + [winrate_player_dire] + [winrate_hp_rad] + [xpm_hp_rad] + [goldm_hp_rad] + [deathsm_hp_rad] + [damagem_hp_rad] + [killm_hp_rad] + [assistm_hp_rad] + [herodamagem_hp_rad] + [healm_hp_rad] + [winrate_hp_dire] + [xpm_hp_dire] + [goldm_hp_dire] + [deathsm_hp_dire] + [damagem_hp_dire] + [killm_hp_dire] + [assistm_hp_dire] + [herodamagem_hp_dire] + [healm_hp_dire] + [X_test.iloc[row,198]]\n",
    "\n",
    "    print(len(new_row))\n",
    "    X_test_new.loc[row] = new_row"
   ]
  },
  {
   "cell_type": "code",
   "execution_count": 39,
   "metadata": {
    "colab": {
     "base_uri": "https://localhost:8080/",
     "height": 34
    },
    "colab_type": "code",
    "executionInfo": {
     "elapsed": 818,
     "status": "ok",
     "timestamp": 1591620806652,
     "user": {
      "displayName": "Markos Viggiato De Almeida",
      "photoUrl": "",
      "userId": "15790694491473808312"
     },
     "user_tz": 360
    },
    "id": "d8v8iwibgjFa",
    "outputId": "8c656602-9400-47e4-a925-5002045624ec"
   },
   "outputs": [
    {
     "data": {
      "text/plain": [
       "(3634, 61)"
      ]
     },
     "execution_count": 39,
     "metadata": {
      "tags": []
     },
     "output_type": "execute_result"
    }
   ],
   "source": [
    "# Fill in missing values with the median\n",
    "X_test_new = X_test_new.fillna(X_test_new.median())\n",
    "X_test_new.shape"
   ]
  },
  {
   "cell_type": "code",
   "execution_count": 0,
   "metadata": {
    "colab": {},
    "colab_type": "code",
    "id": "QMfXY5m2oIIs"
   },
   "outputs": [],
   "source": [
    "# Generate summary plot with proper plot configurations\n",
    "\n",
    "matplotlib.rcParams.update(matplotlib.rcParamsDefault)\n",
    "plt.rcParams[\"font.weight\"] = \"bold\"\n",
    "\n",
    "fig = shap.summary_plot(shap_values_new, X_test_new, show=False)  \n",
    "plt.xlabel('')\n",
    "plt.xticks(fontsize=18)\n",
    "plt.yticks(fontsize=22)\n",
    "plt.savefig('shapvalues_regular_newdata_bold.pdf', bbox_inches = \"tight\")"
   ]
  },
  {
   "cell_type": "code",
   "execution_count": 0,
   "metadata": {
    "colab": {},
    "colab_type": "code",
    "id": "gKA_WvB7_CPw"
   },
   "outputs": [],
   "source": [
    "# Generate barplot with proper plot configurations\n",
    "\n",
    "matplotlib.rcParams.update(matplotlib.rcParamsDefault)\n",
    "plt.rcParams[\"font.weight\"] = \"bold\"\n",
    "\n",
    "fig = shap.summary_plot(shap_values_new, X_test_new, plot_type=\"bar\", show=False) \n",
    "size = plt.gcf().get_size_inches()\n",
    "print(size) \n",
    "plt.gcf().set_size_inches(9, 13)\n",
    "plt.xlabel('')\n",
    "plt.xticks(fontsize=21)\n",
    "plt.yticks(fontsize=24)\n",
    "plt.savefig('shapvalues_regular_newdata_barplot_bold.pdf', bbox_inches = \"tight\")"
   ]
  },
  {
   "cell_type": "code",
   "execution_count": 0,
   "metadata": {
    "colab": {},
    "colab_type": "code",
    "id": "KJRCb-bOiFVm"
   },
   "outputs": [],
   "source": [
    "max(np.abs(shap_values_new).mean(0))"
   ]
  },
  {
   "cell_type": "markdown",
   "metadata": {
    "colab_type": "text",
    "id": "wtdy-JhUIOyA"
   },
   "source": [
    "### TIME BLOWOUT MATCHES"
   ]
  },
  {
   "cell_type": "code",
   "execution_count": 0,
   "metadata": {
    "colab": {},
    "colab_type": "code",
    "id": "sqktHDxsRV-I"
   },
   "outputs": [],
   "source": [
    "# Import necessary libraries\n",
    "import os\n",
    "import numpy as np\n",
    "import pandas as pd\n",
    "from xgboost import XGBClassifier\n",
    "\n",
    "from sklearn.model_selection import KFold, RandomizedSearchCV, GridSearchCV, train_test_split, StratifiedKFold\n",
    "from sklearn.metrics import confusion_matrix, roc_curve, roc_auc_score, auc\n",
    "\n",
    "import statistics as st\n",
    "\n",
    "import warnings\n",
    "warnings.filterwarnings('ignore')\n",
    "from datetime import datetime\n",
    "\n",
    "import matplotlib.pylab as pl\n",
    "import matplotlib.pyplot as plt\n",
    "import matplotlib\n",
    "import seaborn as sns\n",
    "import shap"
   ]
  },
  {
   "cell_type": "code",
   "execution_count": null,
   "metadata": {},
   "outputs": [],
   "source": [
    "shap.initjs()\n",
    "np.random.seed(3)"
   ]
  },
  {
   "cell_type": "code",
   "execution_count": null,
   "metadata": {},
   "outputs": [],
   "source": [
    "# load JS visualization code to notebook\n",
    "shap.initjs()"
   ]
  },
  {
   "cell_type": "code",
   "execution_count": 0,
   "metadata": {
    "colab": {},
    "colab_type": "code",
    "id": "7O5sO4AJiFIz"
   },
   "outputs": [],
   "source": [
    "# Read the data\n",
    "feature_time_blowout_df = pd.read_csv(\"/content/dota2_time_blowout_features.csv\")"
   ]
  },
  {
   "cell_type": "code",
   "execution_count": null,
   "metadata": {},
   "outputs": [],
   "source": [
    "len(feature_regular_df.columns)"
   ]
  },
  {
   "cell_type": "code",
   "execution_count": 0,
   "metadata": {
    "colab": {},
    "colab_type": "code",
    "id": "4aDnZNnpiFI-"
   },
   "outputs": [],
   "source": [
    "# Drop first column (match id)\n",
    "feature_time_blowout_df = feature_time_blowout_df.drop(['match_id'], axis=1)"
   ]
  },
  {
   "cell_type": "code",
   "execution_count": 0,
   "metadata": {
    "colab": {},
    "colab_type": "code",
    "id": "ZJkQNZZOiFJD"
   },
   "outputs": [],
   "source": [
    "feature_time_blowout_df.head()"
   ]
  },
  {
   "cell_type": "code",
   "execution_count": 0,
   "metadata": {
    "colab": {},
    "colab_type": "code",
    "id": "kUF5Px2_iFJI"
   },
   "outputs": [],
   "source": [
    "feature_time_blowout_df['win_label'].value_counts()"
   ]
  },
  {
   "cell_type": "markdown",
   "metadata": {
    "colab_type": "text",
    "id": "PxmooY4FiFJQ"
   },
   "source": [
    "### Model building, training, and evaluation"
   ]
  },
  {
   "cell_type": "code",
   "execution_count": 0,
   "metadata": {
    "colab": {},
    "colab_type": "code",
    "id": "ZKS0eEJMiFJQ"
   },
   "outputs": [],
   "source": [
    "features = [c for c in feature_time_blowout_df.columns if c != 'win_label']\n",
    "target = 'win_label'\n",
    "X, y = feature_time_blowout_df.iloc[:,:-1],feature_time_blowout_df.iloc[:,-1]"
   ]
  },
  {
   "cell_type": "markdown",
   "metadata": {
    "colab_type": "text",
    "id": "znKW6mrnRl1v"
   },
   "source": [
    "### Grid search to tune hyperparameters"
   ]
  },
  {
   "cell_type": "code",
   "execution_count": 0,
   "metadata": {
    "colab": {},
    "colab_type": "code",
    "id": "ATTbCcf5Rdac"
   },
   "outputs": [],
   "source": [
    "# Define a timer function\n",
    "def timer(start_time=None):\n",
    "    if not start_time:\n",
    "        start_time = datetime.now()\n",
    "        return start_time\n",
    "    elif start_time:\n",
    "        thour, temp_sec = divmod((datetime.now() - start_time).total_seconds(), 3600)\n",
    "        tmin, tsec = divmod(temp_sec, 60)\n",
    "        print('\\n Time taken: %i hours %i minutes and %s seconds.' % (thour, tmin, round(tsec, 2)))"
   ]
  },
  {
   "cell_type": "code",
   "execution_count": 0,
   "metadata": {
    "colab": {},
    "colab_type": "code",
    "id": "WNgKaX-ZRl1w"
   },
   "outputs": [],
   "source": [
    "# A parameter grid for XGBoost\n",
    "params_search = {\n",
    "        'learning_rate': [0.01, 0.05, 0.1, 0.2],\n",
    "        'gamma': [0.5, 1, 1.5, 2, 5],\n",
    "        'subsample': [0.6, 0.8, 1.0],\n",
    "        'colsample_bytree': [0.3, 0.5, 0.7],\n",
    "        'max_depth': [4, 6, 8, 10],\n",
    "        'n_estimators': [10, 50, 100]\n",
    "        }"
   ]
  },
  {
   "cell_type": "code",
   "execution_count": 0,
   "metadata": {
    "colab": {},
    "colab_type": "code",
    "id": "LI6g06pjRl1z"
   },
   "outputs": [],
   "source": [
    "xgb = XGBClassifier(objective='binary:logistic', silent=False, nthread=4)"
   ]
  },
  {
   "cell_type": "code",
   "execution_count": 0,
   "metadata": {
    "colab": {},
    "colab_type": "code",
    "id": "644icI2iRl10"
   },
   "outputs": [],
   "source": [
    "train, test, train_labels, test_labels = train_test_split(X, y, \n",
    "                                                          stratify = y,\n",
    "                                                          test_size = 0.2)"
   ]
  },
  {
   "cell_type": "code",
   "execution_count": 0,
   "metadata": {
    "colab": {
     "base_uri": "https://localhost:8080/",
     "height": 153
    },
    "colab_type": "code",
    "executionInfo": {
     "elapsed": 1695546,
     "status": "ok",
     "timestamp": 1591560315784,
     "user": {
      "displayName": "Markos Viggiato De Almeida",
      "photoUrl": "",
      "userId": "15790694491473808312"
     },
     "user_tz": 360
    },
    "id": "EZQm-BbZRl13",
    "outputId": "85132ed8-8560-4409-ec8c-9ed143cff9bb"
   },
   "outputs": [
    {
     "name": "stdout",
     "output_type": "stream",
     "text": [
      "Fitting 5 folds for each of 100 candidates, totalling 500 fits\n"
     ]
    },
    {
     "name": "stderr",
     "output_type": "stream",
     "text": [
      "[Parallel(n_jobs=4)]: Using backend LokyBackend with 4 concurrent workers.\n",
      "[Parallel(n_jobs=4)]: Done  42 tasks      | elapsed:  2.3min\n",
      "[Parallel(n_jobs=4)]: Done 192 tasks      | elapsed: 10.4min\n",
      "[Parallel(n_jobs=4)]: Done 442 tasks      | elapsed: 24.1min\n",
      "[Parallel(n_jobs=4)]: Done 500 out of 500 | elapsed: 28.2min finished\n"
     ]
    },
    {
     "name": "stdout",
     "output_type": "stream",
     "text": [
      "\n",
      " Time taken: 0 hours 28 minutes and 14.85 seconds.\n"
     ]
    }
   ],
   "source": [
    "folds = 5\n",
    "param_comb = 100\n",
    "\n",
    "# Stratified k fold is used to maintain the class distribution from the original data in each fold\n",
    "skf = StratifiedKFold(n_splits=folds, shuffle = True, random_state = 1001)\n",
    "\n",
    "# Define the model for the random search\n",
    "random_search = RandomizedSearchCV(xgb, param_distributions=params_search, n_iter=param_comb, scoring='roc_auc', n_jobs=4, cv=skf.split(train,train_labels), verbose=True)\n",
    "\n",
    "# Run random search\n",
    "start_time = timer(None) # timing starts from this point for \"start_time\" variable\n",
    "random_search.fit(train, train_labels)\n",
    "timer(start_time) # timing ends here for \"start_time\" variable"
   ]
  },
  {
   "cell_type": "code",
   "execution_count": 0,
   "metadata": {
    "colab": {
     "base_uri": "https://localhost:8080/",
     "height": 68
    },
    "colab_type": "code",
    "executionInfo": {
     "elapsed": 665,
     "status": "ok",
     "timestamp": 1591561796722,
     "user": {
      "displayName": "Markos Viggiato De Almeida",
      "photoUrl": "",
      "userId": "15790694491473808312"
     },
     "user_tz": 360
    },
    "id": "hwKahHH7Rl15",
    "outputId": "f06eb6dd-7afd-49bb-e67f-e6da68d681b2"
   },
   "outputs": [
    {
     "name": "stdout",
     "output_type": "stream",
     "text": [
      "\n",
      " Best hyperparameters:\n",
      "{'subsample': 1.0, 'n_estimators': 100, 'max_depth': 4, 'learning_rate': 0.05, 'gamma': 1, 'colsample_bytree': 0.3}\n"
     ]
    }
   ],
   "source": [
    "print('\\n Best hyperparameters:')\n",
    "print(random_search.best_params_)"
   ]
  },
  {
   "cell_type": "markdown",
   "metadata": {
    "colab_type": "text",
    "id": "7tn6Z0HRRl17"
   },
   "source": [
    "**Best hyperparameters time blowout:**\n",
    "{'subsample': 1.0, 'n_estimators': 100, 'max_depth': 4, 'learning_rate': 0.05, 'gamma': 1, 'colsample_bytree': 0.3}"
   ]
  },
  {
   "cell_type": "markdown",
   "metadata": {
    "colab_type": "text",
    "id": "WukE4qjsRl18"
   },
   "source": [
    "### Use best hyperparameters to build the model"
   ]
  },
  {
   "cell_type": "code",
   "execution_count": 0,
   "metadata": {
    "colab": {},
    "colab_type": "code",
    "id": "NQjC_togRl18"
   },
   "outputs": [],
   "source": [
    "# Define the number of fold for the k-fold cross-validation\n",
    "kfolds = KFold(n_splits=10, shuffle=True)"
   ]
  },
  {
   "cell_type": "code",
   "execution_count": 0,
   "metadata": {
    "colab": {},
    "colab_type": "code",
    "id": "UZtMeD6-Rl1-"
   },
   "outputs": [],
   "source": [
    "param = {\n",
    "    'objective': 'binary:logistic',\n",
    "    'eval_metric': 'auc',\n",
    "    'subsample': 1.0,\n",
    "    'colsample_bytree': 0.3,\n",
    "    'learning_rate': 0.05,\n",
    "    'max_depth': 4,\n",
    "    'gamma': 1\n",
    "}\n",
    "\n",
    "# This variable corresponds to 'n_estimators' (number of trees)\n",
    "num_round = 100 # n_estimators"
   ]
  },
  {
   "cell_type": "code",
   "execution_count": 77,
   "metadata": {
    "colab": {
     "base_uri": "https://localhost:8080/",
     "height": 34
    },
    "colab_type": "code",
    "executionInfo": {
     "elapsed": 26529,
     "status": "ok",
     "timestamp": 1591622295194,
     "user": {
      "displayName": "Markos Viggiato De Almeida",
      "photoUrl": "",
      "userId": "15790694491473808312"
     },
     "user_tz": 360
    },
    "id": "IJL268exiFJZ",
    "outputId": "821a4c4f-dbe7-4bcd-9b46-66cc967c83f0"
   },
   "outputs": [
    {
     "data": {
      "text/plain": [
       "'Median AUC: 0.8587'"
      ]
     },
     "execution_count": 77,
     "metadata": {
      "tags": []
     },
     "output_type": "execute_result"
    }
   ],
   "source": [
    "import xgboost as xgb\n",
    "\n",
    "auc = list()\n",
    "for train_idx, test_idx in kfolds.split(X):\n",
    "    X_train, y_train = X.iloc[train_idx], y.iloc[train_idx]\n",
    "    X_test, y_test = X.iloc[test_idx], y.iloc[test_idx]\n",
    "    \n",
    "    param['scale_pos_weight'] = (y_train.size - y_train.sum()) / y_train.sum()    \n",
    "    \n",
    "    xg_train = xgb.DMatrix(\n",
    "        X_train.values, feature_names=features, label=y_train.values\n",
    "    )\n",
    "    xg_test = xgb.DMatrix(\n",
    "        X_test.values, feature_names=features, label=y_test.values\n",
    "    )\n",
    "    \n",
    "    watchlist = [(xg_train, 'train'), (xg_test, 'test')]\n",
    "    bst = xgb.train(param, xg_train, num_round, watchlist, verbose_eval=False)\n",
    "    preds = bst.predict(xg_test) \n",
    "\n",
    "    auc.append(roc_auc_score(y_test, preds))\n",
    "\n",
    "'Median AUC: {:.04f}'.format(st.median(auc))"
   ]
  },
  {
   "cell_type": "markdown",
   "metadata": {},
   "source": [
    "### SHAP values"
   ]
  },
  {
   "cell_type": "code",
   "execution_count": 0,
   "metadata": {
    "colab": {},
    "colab_type": "code",
    "id": "JBnWTPujivj-"
   },
   "outputs": [],
   "source": [
    "# Create the original summary plot\n",
    "# Use only the last x_test as there is little variance between the folds\n",
    "explainer = shap.TreeExplainer(bst)\n",
    "shap_values = explainer.shap_values(X_test)\n",
    "\n",
    "# Variable importance-like plot\n",
    "shap.summary_plot(shap_values, X_test, plot_type=\"bar\")"
   ]
  },
  {
   "cell_type": "code",
   "execution_count": null,
   "metadata": {},
   "outputs": [],
   "source": [
    "# Using np.abs(shap_values).mean(0) will summarize the global importance of a feature as the mean of the absolute change in the prediction\n",
    "# caused by that feature over the entire dataset. \n",
    "\n",
    "np.abs(shap_values).mean(0)"
   ]
  },
  {
   "cell_type": "code",
   "execution_count": null,
   "metadata": {},
   "outputs": [],
   "source": [
    "# Check the shape of the shap_values matrix\n",
    "shap_values.shape"
   ]
  },
  {
   "cell_type": "code",
   "execution_count": 0,
   "metadata": {
    "colab": {},
    "colab_type": "code",
    "id": "-wzMBYfwinSv"
   },
   "outputs": [],
   "source": [
    "# Keep a backup in case it is necessary\n",
    "shap_values_backup = shap_values"
   ]
  },
  {
   "cell_type": "code",
   "execution_count": 80,
   "metadata": {
    "colab": {
     "base_uri": "https://localhost:8080/",
     "height": 34
    },
    "colab_type": "code",
    "executionInfo": {
     "elapsed": 679,
     "status": "ok",
     "timestamp": 1591622316227,
     "user": {
      "displayName": "Markos Viggiato De Almeida",
      "photoUrl": "",
      "userId": "15790694491473808312"
     },
     "user_tz": 360
    },
    "id": "RGafq83kAT8O",
    "outputId": "b566bc07-d61a-445e-af28-f4e38d4fa601"
   },
   "outputs": [
    {
     "data": {
      "text/plain": [
       "61"
      ]
     },
     "execution_count": 80,
     "metadata": {
      "tags": []
     },
     "output_type": "execute_result"
    }
   ],
   "source": [
    "new_columns = ['heroes_r', 'heroes_d',\n",
    "               'role_carry_r', 'role_support_r', 'role_nuker_r', 'role_disabler_r', 'role_jungler_r',\n",
    "                'role_durable_r', 'role_escape_r', 'role_pusher_r', 'role_initiator_r',\n",
    "                'role_carry_d', 'role_support_d', 'role_nuker_d', 'role_disabler_d', 'role_jungler_d',\n",
    "                'role_durable_d', 'role_escape_d', 'role_pusher_d', 'role_initiator_d',\n",
    "                'strength_r', 'agility_r', 'intellig_r', 'strength_gain_r', 'agility_gain_r', 'intellig_gain_r', 'health_r', 'health_regeneration_r', 'move_speed_r',\n",
    "                'strength_d', 'agility_d', 'intellig_d', 'strength_gain_d', 'agility_gain_d', 'intellig_gain_d', 'health_d', 'health_regeneration_d', 'move_speed_d',\n",
    "                'hero_winrate_r', 'hero_winrate_d', 'player_winrate_r', 'player_winrate_d',\n",
    "                'hp_winrate_r', 'hp_xp_min_r', 'hp_gold_min_r', 'hp_death_min_r', 'hp_taken_damage_min_r', 'hp_kill_min_r', 'hp_assist_min_r', 'hp_caused_damage_min_r', 'hp_heal_min_r',\n",
    "                'hp_winrate_d', 'hp_xp_min_d', 'hp_gold_min_d', 'hp_death_min_d', 'hp_taken_damage_min_d', 'hp_kill_min_d', 'hp_assist_min_d', 'hp_caused_damage_min_d', 'hp_heal_min_d',\n",
    "                'first_pick']\n",
    "\n",
    "len(new_columns)"
   ]
  },
  {
   "cell_type": "code",
   "execution_count": 0,
   "metadata": {
    "colab": {},
    "colab_type": "code",
    "id": "TvETJuxbAT8X"
   },
   "outputs": [],
   "source": [
    "# Create new shap values matrix\n",
    "shap_values_new = pd.DataFrame(columns=new_columns)\n",
    "print(shap_values_new.shape)\n",
    "\n",
    "for row in range(len(shap_values)):\n",
    "    print(row)\n",
    "\n",
    "    # hero binary array\n",
    "    sum_hero_rad = 0\n",
    "    for col in range(119):\n",
    "    sum_hero_rad = sum_hero_rad + shap_values[row, col]\n",
    "    \n",
    "    sum_hero_dire = 0\n",
    "    for col in range(119,238):\n",
    "    sum_hero_dire = sum_hero_dire + shap_values[row, col]\n",
    "\n",
    "    # base and gain stats\n",
    "    \n",
    "    # RADIANT\n",
    "    index_base_str_rad = [18+238, 27+238, 36+238, 45+238, 54+238]\n",
    "    index_base_agi_rad = [x + 1 for x in index_base_str_rad] \n",
    "    index_base_int_rad = [x + 1 for x in index_base_agi_rad] \n",
    "    index_str_gain_rad = [x + 1 for x in index_base_int_rad] \n",
    "    index_agi_gain_rad = [x + 1 for x in index_str_gain_rad] \n",
    "    index_int_gain_rad = [x + 1 for x in index_agi_gain_rad]\n",
    "    index_base_health_rad = [x + 1 for x in index_int_gain_rad]\n",
    "    index_base_health_reg_rad = [x + 1 for x in index_base_health_rad]\n",
    "    index_move_speed_rad = [x + 1 for x in index_base_health_reg_rad]\n",
    "\n",
    "    sum_base_str_rad = 0\n",
    "    for col in index_base_str_rad:\n",
    "    sum_base_str_rad = sum_base_str_rad + shap_values[row, col] \n",
    "\n",
    "    sum_base_agi_rad = 0\n",
    "    for col in index_base_agi_rad:\n",
    "    sum_base_agi_rad = sum_base_agi_rad + shap_values[row, col]\n",
    "\n",
    "    sum_base_int_rad = 0\n",
    "    for col in index_base_int_rad:\n",
    "    sum_base_int_rad = sum_base_int_rad + shap_values[row, col]\n",
    "\n",
    "    sum_str_gain_rad = 0\n",
    "    for col in index_str_gain_rad:\n",
    "    sum_str_gain_rad = sum_str_gain_rad + shap_values[row, col]\n",
    "\n",
    "    sum_agi_gain_rad = 0\n",
    "    for col in index_agi_gain_rad:\n",
    "    sum_agi_gain_rad = sum_agi_gain_rad + shap_values[row, col]\n",
    "\n",
    "    sum_int_gain_rad = 0\n",
    "    for col in index_int_gain_rad:\n",
    "    sum_int_gain_rad = sum_int_gain_rad + shap_values[row, col]\n",
    "\n",
    "    sum_base_health_rad = 0\n",
    "    for col in index_base_health_rad:\n",
    "    sum_base_health_rad = sum_base_health_rad + shap_values[row, col]\n",
    "\n",
    "    sum_base_health_reg_rad = 0\n",
    "    for col in index_base_health_reg_rad:\n",
    "    sum_base_health_reg_rad = sum_base_health_reg_rad + shap_values[row, col]\n",
    "\n",
    "    sum_move_speed_rad = 0\n",
    "    for col in index_move_speed_rad:\n",
    "    sum_move_speed_rad = sum_move_speed_rad + shap_values[row, col]  \n",
    "\n",
    "    # DIRE\n",
    "    index_base_str_dire = [63+238, 72+238, 81+238, 90+238, 99+238]\n",
    "    index_base_agi_dire = [x + 1 for x in index_base_str_dire] \n",
    "    index_base_int_dire = [x + 1 for x in index_base_agi_dire] \n",
    "    index_str_gain_dire = [x + 1 for x in index_base_int_dire] \n",
    "    index_agi_gain_dire = [x + 1 for x in index_str_gain_dire] \n",
    "    index_int_gain_dire = [x + 1 for x in index_agi_gain_dire]\n",
    "    index_base_health_dire = [x + 1 for x in index_int_gain_dire]\n",
    "    index_base_health_reg_dire = [x + 1 for x in index_base_health_dire]\n",
    "    index_move_speed_dire = [x + 1 for x in index_base_health_reg_dire]\n",
    "\n",
    "    sum_base_str_dire = 0\n",
    "    for col in index_base_str_dire:\n",
    "    sum_base_str_dire = sum_base_str_dire + shap_values[row, col] \n",
    "\n",
    "    sum_base_agi_dire = 0\n",
    "    for col in index_base_agi_dire:\n",
    "    sum_base_agi_dire = sum_base_agi_dire + shap_values[row, col]\n",
    "\n",
    "    sum_base_int_dire = 0\n",
    "    for col in index_base_int_dire:\n",
    "    sum_base_int_dire = sum_base_int_dire + shap_values[row, col]\n",
    "\n",
    "    sum_str_gain_dire = 0\n",
    "    for col in index_str_gain_dire:\n",
    "    sum_str_gain_dire = sum_str_gain_dire + shap_values[row, col]\n",
    "\n",
    "    sum_agi_gain_dire = 0\n",
    "    for col in index_agi_gain_dire:\n",
    "    sum_agi_gain_dire = sum_agi_gain_dire + shap_values[row, col]\n",
    "\n",
    "    sum_int_gain_dire = 0\n",
    "    for col in index_int_gain_dire:\n",
    "    sum_int_gain_dire = sum_int_gain_dire + shap_values[row, col]\n",
    "\n",
    "    sum_base_health_dire = 0\n",
    "    for col in index_base_health_dire:\n",
    "    sum_base_health_dire = sum_base_health_dire + shap_values[row, col]\n",
    "\n",
    "    sum_base_health_reg_dire = 0\n",
    "    for col in index_base_health_reg_dire:\n",
    "    sum_base_health_reg_dire = sum_base_health_reg_dire + shap_values[row, col]\n",
    "\n",
    "    sum_move_speed_dire = 0\n",
    "    for col in index_move_speed_dire:\n",
    "    sum_move_speed_dire = sum_move_speed_dire + shap_values[row, col]\n",
    "\n",
    "\n",
    "    # Win rate historical stats for heroes and players\n",
    "    \n",
    "    index_winrate_rad = list(range(108+238,113+238))\n",
    "    sum_winrate_rad = 0\n",
    "    for col in index_winrate_rad:\n",
    "    sum_winrate_rad = sum_winrate_rad + shap_values[row, col]\n",
    "\n",
    "    index_winrate_dire = list(range(113+238,118+238))\n",
    "    sum_winrate_dire = 0\n",
    "    for col in index_winrate_dire:\n",
    "    sum_winrate_dire = sum_winrate_dire + shap_values[row, col]\n",
    "\n",
    "    index_winrate_player_rad = list(range(118+238,123+238))\n",
    "    winrate_player_rad = 0\n",
    "    for col in index_winrate_player_rad:\n",
    "    winrate_player_rad = winrate_player_rad + shap_values[row, col]\n",
    "\n",
    "    index_winrate_player_dire = list(range(123+238,128+238))\n",
    "    winrate_player_dire = 0\n",
    "    for col in index_winrate_player_dire:\n",
    "    winrate_player_dire = winrate_player_dire + shap_values[row, col]\n",
    "\n",
    "    # Win rate historical stats for hero-player tuple\n",
    "    \n",
    "    # RADIANT\n",
    "    index_winrate_hp_rad = list(range(128+238,133+238))\n",
    "    winrate_hp_rad = 0\n",
    "    for col in index_winrate_hp_rad:\n",
    "    winrate_hp_rad = winrate_hp_rad + shap_values[row, col]\n",
    "\n",
    "    index_xpm_hp_rad = list(range(133+238,138+238))\n",
    "    xpm_hp_rad = 0\n",
    "    for col in index_xpm_hp_rad:\n",
    "    xpm_hp_rad = xpm_hp_rad + shap_values[row, col]\n",
    "\n",
    "    index_goldm_hp_rad = list(range(138+238,143+238))\n",
    "    goldm_hp_rad = 0\n",
    "    for col in index_goldm_hp_rad:\n",
    "    goldm_hp_rad = goldm_hp_rad + shap_values[row, col]\n",
    "\n",
    "    index_deathsm_hp_rad = list(range(143+238,148+238))\n",
    "    deathsm_hp_rad = 0\n",
    "    for col in index_deathsm_hp_rad:\n",
    "    deathsm_hp_rad = deathsm_hp_rad + shap_values[row, col]\n",
    "\n",
    "    index_damagem_hp_rad = list(range(148+238,153+238))\n",
    "    damagem_hp_rad = 0\n",
    "    for col in index_damagem_hp_rad:\n",
    "    damagem_hp_rad = damagem_hp_rad + shap_values[row, col]\n",
    "\n",
    "    index_killm_hp_rad = list(range(153+238,158+238))\n",
    "    killm_hp_rad = 0\n",
    "    for col in index_killm_hp_rad:\n",
    "    killm_hp_rad = killm_hp_rad + shap_values[row, col]\n",
    "\n",
    "    index_assistm_hp_rad = list(range(158+238,163+238))\n",
    "    assistm_hp_rad = 0\n",
    "    for col in index_assistm_hp_rad:\n",
    "    assistm_hp_rad = assistm_hp_rad + shap_values[row, col]\n",
    "\n",
    "    index_hero_damagem_hp_rad = list(range(163+238,168+238))\n",
    "    herodamagem_hp_rad = 0\n",
    "    for col in index_hero_damagem_hp_rad:\n",
    "    herodamagem_hp_rad = herodamagem_hp_rad + shap_values[row, col]\n",
    "\n",
    "    index_healm_hp_rad = list(range(168+238,173+238))\n",
    "    healm_hp_rad = 0\n",
    "    for col in index_healm_hp_rad:\n",
    "    healm_hp_rad = healm_hp_rad + shap_values[row, col]\n",
    "\n",
    "\n",
    "    # DIRE\n",
    "    index_winrate_hp_dire = list(range(173+238,178+238))\n",
    "    winrate_hp_dire = 0\n",
    "    for col in index_winrate_hp_dire:\n",
    "    winrate_hp_dire = winrate_hp_dire + shap_values[row, col]\n",
    "\n",
    "    index_xpm_hp_dire = list(range(178+238,183+238))\n",
    "    xpm_hp_dire = 0\n",
    "    for col in index_xpm_hp_dire:\n",
    "    xpm_hp_dire = xpm_hp_dire + shap_values[row, col]\n",
    "\n",
    "    index_goldm_hp_dire = list(range(183+238,188+238))\n",
    "    goldm_hp_dire = 0\n",
    "    for col in index_goldm_hp_dire:\n",
    "    goldm_hp_dire = goldm_hp_dire + shap_values[row, col]\n",
    "\n",
    "    index_deathsm_hp_dire = list(range(188+238,193+238))\n",
    "    deathsm_hp_dire = 0\n",
    "    for col in index_deathsm_hp_rad:\n",
    "    deathsm_hp_dire = deathsm_hp_dire + shap_values[row, col]\n",
    "\n",
    "    index_damagem_hp_dire = list(range(193+238,198+238))\n",
    "    damagem_hp_dire = 0\n",
    "    for col in index_damagem_hp_rad:\n",
    "    damagem_hp_dire = damagem_hp_dire + shap_values[row, col]\n",
    "\n",
    "    index_killm_hp_dire = list(range(198+238,203+238))\n",
    "    killm_hp_dire = 0\n",
    "    for col in index_killm_hp_dire:\n",
    "    killm_hp_dire = killm_hp_dire + shap_values[row, col]\n",
    "\n",
    "    index_assistm_hp_dire = list(range(203+238,208+238))\n",
    "    assistm_hp_dire = 0\n",
    "    for col in index_assistm_hp_dire:\n",
    "    assistm_hp_dire = assistm_hp_dire + shap_values[row, col]\n",
    "\n",
    "    index_damagem_hp_dire = list(range(208+238,213+238))\n",
    "    herodamagem_hp_dire = 0\n",
    "    for col in index_damagem_hp_dire:\n",
    "    herodamagem_hp_dire = herodamagem_hp_dire + shap_values[row, col]\n",
    "\n",
    "    index_healm_hp_dire = list(range(213+238,218+238))\n",
    "    healm_hp_dire = 0\n",
    "    for col in index_healm_hp_dire:\n",
    "    healm_hp_dire = healm_hp_dire + shap_values[row, col]\n",
    "  \n",
    "    new_row = [sum_hero_rad] + [sum_hero_dire] + list(shap_values[row, 238:256]) + [sum_base_str_rad] + [sum_base_agi_rad] + [sum_base_int_rad] + [sum_str_gain_rad] + [sum_agi_gain_rad] + [sum_int_gain_rad] + [sum_base_health_rad] + [sum_base_health_reg_rad] + [sum_move_speed_rad] + [sum_base_str_dire] + [sum_base_agi_dire] + [sum_base_int_dire] + [sum_str_gain_dire] + [sum_agi_gain_dire] + [sum_int_gain_dire] + [sum_base_health_dire] + [sum_base_health_reg_dire] + [sum_move_speed_dire] + [sum_winrate_rad] + [sum_winrate_dire] + [winrate_player_rad] + [winrate_player_dire] + [winrate_hp_rad] + [xpm_hp_rad] + [goldm_hp_rad] + [deathsm_hp_rad] + [damagem_hp_rad] + [killm_hp_rad] + [assistm_hp_rad] + [herodamagem_hp_rad] + [healm_hp_rad] + [winrate_hp_dire] + [xpm_hp_dire] + [goldm_hp_dire] + [deathsm_hp_dire] + [damagem_hp_dire] + [killm_hp_dire] + [assistm_hp_dire] + [herodamagem_hp_dire] + [healm_hp_dire] + [shap_values[row,198]]\n",
    "\n",
    "    print(len(new_row))\n",
    "\n",
    "    shap_values_new.loc[row] = new_row"
   ]
  },
  {
   "cell_type": "code",
   "execution_count": 82,
   "metadata": {
    "colab": {
     "base_uri": "https://localhost:8080/",
     "height": 34
    },
    "colab_type": "code",
    "executionInfo": {
     "elapsed": 631,
     "status": "ok",
     "timestamp": 1591622324454,
     "user": {
      "displayName": "Markos Viggiato De Almeida",
      "photoUrl": "",
      "userId": "15790694491473808312"
     },
     "user_tz": 360
    },
    "id": "8fYloXKrAT8b",
    "outputId": "df81472e-b823-43f4-aa0e-2fbe06b453b5"
   },
   "outputs": [
    {
     "data": {
      "text/plain": [
       "(552, 61)"
      ]
     },
     "execution_count": 82,
     "metadata": {
      "tags": []
     },
     "output_type": "execute_result"
    }
   ],
   "source": [
    "# Check the shape of the new shap values matrix\n",
    "shap_values_new.shape"
   ]
  },
  {
   "cell_type": "code",
   "execution_count": 0,
   "metadata": {
    "colab": {},
    "colab_type": "code",
    "id": "WoHc0ZQ2AT8d"
   },
   "outputs": [],
   "source": [
    "#Convert to numpy\n",
    "shap_values_new = shap_values_new.to_numpy()"
   ]
  },
  {
   "cell_type": "code",
   "execution_count": 0,
   "metadata": {
    "colab": {},
    "colab_type": "code",
    "id": "G_prrs-CAT8h"
   },
   "outputs": [],
   "source": [
    "# Modify X_test accordingly\n",
    "\n",
    "X_test_new = pd.DataFrame(columns=new_columns)\n",
    "print(X_test_new.shape)\n",
    "for row in range(len(X_test)):\n",
    "\n",
    "    # hero binary array\n",
    "    sum_hero_rad = 0\n",
    "    for col in range(119):\n",
    "    sum_hero_rad = sum_hero_rad + X_test.iloc[row, col]\n",
    "    sum_hero_dire = 0\n",
    "    for col in range(119,238):\n",
    "    sum_hero_dire = sum_hero_dire + X_test.iloc[row, col]\n",
    "\n",
    "\n",
    "    # base and gain stats\n",
    "    \n",
    "    # RADIANT\n",
    "    index_base_str_rad = [18+238, 27+238, 36+238, 45+238, 54+238]\n",
    "    index_base_agi_rad = [x + 1 for x in index_base_str_rad] \n",
    "    index_base_int_rad = [x + 1 for x in index_base_agi_rad] \n",
    "    index_str_gain_rad = [x + 1 for x in index_base_int_rad] \n",
    "    index_agi_gain_rad = [x + 1 for x in index_str_gain_rad] \n",
    "    index_int_gain_rad = [x + 1 for x in index_agi_gain_rad]\n",
    "    index_base_health_rad = [x + 1 for x in index_int_gain_rad]\n",
    "    index_base_health_reg_rad = [x + 1 for x in index_base_health_rad]\n",
    "    index_move_speed_rad = [x + 1 for x in index_base_health_reg_rad]\n",
    "\n",
    "    sum_base_str_rad = 0\n",
    "    for col in index_base_str_rad:\n",
    "    sum_base_str_rad = sum_base_str_rad + X_test.iloc[row, col] \n",
    "\n",
    "    sum_base_agi_rad = 0\n",
    "    for col in index_base_agi_rad:\n",
    "    sum_base_agi_rad = sum_base_agi_rad + X_test.iloc[row, col]\n",
    "\n",
    "    sum_base_int_rad = 0\n",
    "    for col in index_base_int_rad:\n",
    "    sum_base_int_rad = sum_base_int_rad + X_test.iloc[row, col]\n",
    "\n",
    "    sum_str_gain_rad = 0\n",
    "    for col in index_str_gain_rad:\n",
    "    sum_str_gain_rad = sum_str_gain_rad + X_test.iloc[row, col]\n",
    "\n",
    "    sum_agi_gain_rad = 0\n",
    "    for col in index_agi_gain_rad:\n",
    "    sum_agi_gain_rad = sum_agi_gain_rad + X_test.iloc[row, col]\n",
    "\n",
    "    sum_int_gain_rad = 0\n",
    "    for col in index_int_gain_rad:\n",
    "    sum_int_gain_rad = sum_int_gain_rad + X_test.iloc[row, col]\n",
    "\n",
    "    sum_base_health_rad = 0\n",
    "    for col in index_base_health_rad:\n",
    "    sum_base_health_rad = sum_base_health_rad + X_test.iloc[row, col]\n",
    "\n",
    "    sum_base_health_reg_rad = 0\n",
    "    for col in index_base_health_reg_rad:\n",
    "    sum_base_health_reg_rad = sum_base_health_reg_rad + X_test.iloc[row, col]\n",
    "\n",
    "    sum_move_speed_rad = 0\n",
    "    for col in index_move_speed_rad:\n",
    "    sum_move_speed_rad = sum_move_speed_rad + X_test.iloc[row, col]  \n",
    "\n",
    "    # DIRE\n",
    "    index_base_str_dire = [63+238, 72+238, 81+238, 90+238, 99+238]\n",
    "    index_base_agi_dire = [x + 1 for x in index_base_str_dire] \n",
    "    index_base_int_dire = [x + 1 for x in index_base_agi_dire] \n",
    "    index_str_gain_dire = [x + 1 for x in index_base_int_dire] \n",
    "    index_agi_gain_dire = [x + 1 for x in index_str_gain_dire] \n",
    "    index_int_gain_dire = [x + 1 for x in index_agi_gain_dire]\n",
    "    index_base_health_dire = [x + 1 for x in index_int_gain_dire]\n",
    "    index_base_health_reg_dire = [x + 1 for x in index_base_health_dire]\n",
    "    index_move_speed_dire = [x + 1 for x in index_base_health_reg_dire]\n",
    "\n",
    "    sum_base_str_dire = 0\n",
    "    for col in index_base_str_dire:\n",
    "    sum_base_str_dire = sum_base_str_dire + X_test.iloc[row, col] \n",
    "\n",
    "    sum_base_agi_dire = 0\n",
    "    for col in index_base_agi_dire:\n",
    "    sum_base_agi_dire = sum_base_agi_dire + X_test.iloc[row, col]\n",
    "\n",
    "    sum_base_int_dire = 0\n",
    "    for col in index_base_int_dire:\n",
    "    sum_base_int_dire = sum_base_int_dire + X_test.iloc[row, col]\n",
    "\n",
    "    sum_str_gain_dire = 0\n",
    "    for col in index_str_gain_dire:\n",
    "    sum_str_gain_dire = sum_str_gain_dire + X_test.iloc[row, col]\n",
    "\n",
    "    sum_agi_gain_dire = 0\n",
    "    for col in index_agi_gain_dire:\n",
    "    sum_agi_gain_dire = sum_agi_gain_dire + X_test.iloc[row, col]\n",
    "\n",
    "    sum_int_gain_dire = 0\n",
    "    for col in index_int_gain_dire:\n",
    "    sum_int_gain_dire = sum_int_gain_dire + X_test.iloc[row, col]\n",
    "\n",
    "    sum_base_health_dire = 0\n",
    "    for col in index_base_health_dire:\n",
    "    sum_base_health_dire = sum_base_health_dire + X_test.iloc[row, col]\n",
    "\n",
    "    sum_base_health_reg_dire = 0\n",
    "    for col in index_base_health_reg_dire:\n",
    "    sum_base_health_reg_dire = sum_base_health_reg_dire + X_test.iloc[row, col]\n",
    "\n",
    "    sum_move_speed_dire = 0\n",
    "    for col in index_move_speed_dire:\n",
    "    sum_move_speed_dire = sum_move_speed_dire + X_test.iloc[row, col]\n",
    "\n",
    "    # Win rate historical stats for heroes and players\n",
    "    \n",
    "    index_winrate_rad = list(range(108+238,113+238))\n",
    "    sum_winrate_rad = 0\n",
    "    for col in index_winrate_rad:\n",
    "    sum_winrate_rad = sum_winrate_rad + X_test.iloc[row, col]\n",
    "\n",
    "    index_winrate_dire = list(range(113+238,118+238))\n",
    "    sum_winrate_dire = 0\n",
    "    for col in index_winrate_dire:\n",
    "    sum_winrate_dire = sum_winrate_dire + X_test.iloc[row, col]\n",
    "\n",
    "    index_winrate_player_rad = list(range(118+238,123+238))\n",
    "    winrate_player_rad = 0\n",
    "    for col in index_winrate_player_rad:\n",
    "    winrate_player_rad = winrate_player_rad + X_test.iloc[row, col]\n",
    "\n",
    "    index_winrate_player_dire = list(range(123+238,128+238))\n",
    "    winrate_player_dire = 0\n",
    "    for col in index_winrate_player_dire:\n",
    "    winrate_player_dire = winrate_player_dire + X_test.iloc[row, col]\n",
    "\n",
    "\n",
    "    # Win rate historical stats for hero-player tuple\n",
    "    \n",
    "    # RADIANT\n",
    "    index_winrate_hp_rad = list(range(128+238,133+238))\n",
    "    winrate_hp_rad = 0\n",
    "    for col in index_winrate_hp_rad:\n",
    "    winrate_hp_rad = winrate_hp_rad + X_test.iloc[row, col]\n",
    "\n",
    "    index_xpm_hp_rad = list(range(133+238,138+238))\n",
    "    xpm_hp_rad = 0\n",
    "    for col in index_xpm_hp_rad:\n",
    "    xpm_hp_rad = xpm_hp_rad + X_test.iloc[row, col]\n",
    "\n",
    "    index_goldm_hp_rad = list(range(138+238,143+238))\n",
    "    goldm_hp_rad = 0\n",
    "    for col in index_goldm_hp_rad:\n",
    "    goldm_hp_rad = goldm_hp_rad + X_test.iloc[row, col]\n",
    "\n",
    "    index_deathsm_hp_rad = list(range(143+238,148+238))\n",
    "    deathsm_hp_rad = 0\n",
    "    for col in index_deathsm_hp_rad:\n",
    "    deathsm_hp_rad = deathsm_hp_rad + X_test.iloc[row, col]\n",
    "\n",
    "    index_damagem_hp_rad = list(range(148+238,153+238))\n",
    "    damagem_hp_rad = 0\n",
    "    for col in index_damagem_hp_rad:\n",
    "    damagem_hp_rad = damagem_hp_rad + X_test.iloc[row, col]\n",
    "\n",
    "    index_killm_hp_rad = list(range(153+238,158+238))\n",
    "    killm_hp_rad = 0\n",
    "    for col in index_killm_hp_rad:\n",
    "    killm_hp_rad = killm_hp_rad + X_test.iloc[row, col]\n",
    "\n",
    "    index_assistm_hp_rad = list(range(158+238,163+238))\n",
    "    assistm_hp_rad = 0\n",
    "    for col in index_assistm_hp_rad:\n",
    "    assistm_hp_rad = assistm_hp_rad + X_test.iloc[row, col]\n",
    "\n",
    "    index_damagem_hp_rad = list(range(163+238,168+238))\n",
    "    herodamagem_hp_rad = 0\n",
    "    for col in index_damagem_hp_rad:\n",
    "    herodamagem_hp_rad = herodamagem_hp_rad + X_test.iloc[row, col]\n",
    "\n",
    "    index_healm_hp_rad = list(range(168+238,173+238))\n",
    "    healm_hp_rad = 0\n",
    "    for col in index_healm_hp_rad:\n",
    "    healm_hp_rad = healm_hp_rad + X_test.iloc[row, col]\n",
    "\n",
    "    # DIRE\n",
    "    index_winrate_hp_dire = list(range(173+238,178+238))\n",
    "    winrate_hp_dire = 0\n",
    "    for col in index_winrate_hp_dire:\n",
    "    winrate_hp_dire = winrate_hp_dire + X_test.iloc[row, col]\n",
    "\n",
    "    index_xpm_hp_dire = list(range(178+238,183+238))\n",
    "    xpm_hp_dire = 0\n",
    "    for col in index_xpm_hp_dire:\n",
    "    xpm_hp_dire = xpm_hp_dire + X_test.iloc[row, col]\n",
    "\n",
    "    index_goldm_hp_dire = list(range(183+238,188+238))\n",
    "    goldm_hp_dire = 0\n",
    "    for col in index_goldm_hp_dire:\n",
    "    goldm_hp_dire = goldm_hp_dire + X_test.iloc[row, col]\n",
    "\n",
    "    index_deathsm_hp_dire = list(range(188+238,193+238))\n",
    "    deathsm_hp_rad = 0\n",
    "    for col in index_deathsm_hp_rad:\n",
    "    deathsm_hp_rad = deathsm_hp_rad + X_test.iloc[row, col]\n",
    "\n",
    "    index_damagem_hp_dire = list(range(193+238,198+238))\n",
    "    damagem_hp_rad = 0\n",
    "    for col in index_damagem_hp_rad:\n",
    "    damagem_hp_rad = damagem_hp_rad + X_test.iloc[row, col]\n",
    "\n",
    "    index_killm_hp_dire = list(range(198+238,203+238))\n",
    "    killm_hp_dire = 0\n",
    "    for col in index_killm_hp_dire:\n",
    "    killm_hp_dire = killm_hp_dire + X_test.iloc[row, col]\n",
    "\n",
    "    index_assistm_hp_dire = list(range(203+238,208+238))\n",
    "    assistm_hp_dire = 0\n",
    "    for col in index_assistm_hp_dire:\n",
    "    assistm_hp_dire = assistm_hp_dire + X_test.iloc[row, col]\n",
    "\n",
    "    index_damagem_hp_dire = list(range(208+238,213+238))\n",
    "    herodamagem_hp_dire = 0\n",
    "    for col in index_damagem_hp_dire:\n",
    "    herodamagem_hp_dire = herodamagem_hp_dire + X_test.iloc[row, col]\n",
    "\n",
    "    index_healm_hp_dire = list(range(213+238,218+238))\n",
    "    healm_hp_dire = 0\n",
    "    for col in index_healm_hp_dire:\n",
    "    healm_hp_dire = healm_hp_dire + X_test.iloc[row, col]\n",
    "  \n",
    "    new_row = [sum_hero_rad] + [sum_hero_dire] + list(X_test.iloc[row, 238:256]) + [sum_base_str_rad] + [sum_base_agi_rad] + [sum_base_int_rad] + [sum_str_gain_rad] + [sum_agi_gain_rad] + [sum_int_gain_rad] + [sum_base_health_rad] + [sum_base_health_reg_rad] + [sum_move_speed_rad] + [sum_base_str_dire] + [sum_base_agi_dire] + [sum_base_int_dire] + [sum_str_gain_dire] + [sum_agi_gain_dire] + [sum_int_gain_dire] + [sum_base_health_dire] + [sum_base_health_reg_dire] + [sum_move_speed_dire] + [sum_winrate_rad] + [sum_winrate_dire] + [winrate_player_rad] + [winrate_player_dire] + [winrate_hp_rad] + [xpm_hp_rad] + [goldm_hp_rad] + [deathsm_hp_rad] + [damagem_hp_rad] + [killm_hp_rad] + [assistm_hp_rad] + [herodamagem_hp_rad] + [healm_hp_rad] + [winrate_hp_dire] + [xpm_hp_dire] + [goldm_hp_dire] + [deathsm_hp_dire] + [damagem_hp_dire] + [killm_hp_dire] + [assistm_hp_dire] + [herodamagem_hp_dire] + [healm_hp_dire] + [X_test.iloc[row,198]]\n",
    "\n",
    "    print(len(new_row))\n",
    "    X_test_new.loc[row] = new_row"
   ]
  },
  {
   "cell_type": "code",
   "execution_count": 86,
   "metadata": {
    "colab": {
     "base_uri": "https://localhost:8080/",
     "height": 34
    },
    "colab_type": "code",
    "executionInfo": {
     "elapsed": 648,
     "status": "ok",
     "timestamp": 1591622338295,
     "user": {
      "displayName": "Markos Viggiato De Almeida",
      "photoUrl": "",
      "userId": "15790694491473808312"
     },
     "user_tz": 360
    },
    "id": "-1zzCvMqAT8j",
    "outputId": "32c1689c-a147-43e6-bb37-c19d2864eab1"
   },
   "outputs": [
    {
     "data": {
      "text/plain": [
       "(552, 61)"
      ]
     },
     "execution_count": 86,
     "metadata": {
      "tags": []
     },
     "output_type": "execute_result"
    }
   ],
   "source": [
    "# Fill in missing values with the median\n",
    "X_test_new = X_test_new.fillna(X_test_new.median())\n",
    "X_test_new.shape"
   ]
  },
  {
   "cell_type": "code",
   "execution_count": 0,
   "metadata": {
    "colab": {},
    "colab_type": "code",
    "id": "RFQx4shWEDZG"
   },
   "outputs": [],
   "source": [
    "# Generate summary plot with proper plot configurations\n",
    "\n",
    "matplotlib.rcParams.update(matplotlib.rcParamsDefault)\n",
    "plt.rcParams[\"font.weight\"] = \"bold\"\n",
    "\n",
    "fig = shap.summary_plot(shap_values_new, X_test_new, show=False)  \n",
    "plt.xlabel('')\n",
    "plt.xticks(fontsize=18)\n",
    "plt.yticks(fontsize=22)\n",
    "plt.savefig('shapvalues_time_bold.pdf', bbox_inches = \"tight\")"
   ]
  },
  {
   "cell_type": "code",
   "execution_count": 0,
   "metadata": {
    "colab": {},
    "colab_type": "code",
    "id": "ozAM643PETvn"
   },
   "outputs": [],
   "source": [
    "# Generate barplot with proper plot configurations\n",
    "\n",
    "matplotlib.rcParams.update(matplotlib.rcParamsDefault)\n",
    "plt.rcParams[\"font.weight\"] = \"bold\"\n",
    "\n",
    "fig = shap.summary_plot(shap_values_new, X_test_new, plot_type=\"bar\", show=False) \n",
    "size = plt.gcf().get_size_inches()\n",
    "print(size) \n",
    "plt.gcf().set_size_inches(9, 13)\n",
    "plt.xlabel('')\n",
    "plt.xticks(fontsize=21)\n",
    "plt.yticks(fontsize=24)\n",
    "plt.savefig('shapvalues_time_barplot_bold.pdf', bbox_inches = \"tight\")"
   ]
  },
  {
   "cell_type": "markdown",
   "metadata": {
    "colab_type": "text",
    "id": "gUsMkP95zP81"
   },
   "source": [
    "\n",
    "\n",
    "---\n",
    "\n"
   ]
  },
  {
   "cell_type": "markdown",
   "metadata": {
    "colab_type": "text",
    "id": "gT9vhBouIVuh"
   },
   "source": [
    "### SCORE BLOWOUT MATCHES"
   ]
  },
  {
   "cell_type": "code",
   "execution_count": 0,
   "metadata": {
    "colab": {},
    "colab_type": "code",
    "id": "Y_WOwt6vlPb3"
   },
   "outputs": [],
   "source": [
    "# Import necessary libraries\n",
    "import os\n",
    "import numpy as np\n",
    "import pandas as pd\n",
    "from xgboost import XGBClassifier\n",
    "\n",
    "from sklearn.model_selection import KFold, RandomizedSearchCV, GridSearchCV, train_test_split, StratifiedKFold\n",
    "from sklearn.metrics import confusion_matrix, roc_curve, roc_auc_score, auc\n",
    "\n",
    "import statistics as st\n",
    "\n",
    "import warnings\n",
    "warnings.filterwarnings('ignore')\n",
    "from datetime import datetime\n",
    "\n",
    "import matplotlib.pylab as pl\n",
    "import matplotlib.pyplot as plt\n",
    "import matplotlib\n",
    "import seaborn as sns\n",
    "import shap"
   ]
  },
  {
   "cell_type": "code",
   "execution_count": null,
   "metadata": {},
   "outputs": [],
   "source": [
    "shap.initjs()\n",
    "np.random.seed(3)"
   ]
  },
  {
   "cell_type": "code",
   "execution_count": 0,
   "metadata": {
    "colab": {},
    "colab_type": "code",
    "id": "HXELNwoulPb7"
   },
   "outputs": [],
   "source": [
    "# load JS visualization code to notebook\n",
    "shap.initjs()"
   ]
  },
  {
   "cell_type": "code",
   "execution_count": 0,
   "metadata": {
    "colab": {},
    "colab_type": "code",
    "id": "zlumGIHvBcui"
   },
   "outputs": [],
   "source": [
    "# Read the data\n",
    "feature_score_blowout_df = pd.read_csv(\"/content/dota2_score_blowout_features.csv\")"
   ]
  },
  {
   "cell_type": "code",
   "execution_count": 0,
   "metadata": {
    "colab": {},
    "colab_type": "code",
    "id": "ibajYi05BG5i"
   },
   "outputs": [],
   "source": [
    "len(feature_score_blowout_df.columns)"
   ]
  },
  {
   "cell_type": "code",
   "execution_count": 0,
   "metadata": {
    "colab": {},
    "colab_type": "code",
    "id": "pUu3l6R5BpY6"
   },
   "outputs": [],
   "source": [
    "# Drop first column (match id)\n",
    "feature_score_blowout_df = feature_score_blowout_df.drop(['match_id'], axis=1)"
   ]
  },
  {
   "cell_type": "code",
   "execution_count": 0,
   "metadata": {
    "colab": {},
    "colab_type": "code",
    "id": "DxHxoHfnBG5S"
   },
   "outputs": [],
   "source": [
    "feature_score_blowout_df.head()"
   ]
  },
  {
   "cell_type": "code",
   "execution_count": 0,
   "metadata": {
    "colab": {},
    "colab_type": "code",
    "id": "Xvz7Nl3BBG5e"
   },
   "outputs": [],
   "source": [
    "feature_score_blowout_df['win_label'].value_counts()"
   ]
  },
  {
   "cell_type": "markdown",
   "metadata": {
    "colab_type": "text",
    "id": "fnwMC4ZsBG5l"
   },
   "source": [
    "### Model building, training, and evaluation"
   ]
  },
  {
   "cell_type": "code",
   "execution_count": 0,
   "metadata": {
    "colab": {},
    "colab_type": "code",
    "id": "pyinrN4TBG5m"
   },
   "outputs": [],
   "source": [
    "features = [c for c in feature_score_blowout_df.columns if c != 'win_label']\n",
    "target = 'win_label'\n",
    "X, y = feature_score_blowout_df.iloc[:,:-1],feature_score_blowout_df.iloc[:,-1]"
   ]
  },
  {
   "cell_type": "markdown",
   "metadata": {
    "colab_type": "text",
    "id": "2A7VfE3ZmB_Y"
   },
   "source": [
    "### Grid search to tune hyperparameters"
   ]
  },
  {
   "cell_type": "code",
   "execution_count": 0,
   "metadata": {
    "colab": {},
    "colab_type": "code",
    "id": "w5WNHSHslfK5"
   },
   "outputs": [],
   "source": [
    "# Define a timer function\n",
    "def timer(start_time=None):\n",
    "    if not start_time:\n",
    "        start_time = datetime.now()\n",
    "        return start_time\n",
    "    elif start_time:\n",
    "        thour, temp_sec = divmod((datetime.now() - start_time).total_seconds(), 3600)\n",
    "        tmin, tsec = divmod(temp_sec, 60)\n",
    "        print('\\n Time taken: %i hours %i minutes and %s seconds.' % (thour, tmin, round(tsec, 2)))"
   ]
  },
  {
   "cell_type": "code",
   "execution_count": 0,
   "metadata": {
    "colab": {},
    "colab_type": "code",
    "id": "SWj1KKUolmbv"
   },
   "outputs": [],
   "source": [
    "# A parameter grid for XGBoost\n",
    "params_search = {\n",
    "        'learning_rate': [0.01, 0.05, 0.1, 0.2],\n",
    "        'gamma': [0.5, 1, 1.5, 2, 5],\n",
    "        'subsample': [0.6, 0.8, 1.0],\n",
    "        'colsample_bytree': [0.3, 0.5, 0.7],\n",
    "        'max_depth': [4, 6, 8, 10],\n",
    "        'n_estimators': [10, 50, 100]\n",
    "        }"
   ]
  },
  {
   "cell_type": "code",
   "execution_count": 0,
   "metadata": {
    "colab": {},
    "colab_type": "code",
    "id": "Vdc-A8dhls-f"
   },
   "outputs": [],
   "source": [
    "xgb = XGBClassifier(objective='binary:logistic', silent=False, nthread=4)"
   ]
  },
  {
   "cell_type": "code",
   "execution_count": 0,
   "metadata": {
    "colab": {},
    "colab_type": "code",
    "id": "rTIm16FMn1cI"
   },
   "outputs": [],
   "source": [
    "train, test, train_labels, test_labels = train_test_split(X, y, \n",
    "                                                          stratify = y,\n",
    "                                                          test_size = 0.2)"
   ]
  },
  {
   "cell_type": "code",
   "execution_count": 0,
   "metadata": {
    "colab": {
     "base_uri": "https://localhost:8080/",
     "height": 221
    },
    "colab_type": "code",
    "executionInfo": {
     "elapsed": 1432343,
     "status": "ok",
     "timestamp": 1591557483773,
     "user": {
      "displayName": "Markos Viggiato De Almeida",
      "photoUrl": "",
      "userId": "15790694491473808312"
     },
     "user_tz": 360
    },
    "id": "d2-FI_x_l-E-",
    "outputId": "709eef7f-6393-4f33-c472-5cef021fcd4d"
   },
   "outputs": [
    {
     "name": "stdout",
     "output_type": "stream",
     "text": [
      "Fitting 5 folds for each of 500 candidates, totalling 2500 fits\n"
     ]
    },
    {
     "name": "stderr",
     "output_type": "stream",
     "text": [
      "[Parallel(n_jobs=4)]: Using backend LokyBackend with 4 concurrent workers.\n",
      "[Parallel(n_jobs=4)]: Done  42 tasks      | elapsed:  1.5min\n",
      "[Parallel(n_jobs=4)]: Done 192 tasks      | elapsed:  8.5min\n",
      "[Parallel(n_jobs=4)]: Done 442 tasks      | elapsed: 22.3min\n",
      "[Parallel(n_jobs=4)]: Done 792 tasks      | elapsed: 38.5min\n",
      "[Parallel(n_jobs=4)]: Done 1242 tasks      | elapsed: 61.6min\n",
      "[Parallel(n_jobs=4)]: Done 1792 tasks      | elapsed: 90.6min\n",
      "[Parallel(n_jobs=4)]: Done 2442 tasks      | elapsed: 123.8min\n",
      "[Parallel(n_jobs=4)]: Done 2500 out of 2500 | elapsed: 127.2min finished\n"
     ]
    },
    {
     "name": "stdout",
     "output_type": "stream",
     "text": [
      "\n",
      " Time taken: 2 hours 7 minutes and 14.05 seconds.\n"
     ]
    }
   ],
   "source": [
    "folds = 5\n",
    "param_comb = 100\n",
    "\n",
    "# Stratified k fold is used to maintain the class distribution from the original data in each fold\n",
    "skf = StratifiedKFold(n_splits=folds, shuffle = True, random_state = 1001)\n",
    "\n",
    "# Define the model for the random search\n",
    "random_search = RandomizedSearchCV(xgb, param_distributions=params_search, n_iter=param_comb, scoring='roc_auc', n_jobs=4, cv=skf.split(train,train_labels), verbose=True)\n",
    "\n",
    "# Run random search\n",
    "start_time = timer(None) # timing starts from this point for \"start_time\" variable\n",
    "random_search.fit(train, train_labels)\n",
    "timer(start_time) # timing ends here for \"start_time\" variable"
   ]
  },
  {
   "cell_type": "code",
   "execution_count": 0,
   "metadata": {
    "colab": {
     "base_uri": "https://localhost:8080/",
     "height": 68
    },
    "colab_type": "code",
    "executionInfo": {
     "elapsed": 685,
     "status": "ok",
     "timestamp": 1591557610949,
     "user": {
      "displayName": "Markos Viggiato De Almeida",
      "photoUrl": "",
      "userId": "15790694491473808312"
     },
     "user_tz": 360
    },
    "id": "tljWQaeROdFX",
    "outputId": "aca12ea1-170d-4b01-a1b8-09365d0043ad"
   },
   "outputs": [
    {
     "name": "stdout",
     "output_type": "stream",
     "text": [
      "\n",
      " Best hyperparameters:\n",
      "{'subsample': 1.0, 'n_estimators': 100, 'max_depth': 6, 'learning_rate': 0.1, 'gamma': 0.5, 'colsample_bytree': 0.3}\n"
     ]
    }
   ],
   "source": [
    "print('\\n Best hyperparameters:')\n",
    "print(random_search.best_params_)"
   ]
  },
  {
   "cell_type": "markdown",
   "metadata": {
    "colab_type": "text",
    "id": "S2CbBnWXOll9"
   },
   "source": [
    "**Best hyperparameters score blowout:**\n",
    "{'subsample': 1.0, 'n_estimators': 100, 'max_depth': 6, 'learning_rate': 0.1, 'gamma': 0.5, 'colsample_bytree': 0.3}"
   ]
  },
  {
   "cell_type": "markdown",
   "metadata": {
    "colab_type": "text",
    "id": "SluUNLsXmJJK"
   },
   "source": [
    "### Use best hyperparameters to build the model"
   ]
  },
  {
   "cell_type": "code",
   "execution_count": 0,
   "metadata": {
    "colab": {},
    "colab_type": "code",
    "id": "ckmQhgeLBG5r"
   },
   "outputs": [],
   "source": [
    "# Define the number of fold for the k-fold cross-validation\n",
    "kfolds = KFold(n_splits=10, shuffle=True)"
   ]
  },
  {
   "cell_type": "code",
   "execution_count": 0,
   "metadata": {
    "colab": {},
    "colab_type": "code",
    "id": "ZK15O5Z_BG5u"
   },
   "outputs": [],
   "source": [
    "param = {\n",
    "    'objective': 'binary:logistic',\n",
    "    'eval_metric': 'auc',\n",
    "    'subsample': 1.0,\n",
    "    'colsample_bytree': 0.3,\n",
    "    'learning_rate': 0.1,\n",
    "    'max_depth': 6,\n",
    "    'gamma': 0.5\n",
    "}\n",
    "\n",
    "# This variable corresponds to 'n_estimators' (number of trees)\n",
    "num_round = 100"
   ]
  },
  {
   "cell_type": "code",
   "execution_count": 97,
   "metadata": {
    "colab": {
     "base_uri": "https://localhost:8080/",
     "height": 34
    },
    "colab_type": "code",
    "executionInfo": {
     "elapsed": 34431,
     "status": "ok",
     "timestamp": 1591622562918,
     "user": {
      "displayName": "Markos Viggiato De Almeida",
      "photoUrl": "",
      "userId": "15790694491473808312"
     },
     "user_tz": 360
    },
    "id": "wa3pSelpBG5x",
    "outputId": "cc936a51-78a8-4249-ef56-ca49ac21c9d7"
   },
   "outputs": [
    {
     "data": {
      "text/plain": [
       "'Median AUC: 0.7796'"
      ]
     },
     "execution_count": 97,
     "metadata": {
      "tags": []
     },
     "output_type": "execute_result"
    }
   ],
   "source": [
    "import xgboost as xgb\n",
    "\n",
    "auc = list()\n",
    "for train_idx, test_idx in kfolds.split(X):\n",
    "    X_train, y_train = X.iloc[train_idx], y.iloc[train_idx]\n",
    "    X_test, y_test = X.iloc[test_idx], y.iloc[test_idx]\n",
    "    \n",
    "    param['scale_pos_weight'] = (y_train.size - y_train.sum()) / y_train.sum()    \n",
    "    \n",
    "    xg_train = xgb.DMatrix(\n",
    "        X_train.values, feature_names=features, label=y_train.values\n",
    "    )\n",
    "    xg_test = xgb.DMatrix(\n",
    "        X_test.values, feature_names=features, label=y_test.values\n",
    "    )\n",
    "    \n",
    "    watchlist = [(xg_train, 'train'), (xg_test, 'test')]\n",
    "    bst = xgb.train(param, xg_train, num_round, watchlist, verbose_eval=False)\n",
    "    preds = bst.predict(xg_test) \n",
    "\n",
    "    auc.append(roc_auc_score(y_test, preds))\n",
    "\n",
    "'Median AUC: {:.04f}'.format(st.median(auc))"
   ]
  },
  {
   "cell_type": "markdown",
   "metadata": {},
   "source": [
    "### SHAP values"
   ]
  },
  {
   "cell_type": "code",
   "execution_count": 0,
   "metadata": {
    "colab": {},
    "colab_type": "code",
    "id": "jfOLL_FUCKWA"
   },
   "outputs": [],
   "source": [
    "# Create the original summary plot\n",
    "# Use only the last x_test as there is little variance between the folds\n",
    "explainer = shap.TreeExplainer(bst)\n",
    "shap_values = explainer.shap_values(X_test)\n",
    "\n",
    "# Variable importance-like plot\n",
    "shap.summary_plot(shap_values, X_test, plot_type=\"bar\")"
   ]
  },
  {
   "cell_type": "code",
   "execution_count": 0,
   "metadata": {
    "colab": {},
    "colab_type": "code",
    "id": "aM3yWfvg8pvS"
   },
   "outputs": [],
   "source": [
    "# Using np.abs(shap_values).mean(0) will summarize the global importance of a feature as the mean of the absolute change in the prediction\n",
    "# caused by that feature over the entire dataset. \n",
    "\n",
    "np.abs(shap_values).mean(0)"
   ]
  },
  {
   "cell_type": "code",
   "execution_count": null,
   "metadata": {},
   "outputs": [],
   "source": [
    "# Check the shape of the shap_values matrix\n",
    "shap_values.shape"
   ]
  },
  {
   "cell_type": "code",
   "execution_count": 0,
   "metadata": {
    "colab": {},
    "colab_type": "code",
    "id": "a5nNtF8JCKWI"
   },
   "outputs": [],
   "source": [
    "# Keep a backup in case it is necessary\n",
    "shap_values_backup = shap_values"
   ]
  },
  {
   "cell_type": "code",
   "execution_count": 101,
   "metadata": {
    "colab": {
     "base_uri": "https://localhost:8080/",
     "height": 34
    },
    "colab_type": "code",
    "executionInfo": {
     "elapsed": 583,
     "status": "ok",
     "timestamp": 1591622591772,
     "user": {
      "displayName": "Markos Viggiato De Almeida",
      "photoUrl": "",
      "userId": "15790694491473808312"
     },
     "user_tz": 360
    },
    "id": "3unwiWIvCKWN",
    "outputId": "fc2349c9-e772-4cf0-89b2-6c8bf75dc690"
   },
   "outputs": [
    {
     "data": {
      "text/plain": [
       "61"
      ]
     },
     "execution_count": 101,
     "metadata": {
      "tags": []
     },
     "output_type": "execute_result"
    }
   ],
   "source": [
    "new_columns = ['heroes_r', 'heroes_d',\n",
    "               'role_carry_r', 'role_support_r', 'role_nuker_r', 'role_disabler_r', 'role_jungler_r',\n",
    "                'role_durable_r', 'role_escape_r', 'role_pusher_r', 'role_initiator_r',\n",
    "                'role_carry_d', 'role_support_d', 'role_nuker_d', 'role_disabler_d', 'role_jungler_d',\n",
    "                'role_durable_d', 'role_escape_d', 'role_pusher_d', 'role_initiator_d',\n",
    "                'strength_r', 'agility_r', 'intellig_r', 'strength_gain_r', 'agility_gain_r', 'intellig_gain_r', 'health_r', 'health_regeneration_r', 'move_speed_r',\n",
    "                'strength_d', 'agility_d', 'intellig_d', 'strength_gain_d', 'agility_gain_d', 'intellig_gain_d', 'health_d', 'health_regeneration_d', 'move_speed_d',\n",
    "                'hero_winrate_r', 'hero_winrate_d', 'player_winrate_r', 'player_winrate_d',\n",
    "                'hp_winrate_r', 'hp_xp_min_r', 'hp_gold_min_r', 'hp_death_min_r', 'hp_taken_damage_min_r', 'hp_kill_min_r', 'hp_assist_min_r', 'hp_caused_damage_min_r', 'hp_heal_min_r',\n",
    "                'hp_winrate_d', 'hp_xp_min_d', 'hp_gold_min_d', 'hp_death_min_d', 'hp_taken_damage_min_d', 'hp_kill_min_d', 'hp_assist_min_d', 'hp_caused_damage_min_d', 'hp_heal_min_d',\n",
    "                'first_pick']\n",
    "\n",
    "len(new_columns)"
   ]
  },
  {
   "cell_type": "code",
   "execution_count": 0,
   "metadata": {
    "colab": {},
    "colab_type": "code",
    "id": "BRNnr62gCKWS"
   },
   "outputs": [],
   "source": [
    "# Create new shap values matrix\n",
    "shap_values_new = pd.DataFrame(columns=new_columns)\n",
    "print(shap_values_new.shape)\n",
    "\n",
    "for row in range(len(shap_values)):\n",
    "    print(row)\n",
    "\n",
    "    # hero binary array\n",
    "    sum_hero_rad = 0\n",
    "    for col in range(119):\n",
    "    sum_hero_rad = sum_hero_rad + shap_values[row, col]\n",
    "    \n",
    "    sum_hero_dire = 0\n",
    "    for col in range(119,238):\n",
    "    sum_hero_dire = sum_hero_dire + shap_values[row, col]\n",
    "\n",
    "    # base and gain stats\n",
    "    \n",
    "    # RADIANT\n",
    "    index_base_str_rad = [18+238, 27+238, 36+238, 45+238, 54+238]\n",
    "    index_base_agi_rad = [x + 1 for x in index_base_str_rad] \n",
    "    index_base_int_rad = [x + 1 for x in index_base_agi_rad] \n",
    "    index_str_gain_rad = [x + 1 for x in index_base_int_rad] \n",
    "    index_agi_gain_rad = [x + 1 for x in index_str_gain_rad] \n",
    "    index_int_gain_rad = [x + 1 for x in index_agi_gain_rad]\n",
    "    index_base_health_rad = [x + 1 for x in index_int_gain_rad]\n",
    "    index_base_health_reg_rad = [x + 1 for x in index_base_health_rad]\n",
    "    index_move_speed_rad = [x + 1 for x in index_base_health_reg_rad]\n",
    "\n",
    "    sum_base_str_rad = 0\n",
    "    for col in index_base_str_rad:\n",
    "    sum_base_str_rad = sum_base_str_rad + shap_values[row, col] \n",
    "\n",
    "    sum_base_agi_rad = 0\n",
    "    for col in index_base_agi_rad:\n",
    "    sum_base_agi_rad = sum_base_agi_rad + shap_values[row, col]\n",
    "\n",
    "    sum_base_int_rad = 0\n",
    "    for col in index_base_int_rad:\n",
    "    sum_base_int_rad = sum_base_int_rad + shap_values[row, col]\n",
    "\n",
    "    sum_str_gain_rad = 0\n",
    "    for col in index_str_gain_rad:\n",
    "    sum_str_gain_rad = sum_str_gain_rad + shap_values[row, col]\n",
    "\n",
    "    sum_agi_gain_rad = 0\n",
    "    for col in index_agi_gain_rad:\n",
    "    sum_agi_gain_rad = sum_agi_gain_rad + shap_values[row, col]\n",
    "\n",
    "    sum_int_gain_rad = 0\n",
    "    for col in index_int_gain_rad:\n",
    "    sum_int_gain_rad = sum_int_gain_rad + shap_values[row, col]\n",
    "\n",
    "    sum_base_health_rad = 0\n",
    "    for col in index_base_health_rad:\n",
    "    sum_base_health_rad = sum_base_health_rad + shap_values[row, col]\n",
    "\n",
    "    sum_base_health_reg_rad = 0\n",
    "    for col in index_base_health_reg_rad:\n",
    "    sum_base_health_reg_rad = sum_base_health_reg_rad + shap_values[row, col]\n",
    "\n",
    "    sum_move_speed_rad = 0\n",
    "    for col in index_move_speed_rad:\n",
    "    sum_move_speed_rad = sum_move_speed_rad + shap_values[row, col]  \n",
    "\n",
    "    # DIRE\n",
    "    index_base_str_dire = [63+238, 72+238, 81+238, 90+238, 99+238]\n",
    "    index_base_agi_dire = [x + 1 for x in index_base_str_dire] \n",
    "    index_base_int_dire = [x + 1 for x in index_base_agi_dire] \n",
    "    index_str_gain_dire = [x + 1 for x in index_base_int_dire] \n",
    "    index_agi_gain_dire = [x + 1 for x in index_str_gain_dire] \n",
    "    index_int_gain_dire = [x + 1 for x in index_agi_gain_dire]\n",
    "    index_base_health_dire = [x + 1 for x in index_int_gain_dire]\n",
    "    index_base_health_reg_dire = [x + 1 for x in index_base_health_dire]\n",
    "    index_move_speed_dire = [x + 1 for x in index_base_health_reg_dire]\n",
    "\n",
    "    sum_base_str_dire = 0\n",
    "    for col in index_base_str_dire:\n",
    "    sum_base_str_dire = sum_base_str_dire + shap_values[row, col] \n",
    "\n",
    "    sum_base_agi_dire = 0\n",
    "    for col in index_base_agi_dire:\n",
    "    sum_base_agi_dire = sum_base_agi_dire + shap_values[row, col]\n",
    "\n",
    "    sum_base_int_dire = 0\n",
    "    for col in index_base_int_dire:\n",
    "    sum_base_int_dire = sum_base_int_dire + shap_values[row, col]\n",
    "\n",
    "    sum_str_gain_dire = 0\n",
    "    for col in index_str_gain_dire:\n",
    "    sum_str_gain_dire = sum_str_gain_dire + shap_values[row, col]\n",
    "\n",
    "    sum_agi_gain_dire = 0\n",
    "    for col in index_agi_gain_dire:\n",
    "    sum_agi_gain_dire = sum_agi_gain_dire + shap_values[row, col]\n",
    "\n",
    "    sum_int_gain_dire = 0\n",
    "    for col in index_int_gain_dire:\n",
    "    sum_int_gain_dire = sum_int_gain_dire + shap_values[row, col]\n",
    "\n",
    "    sum_base_health_dire = 0\n",
    "    for col in index_base_health_dire:\n",
    "    sum_base_health_dire = sum_base_health_dire + shap_values[row, col]\n",
    "\n",
    "    sum_base_health_reg_dire = 0\n",
    "    for col in index_base_health_reg_dire:\n",
    "    sum_base_health_reg_dire = sum_base_health_reg_dire + shap_values[row, col]\n",
    "\n",
    "    sum_move_speed_dire = 0\n",
    "    for col in index_move_speed_dire:\n",
    "    sum_move_speed_dire = sum_move_speed_dire + shap_values[row, col]\n",
    "\n",
    "\n",
    "    # Win rate historical stats for heroes and players\n",
    "    \n",
    "    index_winrate_rad = list(range(108+238,113+238))\n",
    "    sum_winrate_rad = 0\n",
    "    for col in index_winrate_rad:\n",
    "    sum_winrate_rad = sum_winrate_rad + shap_values[row, col]\n",
    "\n",
    "    index_winrate_dire = list(range(113+238,118+238))\n",
    "    sum_winrate_dire = 0\n",
    "    for col in index_winrate_dire:\n",
    "    sum_winrate_dire = sum_winrate_dire + shap_values[row, col]\n",
    "\n",
    "    index_winrate_player_rad = list(range(118+238,123+238))\n",
    "    winrate_player_rad = 0\n",
    "    for col in index_winrate_player_rad:\n",
    "    winrate_player_rad = winrate_player_rad + shap_values[row, col]\n",
    "\n",
    "    index_winrate_player_dire = list(range(123+238,128+238))\n",
    "    winrate_player_dire = 0\n",
    "    for col in index_winrate_player_dire:\n",
    "    winrate_player_dire = winrate_player_dire + shap_values[row, col]\n",
    "\n",
    "    # Win rate historical stats for hero-player tuple\n",
    "    \n",
    "    # RADIANT\n",
    "    index_winrate_hp_rad = list(range(128+238,133+238))\n",
    "    winrate_hp_rad = 0\n",
    "    for col in index_winrate_hp_rad:\n",
    "    winrate_hp_rad = winrate_hp_rad + shap_values[row, col]\n",
    "\n",
    "    index_xpm_hp_rad = list(range(133+238,138+238))\n",
    "    xpm_hp_rad = 0\n",
    "    for col in index_xpm_hp_rad:\n",
    "    xpm_hp_rad = xpm_hp_rad + shap_values[row, col]\n",
    "\n",
    "    index_goldm_hp_rad = list(range(138+238,143+238))\n",
    "    goldm_hp_rad = 0\n",
    "    for col in index_goldm_hp_rad:\n",
    "    goldm_hp_rad = goldm_hp_rad + shap_values[row, col]\n",
    "\n",
    "    index_deathsm_hp_rad = list(range(143+238,148+238))\n",
    "    deathsm_hp_rad = 0\n",
    "    for col in index_deathsm_hp_rad:\n",
    "    deathsm_hp_rad = deathsm_hp_rad + shap_values[row, col]\n",
    "\n",
    "    index_damagem_hp_rad = list(range(148+238,153+238))\n",
    "    damagem_hp_rad = 0\n",
    "    for col in index_damagem_hp_rad:\n",
    "    damagem_hp_rad = damagem_hp_rad + shap_values[row, col]\n",
    "\n",
    "    index_killm_hp_rad = list(range(153+238,158+238))\n",
    "    killm_hp_rad = 0\n",
    "    for col in index_killm_hp_rad:\n",
    "    killm_hp_rad = killm_hp_rad + shap_values[row, col]\n",
    "\n",
    "    index_assistm_hp_rad = list(range(158+238,163+238))\n",
    "    assistm_hp_rad = 0\n",
    "    for col in index_assistm_hp_rad:\n",
    "    assistm_hp_rad = assistm_hp_rad + shap_values[row, col]\n",
    "\n",
    "    index_hero_damagem_hp_rad = list(range(163+238,168+238))\n",
    "    herodamagem_hp_rad = 0\n",
    "    for col in index_hero_damagem_hp_rad:\n",
    "    herodamagem_hp_rad = herodamagem_hp_rad + shap_values[row, col]\n",
    "\n",
    "    index_healm_hp_rad = list(range(168+238,173+238))\n",
    "    healm_hp_rad = 0\n",
    "    for col in index_healm_hp_rad:\n",
    "    healm_hp_rad = healm_hp_rad + shap_values[row, col]\n",
    "\n",
    "\n",
    "    # DIRE\n",
    "    index_winrate_hp_dire = list(range(173+238,178+238))\n",
    "    winrate_hp_dire = 0\n",
    "    for col in index_winrate_hp_dire:\n",
    "    winrate_hp_dire = winrate_hp_dire + shap_values[row, col]\n",
    "\n",
    "    index_xpm_hp_dire = list(range(178+238,183+238))\n",
    "    xpm_hp_dire = 0\n",
    "    for col in index_xpm_hp_dire:\n",
    "    xpm_hp_dire = xpm_hp_dire + shap_values[row, col]\n",
    "\n",
    "    index_goldm_hp_dire = list(range(183+238,188+238))\n",
    "    goldm_hp_dire = 0\n",
    "    for col in index_goldm_hp_dire:\n",
    "    goldm_hp_dire = goldm_hp_dire + shap_values[row, col]\n",
    "\n",
    "    index_deathsm_hp_dire = list(range(188+238,193+238))\n",
    "    deathsm_hp_dire = 0\n",
    "    for col in index_deathsm_hp_rad:\n",
    "    deathsm_hp_dire = deathsm_hp_dire + shap_values[row, col]\n",
    "\n",
    "    index_damagem_hp_dire = list(range(193+238,198+238))\n",
    "    damagem_hp_dire = 0\n",
    "    for col in index_damagem_hp_rad:\n",
    "    damagem_hp_dire = damagem_hp_dire + shap_values[row, col]\n",
    "\n",
    "    index_killm_hp_dire = list(range(198+238,203+238))\n",
    "    killm_hp_dire = 0\n",
    "    for col in index_killm_hp_dire:\n",
    "    killm_hp_dire = killm_hp_dire + shap_values[row, col]\n",
    "\n",
    "    index_assistm_hp_dire = list(range(203+238,208+238))\n",
    "    assistm_hp_dire = 0\n",
    "    for col in index_assistm_hp_dire:\n",
    "    assistm_hp_dire = assistm_hp_dire + shap_values[row, col]\n",
    "\n",
    "    index_damagem_hp_dire = list(range(208+238,213+238))\n",
    "    herodamagem_hp_dire = 0\n",
    "    for col in index_damagem_hp_dire:\n",
    "    herodamagem_hp_dire = herodamagem_hp_dire + shap_values[row, col]\n",
    "\n",
    "    index_healm_hp_dire = list(range(213+238,218+238))\n",
    "    healm_hp_dire = 0\n",
    "    for col in index_healm_hp_dire:\n",
    "    healm_hp_dire = healm_hp_dire + shap_values[row, col]\n",
    "  \n",
    "    new_row = [sum_hero_rad] + [sum_hero_dire] + list(shap_values[row, 238:256]) + [sum_base_str_rad] + [sum_base_agi_rad] + [sum_base_int_rad] + [sum_str_gain_rad] + [sum_agi_gain_rad] + [sum_int_gain_rad] + [sum_base_health_rad] + [sum_base_health_reg_rad] + [sum_move_speed_rad] + [sum_base_str_dire] + [sum_base_agi_dire] + [sum_base_int_dire] + [sum_str_gain_dire] + [sum_agi_gain_dire] + [sum_int_gain_dire] + [sum_base_health_dire] + [sum_base_health_reg_dire] + [sum_move_speed_dire] + [sum_winrate_rad] + [sum_winrate_dire] + [winrate_player_rad] + [winrate_player_dire] + [winrate_hp_rad] + [xpm_hp_rad] + [goldm_hp_rad] + [deathsm_hp_rad] + [damagem_hp_rad] + [killm_hp_rad] + [assistm_hp_rad] + [herodamagem_hp_rad] + [healm_hp_rad] + [winrate_hp_dire] + [xpm_hp_dire] + [goldm_hp_dire] + [deathsm_hp_dire] + [damagem_hp_dire] + [killm_hp_dire] + [assistm_hp_dire] + [herodamagem_hp_dire] + [healm_hp_dire] + [shap_values[row,198]]\n",
    "\n",
    "    print(len(new_row))\n",
    "\n",
    "    shap_values_new.loc[row] = new_row"
   ]
  },
  {
   "cell_type": "code",
   "execution_count": 103,
   "metadata": {
    "colab": {
     "base_uri": "https://localhost:8080/",
     "height": 34
    },
    "colab_type": "code",
    "executionInfo": {
     "elapsed": 722,
     "status": "ok",
     "timestamp": 1591622608761,
     "user": {
      "displayName": "Markos Viggiato De Almeida",
      "photoUrl": "",
      "userId": "15790694491473808312"
     },
     "user_tz": 360
    },
    "id": "tBwRfSItCKWV",
    "outputId": "c69c5b08-42dd-4b9e-da0a-f3812aafaa8c"
   },
   "outputs": [
    {
     "data": {
      "text/plain": [
       "(552, 61)"
      ]
     },
     "execution_count": 103,
     "metadata": {
      "tags": []
     },
     "output_type": "execute_result"
    }
   ],
   "source": [
    "# Check the shape of the new shap values matrix\n",
    "shap_values_new.shape"
   ]
  },
  {
   "cell_type": "code",
   "execution_count": 0,
   "metadata": {
    "colab": {},
    "colab_type": "code",
    "id": "MXgSNDG2CKWZ"
   },
   "outputs": [],
   "source": [
    "#Convert to numpy\n",
    "shap_values_new = shap_values_new.to_numpy()"
   ]
  },
  {
   "cell_type": "code",
   "execution_count": 0,
   "metadata": {
    "colab": {},
    "colab_type": "code",
    "id": "zVeRgsXxCKWe"
   },
   "outputs": [],
   "source": [
    "# Modify X_test accordingly\n",
    "\n",
    "X_test_new = pd.DataFrame(columns=new_columns)\n",
    "print(X_test_new.shape)\n",
    "for row in range(len(X_test)):\n",
    "\n",
    "    # hero binary array\n",
    "    sum_hero_rad = 0\n",
    "    for col in range(119):\n",
    "    sum_hero_rad = sum_hero_rad + X_test.iloc[row, col]\n",
    "    sum_hero_dire = 0\n",
    "    for col in range(119,238):\n",
    "    sum_hero_dire = sum_hero_dire + X_test.iloc[row, col]\n",
    "\n",
    "\n",
    "    # base and gain stats\n",
    "    \n",
    "    # RADIANT\n",
    "    index_base_str_rad = [18+238, 27+238, 36+238, 45+238, 54+238]\n",
    "    index_base_agi_rad = [x + 1 for x in index_base_str_rad] \n",
    "    index_base_int_rad = [x + 1 for x in index_base_agi_rad] \n",
    "    index_str_gain_rad = [x + 1 for x in index_base_int_rad] \n",
    "    index_agi_gain_rad = [x + 1 for x in index_str_gain_rad] \n",
    "    index_int_gain_rad = [x + 1 for x in index_agi_gain_rad]\n",
    "    index_base_health_rad = [x + 1 for x in index_int_gain_rad]\n",
    "    index_base_health_reg_rad = [x + 1 for x in index_base_health_rad]\n",
    "    index_move_speed_rad = [x + 1 for x in index_base_health_reg_rad]\n",
    "\n",
    "    sum_base_str_rad = 0\n",
    "    for col in index_base_str_rad:\n",
    "    sum_base_str_rad = sum_base_str_rad + X_test.iloc[row, col] \n",
    "\n",
    "    sum_base_agi_rad = 0\n",
    "    for col in index_base_agi_rad:\n",
    "    sum_base_agi_rad = sum_base_agi_rad + X_test.iloc[row, col]\n",
    "\n",
    "    sum_base_int_rad = 0\n",
    "    for col in index_base_int_rad:\n",
    "    sum_base_int_rad = sum_base_int_rad + X_test.iloc[row, col]\n",
    "\n",
    "    sum_str_gain_rad = 0\n",
    "    for col in index_str_gain_rad:\n",
    "    sum_str_gain_rad = sum_str_gain_rad + X_test.iloc[row, col]\n",
    "\n",
    "    sum_agi_gain_rad = 0\n",
    "    for col in index_agi_gain_rad:\n",
    "    sum_agi_gain_rad = sum_agi_gain_rad + X_test.iloc[row, col]\n",
    "\n",
    "    sum_int_gain_rad = 0\n",
    "    for col in index_int_gain_rad:\n",
    "    sum_int_gain_rad = sum_int_gain_rad + X_test.iloc[row, col]\n",
    "\n",
    "    sum_base_health_rad = 0\n",
    "    for col in index_base_health_rad:\n",
    "    sum_base_health_rad = sum_base_health_rad + X_test.iloc[row, col]\n",
    "\n",
    "    sum_base_health_reg_rad = 0\n",
    "    for col in index_base_health_reg_rad:\n",
    "    sum_base_health_reg_rad = sum_base_health_reg_rad + X_test.iloc[row, col]\n",
    "\n",
    "    sum_move_speed_rad = 0\n",
    "    for col in index_move_speed_rad:\n",
    "    sum_move_speed_rad = sum_move_speed_rad + X_test.iloc[row, col]  \n",
    "\n",
    "    # DIRE\n",
    "    index_base_str_dire = [63+238, 72+238, 81+238, 90+238, 99+238]\n",
    "    index_base_agi_dire = [x + 1 for x in index_base_str_dire] \n",
    "    index_base_int_dire = [x + 1 for x in index_base_agi_dire] \n",
    "    index_str_gain_dire = [x + 1 for x in index_base_int_dire] \n",
    "    index_agi_gain_dire = [x + 1 for x in index_str_gain_dire] \n",
    "    index_int_gain_dire = [x + 1 for x in index_agi_gain_dire]\n",
    "    index_base_health_dire = [x + 1 for x in index_int_gain_dire]\n",
    "    index_base_health_reg_dire = [x + 1 for x in index_base_health_dire]\n",
    "    index_move_speed_dire = [x + 1 for x in index_base_health_reg_dire]\n",
    "\n",
    "    sum_base_str_dire = 0\n",
    "    for col in index_base_str_dire:\n",
    "    sum_base_str_dire = sum_base_str_dire + X_test.iloc[row, col] \n",
    "\n",
    "    sum_base_agi_dire = 0\n",
    "    for col in index_base_agi_dire:\n",
    "    sum_base_agi_dire = sum_base_agi_dire + X_test.iloc[row, col]\n",
    "\n",
    "    sum_base_int_dire = 0\n",
    "    for col in index_base_int_dire:\n",
    "    sum_base_int_dire = sum_base_int_dire + X_test.iloc[row, col]\n",
    "\n",
    "    sum_str_gain_dire = 0\n",
    "    for col in index_str_gain_dire:\n",
    "    sum_str_gain_dire = sum_str_gain_dire + X_test.iloc[row, col]\n",
    "\n",
    "    sum_agi_gain_dire = 0\n",
    "    for col in index_agi_gain_dire:\n",
    "    sum_agi_gain_dire = sum_agi_gain_dire + X_test.iloc[row, col]\n",
    "\n",
    "    sum_int_gain_dire = 0\n",
    "    for col in index_int_gain_dire:\n",
    "    sum_int_gain_dire = sum_int_gain_dire + X_test.iloc[row, col]\n",
    "\n",
    "    sum_base_health_dire = 0\n",
    "    for col in index_base_health_dire:\n",
    "    sum_base_health_dire = sum_base_health_dire + X_test.iloc[row, col]\n",
    "\n",
    "    sum_base_health_reg_dire = 0\n",
    "    for col in index_base_health_reg_dire:\n",
    "    sum_base_health_reg_dire = sum_base_health_reg_dire + X_test.iloc[row, col]\n",
    "\n",
    "    sum_move_speed_dire = 0\n",
    "    for col in index_move_speed_dire:\n",
    "    sum_move_speed_dire = sum_move_speed_dire + X_test.iloc[row, col]\n",
    "\n",
    "    # Win rate historical stats for heroes and players\n",
    "    \n",
    "    index_winrate_rad = list(range(108+238,113+238))\n",
    "    sum_winrate_rad = 0\n",
    "    for col in index_winrate_rad:\n",
    "    sum_winrate_rad = sum_winrate_rad + X_test.iloc[row, col]\n",
    "\n",
    "    index_winrate_dire = list(range(113+238,118+238))\n",
    "    sum_winrate_dire = 0\n",
    "    for col in index_winrate_dire:\n",
    "    sum_winrate_dire = sum_winrate_dire + X_test.iloc[row, col]\n",
    "\n",
    "    index_winrate_player_rad = list(range(118+238,123+238))\n",
    "    winrate_player_rad = 0\n",
    "    for col in index_winrate_player_rad:\n",
    "    winrate_player_rad = winrate_player_rad + X_test.iloc[row, col]\n",
    "\n",
    "    index_winrate_player_dire = list(range(123+238,128+238))\n",
    "    winrate_player_dire = 0\n",
    "    for col in index_winrate_player_dire:\n",
    "    winrate_player_dire = winrate_player_dire + X_test.iloc[row, col]\n",
    "\n",
    "\n",
    "    # Win rate historical stats for hero-player tuple\n",
    "    \n",
    "    # RADIANT\n",
    "    index_winrate_hp_rad = list(range(128+238,133+238))\n",
    "    winrate_hp_rad = 0\n",
    "    for col in index_winrate_hp_rad:\n",
    "    winrate_hp_rad = winrate_hp_rad + X_test.iloc[row, col]\n",
    "\n",
    "    index_xpm_hp_rad = list(range(133+238,138+238))\n",
    "    xpm_hp_rad = 0\n",
    "    for col in index_xpm_hp_rad:\n",
    "    xpm_hp_rad = xpm_hp_rad + X_test.iloc[row, col]\n",
    "\n",
    "    index_goldm_hp_rad = list(range(138+238,143+238))\n",
    "    goldm_hp_rad = 0\n",
    "    for col in index_goldm_hp_rad:\n",
    "    goldm_hp_rad = goldm_hp_rad + X_test.iloc[row, col]\n",
    "\n",
    "    index_deathsm_hp_rad = list(range(143+238,148+238))\n",
    "    deathsm_hp_rad = 0\n",
    "    for col in index_deathsm_hp_rad:\n",
    "    deathsm_hp_rad = deathsm_hp_rad + X_test.iloc[row, col]\n",
    "\n",
    "    index_damagem_hp_rad = list(range(148+238,153+238))\n",
    "    damagem_hp_rad = 0\n",
    "    for col in index_damagem_hp_rad:\n",
    "    damagem_hp_rad = damagem_hp_rad + X_test.iloc[row, col]\n",
    "\n",
    "    index_killm_hp_rad = list(range(153+238,158+238))\n",
    "    killm_hp_rad = 0\n",
    "    for col in index_killm_hp_rad:\n",
    "    killm_hp_rad = killm_hp_rad + X_test.iloc[row, col]\n",
    "\n",
    "    index_assistm_hp_rad = list(range(158+238,163+238))\n",
    "    assistm_hp_rad = 0\n",
    "    for col in index_assistm_hp_rad:\n",
    "    assistm_hp_rad = assistm_hp_rad + X_test.iloc[row, col]\n",
    "\n",
    "    index_damagem_hp_rad = list(range(163+238,168+238))\n",
    "    herodamagem_hp_rad = 0\n",
    "    for col in index_damagem_hp_rad:\n",
    "    herodamagem_hp_rad = herodamagem_hp_rad + X_test.iloc[row, col]\n",
    "\n",
    "    index_healm_hp_rad = list(range(168+238,173+238))\n",
    "    healm_hp_rad = 0\n",
    "    for col in index_healm_hp_rad:\n",
    "    healm_hp_rad = healm_hp_rad + X_test.iloc[row, col]\n",
    "\n",
    "    # DIRE\n",
    "    index_winrate_hp_dire = list(range(173+238,178+238))\n",
    "    winrate_hp_dire = 0\n",
    "    for col in index_winrate_hp_dire:\n",
    "    winrate_hp_dire = winrate_hp_dire + X_test.iloc[row, col]\n",
    "\n",
    "    index_xpm_hp_dire = list(range(178+238,183+238))\n",
    "    xpm_hp_dire = 0\n",
    "    for col in index_xpm_hp_dire:\n",
    "    xpm_hp_dire = xpm_hp_dire + X_test.iloc[row, col]\n",
    "\n",
    "    index_goldm_hp_dire = list(range(183+238,188+238))\n",
    "    goldm_hp_dire = 0\n",
    "    for col in index_goldm_hp_dire:\n",
    "    goldm_hp_dire = goldm_hp_dire + X_test.iloc[row, col]\n",
    "\n",
    "    index_deathsm_hp_dire = list(range(188+238,193+238))\n",
    "    deathsm_hp_rad = 0\n",
    "    for col in index_deathsm_hp_rad:\n",
    "    deathsm_hp_rad = deathsm_hp_rad + X_test.iloc[row, col]\n",
    "\n",
    "    index_damagem_hp_dire = list(range(193+238,198+238))\n",
    "    damagem_hp_rad = 0\n",
    "    for col in index_damagem_hp_rad:\n",
    "    damagem_hp_rad = damagem_hp_rad + X_test.iloc[row, col]\n",
    "\n",
    "    index_killm_hp_dire = list(range(198+238,203+238))\n",
    "    killm_hp_dire = 0\n",
    "    for col in index_killm_hp_dire:\n",
    "    killm_hp_dire = killm_hp_dire + X_test.iloc[row, col]\n",
    "\n",
    "    index_assistm_hp_dire = list(range(203+238,208+238))\n",
    "    assistm_hp_dire = 0\n",
    "    for col in index_assistm_hp_dire:\n",
    "    assistm_hp_dire = assistm_hp_dire + X_test.iloc[row, col]\n",
    "\n",
    "    index_damagem_hp_dire = list(range(208+238,213+238))\n",
    "    herodamagem_hp_dire = 0\n",
    "    for col in index_damagem_hp_dire:\n",
    "    herodamagem_hp_dire = herodamagem_hp_dire + X_test.iloc[row, col]\n",
    "\n",
    "    index_healm_hp_dire = list(range(213+238,218+238))\n",
    "    healm_hp_dire = 0\n",
    "    for col in index_healm_hp_dire:\n",
    "    healm_hp_dire = healm_hp_dire + X_test.iloc[row, col]\n",
    "  \n",
    "    new_row = [sum_hero_rad] + [sum_hero_dire] + list(X_test.iloc[row, 238:256]) + [sum_base_str_rad] + [sum_base_agi_rad] + [sum_base_int_rad] + [sum_str_gain_rad] + [sum_agi_gain_rad] + [sum_int_gain_rad] + [sum_base_health_rad] + [sum_base_health_reg_rad] + [sum_move_speed_rad] + [sum_base_str_dire] + [sum_base_agi_dire] + [sum_base_int_dire] + [sum_str_gain_dire] + [sum_agi_gain_dire] + [sum_int_gain_dire] + [sum_base_health_dire] + [sum_base_health_reg_dire] + [sum_move_speed_dire] + [sum_winrate_rad] + [sum_winrate_dire] + [winrate_player_rad] + [winrate_player_dire] + [winrate_hp_rad] + [xpm_hp_rad] + [goldm_hp_rad] + [deathsm_hp_rad] + [damagem_hp_rad] + [killm_hp_rad] + [assistm_hp_rad] + [herodamagem_hp_rad] + [healm_hp_rad] + [winrate_hp_dire] + [xpm_hp_dire] + [goldm_hp_dire] + [deathsm_hp_dire] + [damagem_hp_dire] + [killm_hp_dire] + [assistm_hp_dire] + [herodamagem_hp_dire] + [healm_hp_dire] + [X_test.iloc[row,198]]\n",
    "\n",
    "    print(len(new_row))\n",
    "    X_test_new.loc[row] = new_row"
   ]
  },
  {
   "cell_type": "code",
   "execution_count": 107,
   "metadata": {
    "colab": {
     "base_uri": "https://localhost:8080/",
     "height": 34
    },
    "colab_type": "code",
    "executionInfo": {
     "elapsed": 591,
     "status": "ok",
     "timestamp": 1591622620162,
     "user": {
      "displayName": "Markos Viggiato De Almeida",
      "photoUrl": "",
      "userId": "15790694491473808312"
     },
     "user_tz": 360
    },
    "id": "Km1oLG9BCKWg",
    "outputId": "e18baffd-e1d3-4856-b1b2-f9fc899810f1"
   },
   "outputs": [
    {
     "data": {
      "text/plain": [
       "(552, 61)"
      ]
     },
     "execution_count": 107,
     "metadata": {
      "tags": []
     },
     "output_type": "execute_result"
    }
   ],
   "source": [
    "# Fill in missing values with the median\n",
    "X_test_new = X_test_new.fillna(X_test_new.median())\n",
    "X_test_new.shape"
   ]
  },
  {
   "cell_type": "code",
   "execution_count": 0,
   "metadata": {
    "colab": {},
    "colab_type": "code",
    "id": "a-9eOlIPFoML"
   },
   "outputs": [],
   "source": [
    "# Generate summary plot with proper plot configurations\n",
    "\n",
    "matplotlib.rcParams.update(matplotlib.rcParamsDefault)\n",
    "plt.rcParams[\"font.weight\"] = \"bold\"\n",
    "\n",
    "fig = shap.summary_plot(shap_values_new, X_test_new, show=False)  \n",
    "plt.xlabel('')\n",
    "plt.xticks(fontsize=18)\n",
    "plt.yticks(fontsize=22)\n",
    "plt.savefig('shapvalues_score_bold.pdf', bbox_inches = \"tight\")"
   ]
  },
  {
   "cell_type": "code",
   "execution_count": 0,
   "metadata": {
    "colab": {},
    "colab_type": "code",
    "id": "1GMEAdOGFoMU"
   },
   "outputs": [],
   "source": [
    "# Generate barplot with proper plot configurations\n",
    "\n",
    "matplotlib.rcParams.update(matplotlib.rcParamsDefault)\n",
    "plt.rcParams[\"font.weight\"] = \"bold\"\n",
    "\n",
    "fig = shap.summary_plot(shap_values_new, X_test_new, plot_type=\"bar\", show=False) \n",
    "size = plt.gcf().get_size_inches()\n",
    "print(size) \n",
    "plt.gcf().set_size_inches(9, 13)\n",
    "plt.xlabel('')\n",
    "plt.xticks(fontsize=21)\n",
    "plt.yticks(fontsize=24)\n",
    "plt.savefig('shapvalues_score_barplot_bold.pdf', bbox_inches = \"tight\")"
   ]
  }
 ],
 "metadata": {
  "colab": {
   "authorship_tag": "ABX9TyN0n9FwopB8JPHke9T+fv/D",
   "collapsed_sections": [
    "dnxe7fzMIcEs",
    "xX0OOomUf-Os",
    "qao8c-b9f-PH",
    "wtdy-JhUIOyA",
    "znKW6mrnRl1v",
    "WukE4qjsRl18",
    "gT9vhBouIVuh",
    "2A7VfE3ZmB_Y"
   ],
   "name": "Copy of SHAP_xgboost_hyperparam_tunning_colab.ipynb",
   "provenance": []
  },
  "kernelspec": {
   "display_name": "Python 3",
   "language": "python",
   "name": "python3"
  },
  "language_info": {
   "codemirror_mode": {
    "name": "ipython",
    "version": 3
   },
   "file_extension": ".py",
   "mimetype": "text/x-python",
   "name": "python",
   "nbconvert_exporter": "python",
   "pygments_lexer": "ipython3",
   "version": "3.6.8"
  }
 },
 "nbformat": 4,
 "nbformat_minor": 1
}
