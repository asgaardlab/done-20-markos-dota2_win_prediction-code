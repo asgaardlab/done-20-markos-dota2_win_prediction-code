{
 "cells": [
  {
   "cell_type": "markdown",
   "metadata": {},
   "source": [
    "## Gradient Boosting Machines (XGBoost)\n",
    "\n",
    "Notebook with implementation of the XGBoost algorithm to predict victory in Dota 2\n",
    "\n",
    "-------------------------------------------------------------------------------------------------------------------------------"
   ]
  },
  {
   "cell_type": "markdown",
   "metadata": {},
   "source": [
    "## Time blowout matches"
   ]
  },
  {
   "cell_type": "markdown",
   "metadata": {},
   "source": [
    "Useful functions to use to explore the data and preprocessing steps before feeding the data into the algorithm:\n",
    "\n",
    "* df.columns : to see the names of the columns (i.e., features)\n",
    "* df.dtype : to see the types in the data\n",
    "* data.head()\n",
    "* data.info()\n",
    "* df.describe()\n",
    "\n",
    "Preprocessing steps:\n",
    "\n",
    "* Try two methods for handling missing data: 'automatic xgboost handling' and 'imputing'\n",
    "\n",
    "* Do we need to check for correlation between features? NO (for xgboost)\n",
    "\n",
    "* Do we need to perform feature scaling? NO (for xgboost)(scaler = MinMaxScaler(feature_range=(0, 1)) X = scaler.fit_transform(X))"
   ]
  },
  {
   "cell_type": "code",
   "execution_count": 4,
   "metadata": {},
   "outputs": [],
   "source": [
    "import os\n",
    "import numpy as np\n",
    "import pandas as pd\n",
    "from sklearn.model_selection import train_test_split\n",
    "from sklearn.metrics import precision_score, recall_score, roc_auc_score, roc_curve"
   ]
  },
  {
   "cell_type": "code",
   "execution_count": 7,
   "metadata": {},
   "outputs": [
    {
     "name": "stdout",
     "output_type": "stream",
     "text": [
      "C:\\Users\\markos-ece\\Desktop\\Viggiato\\PhD - UofA\\Research\\2-Dota2\\git-repo-code\\data-analysis\\prediction-models\n",
      "C:\\Users\\markos-ece\\Desktop\\Viggiato\\PhD - UofA\\Research\\2-Dota2\\git-repo-code\\data-analysis\\prediction-models/model_features/time_blowout/\n"
     ]
    }
   ],
   "source": [
    "# Directory for the time blowout group\n",
    "cwd = os.getcwd()\n",
    "root_directory = os.path.dirname(cwd)\n",
    "print(root_directory)\n",
    "time_blowout_data_dir = root_directory + \"/model_features/time_blowout/\"\n",
    "print(time_blowout_data_dir)"
   ]
  },
  {
   "cell_type": "markdown",
   "metadata": {},
   "source": [
    "### Exploration and preprocessing of the data"
   ]
  },
  {
   "cell_type": "code",
   "execution_count": 11,
   "metadata": {},
   "outputs": [],
   "source": [
    "feature_time_blowout_df = pd.read_csv(time_blowout_data_dir + \"dota2_time_blowout_features.csv\")"
   ]
  },
  {
   "cell_type": "code",
   "execution_count": null,
   "metadata": {},
   "outputs": [],
   "source": [
    "# Print feature names\n",
    "feature_time_blowout_df.columns"
   ]
  },
  {
   "cell_type": "code",
   "execution_count": null,
   "metadata": {},
   "outputs": [],
   "source": [
    "# Existing types\n",
    "feature_time_blowout_df.dtypes"
   ]
  },
  {
   "cell_type": "code",
   "execution_count": 25,
   "metadata": {},
   "outputs": [
    {
     "data": {
      "text/html": [
       "<div>\n",
       "<style scoped>\n",
       "    .dataframe tbody tr th:only-of-type {\n",
       "        vertical-align: middle;\n",
       "    }\n",
       "\n",
       "    .dataframe tbody tr th {\n",
       "        vertical-align: top;\n",
       "    }\n",
       "\n",
       "    .dataframe thead th {\n",
       "        text-align: right;\n",
       "    }\n",
       "</style>\n",
       "<table border=\"1\" class=\"dataframe\">\n",
       "  <thead>\n",
       "    <tr style=\"text-align: right;\">\n",
       "      <th></th>\n",
       "      <th>match_id</th>\n",
       "      <th>barracks_status_radiant</th>\n",
       "      <th>tower_status_radiant</th>\n",
       "      <th>first_blood_time</th>\n",
       "      <th>radiant_first_pick</th>\n",
       "      <th>base_agility</th>\n",
       "      <th>base_strength</th>\n",
       "      <th>base_intelligence</th>\n",
       "      <th>agility_gain</th>\n",
       "      <th>strength_gain</th>\n",
       "      <th>...</th>\n",
       "      <th>assists</th>\n",
       "      <th>deaths</th>\n",
       "      <th>gold_per_min</th>\n",
       "      <th>experience_per_min</th>\n",
       "      <th>kills_per_min</th>\n",
       "      <th>last_hits_per_min</th>\n",
       "      <th>hero_damage_per_min</th>\n",
       "      <th>hero_healing_per_min</th>\n",
       "      <th>tower_damage</th>\n",
       "      <th>win_label</th>\n",
       "    </tr>\n",
       "  </thead>\n",
       "  <tbody>\n",
       "    <tr>\n",
       "      <th>0</th>\n",
       "      <td>1000290559</td>\n",
       "      <td>6</td>\n",
       "      <td>11</td>\n",
       "      <td>195</td>\n",
       "      <td>1.0</td>\n",
       "      <td>21</td>\n",
       "      <td>15</td>\n",
       "      <td>16</td>\n",
       "      <td>2.3</td>\n",
       "      <td>1.5</td>\n",
       "      <td>...</td>\n",
       "      <td>5</td>\n",
       "      <td>0</td>\n",
       "      <td>358</td>\n",
       "      <td>420</td>\n",
       "      <td>0.194595</td>\n",
       "      <td>3.891892</td>\n",
       "      <td>0.0</td>\n",
       "      <td>0.0</td>\n",
       "      <td>NaN</td>\n",
       "      <td>1</td>\n",
       "    </tr>\n",
       "    <tr>\n",
       "      <th>1</th>\n",
       "      <td>1000352316</td>\n",
       "      <td>6</td>\n",
       "      <td>4</td>\n",
       "      <td>119</td>\n",
       "      <td>1.0</td>\n",
       "      <td>23</td>\n",
       "      <td>15</td>\n",
       "      <td>18</td>\n",
       "      <td>3.4</td>\n",
       "      <td>1.3</td>\n",
       "      <td>...</td>\n",
       "      <td>5</td>\n",
       "      <td>6</td>\n",
       "      <td>216</td>\n",
       "      <td>232</td>\n",
       "      <td>0.049020</td>\n",
       "      <td>1.715686</td>\n",
       "      <td>0.0</td>\n",
       "      <td>0.0</td>\n",
       "      <td>NaN</td>\n",
       "      <td>0</td>\n",
       "    </tr>\n",
       "    <tr>\n",
       "      <th>2</th>\n",
       "      <td>1003326282</td>\n",
       "      <td>6</td>\n",
       "      <td>9</td>\n",
       "      <td>168</td>\n",
       "      <td>0.0</td>\n",
       "      <td>23</td>\n",
       "      <td>15</td>\n",
       "      <td>22</td>\n",
       "      <td>3.0</td>\n",
       "      <td>1.6</td>\n",
       "      <td>...</td>\n",
       "      <td>10</td>\n",
       "      <td>3</td>\n",
       "      <td>368</td>\n",
       "      <td>428</td>\n",
       "      <td>0.141066</td>\n",
       "      <td>2.962382</td>\n",
       "      <td>0.0</td>\n",
       "      <td>0.0</td>\n",
       "      <td>NaN</td>\n",
       "      <td>1</td>\n",
       "    </tr>\n",
       "    <tr>\n",
       "      <th>3</th>\n",
       "      <td>1005038978</td>\n",
       "      <td>6</td>\n",
       "      <td>10</td>\n",
       "      <td>193</td>\n",
       "      <td>1.0</td>\n",
       "      <td>23</td>\n",
       "      <td>14</td>\n",
       "      <td>18</td>\n",
       "      <td>3.4</td>\n",
       "      <td>1.5</td>\n",
       "      <td>...</td>\n",
       "      <td>9</td>\n",
       "      <td>1</td>\n",
       "      <td>320</td>\n",
       "      <td>395</td>\n",
       "      <td>0.201511</td>\n",
       "      <td>2.367758</td>\n",
       "      <td>0.0</td>\n",
       "      <td>0.0</td>\n",
       "      <td>NaN</td>\n",
       "      <td>1</td>\n",
       "    </tr>\n",
       "    <tr>\n",
       "      <th>4</th>\n",
       "      <td>1005085064</td>\n",
       "      <td>6</td>\n",
       "      <td>11</td>\n",
       "      <td>271</td>\n",
       "      <td>0.0</td>\n",
       "      <td>25</td>\n",
       "      <td>15</td>\n",
       "      <td>19</td>\n",
       "      <td>3.0</td>\n",
       "      <td>2.5</td>\n",
       "      <td>...</td>\n",
       "      <td>2</td>\n",
       "      <td>4</td>\n",
       "      <td>203</td>\n",
       "      <td>211</td>\n",
       "      <td>0.000000</td>\n",
       "      <td>1.488251</td>\n",
       "      <td>0.0</td>\n",
       "      <td>0.0</td>\n",
       "      <td>NaN</td>\n",
       "      <td>0</td>\n",
       "    </tr>\n",
       "  </tbody>\n",
       "</table>\n",
       "<p>5 rows × 36 columns</p>\n",
       "</div>"
      ],
      "text/plain": [
       "     match_id  barracks_status_radiant  tower_status_radiant  \\\n",
       "0  1000290559                        6                    11   \n",
       "1  1000352316                        6                     4   \n",
       "2  1003326282                        6                     9   \n",
       "3  1005038978                        6                    10   \n",
       "4  1005085064                        6                    11   \n",
       "\n",
       "   first_blood_time  radiant_first_pick  base_agility  base_strength  \\\n",
       "0               195                 1.0            21             15   \n",
       "1               119                 1.0            23             15   \n",
       "2               168                 0.0            23             15   \n",
       "3               193                 1.0            23             14   \n",
       "4               271                 0.0            25             15   \n",
       "\n",
       "   base_intelligence  agility_gain  strength_gain  ...  assists  deaths  \\\n",
       "0                 16           2.3            1.5  ...        5       0   \n",
       "1                 18           3.4            1.3  ...        5       6   \n",
       "2                 22           3.0            1.6  ...       10       3   \n",
       "3                 18           3.4            1.5  ...        9       1   \n",
       "4                 19           3.0            2.5  ...        2       4   \n",
       "\n",
       "   gold_per_min  experience_per_min  kills_per_min  last_hits_per_min  \\\n",
       "0           358                 420       0.194595           3.891892   \n",
       "1           216                 232       0.049020           1.715686   \n",
       "2           368                 428       0.141066           2.962382   \n",
       "3           320                 395       0.201511           2.367758   \n",
       "4           203                 211       0.000000           1.488251   \n",
       "\n",
       "   hero_damage_per_min  hero_healing_per_min  tower_damage  win_label  \n",
       "0                  0.0                   0.0           NaN          1  \n",
       "1                  0.0                   0.0           NaN          0  \n",
       "2                  0.0                   0.0           NaN          1  \n",
       "3                  0.0                   0.0           NaN          1  \n",
       "4                  0.0                   0.0           NaN          0  \n",
       "\n",
       "[5 rows x 36 columns]"
      ]
     },
     "execution_count": 25,
     "metadata": {},
     "output_type": "execute_result"
    }
   ],
   "source": [
    "feature_time_blowout_df.head()\n"
   ]
  },
  {
   "cell_type": "code",
   "execution_count": 26,
   "metadata": {},
   "outputs": [],
   "source": [
    "# Drop first ccolumn (match id)\n",
    "feature_time_blowout_df = feature_time_blowout_df.drop(['match_id'], axis=1)"
   ]
  },
  {
   "cell_type": "code",
   "execution_count": 27,
   "metadata": {},
   "outputs": [
    {
     "data": {
      "text/html": [
       "<div>\n",
       "<style scoped>\n",
       "    .dataframe tbody tr th:only-of-type {\n",
       "        vertical-align: middle;\n",
       "    }\n",
       "\n",
       "    .dataframe tbody tr th {\n",
       "        vertical-align: top;\n",
       "    }\n",
       "\n",
       "    .dataframe thead th {\n",
       "        text-align: right;\n",
       "    }\n",
       "</style>\n",
       "<table border=\"1\" class=\"dataframe\">\n",
       "  <thead>\n",
       "    <tr style=\"text-align: right;\">\n",
       "      <th></th>\n",
       "      <th>barracks_status_radiant</th>\n",
       "      <th>tower_status_radiant</th>\n",
       "      <th>first_blood_time</th>\n",
       "      <th>radiant_first_pick</th>\n",
       "      <th>base_agility</th>\n",
       "      <th>base_strength</th>\n",
       "      <th>base_intelligence</th>\n",
       "      <th>agility_gain</th>\n",
       "      <th>strength_gain</th>\n",
       "      <th>intelligence_gain</th>\n",
       "      <th>...</th>\n",
       "      <th>assists</th>\n",
       "      <th>deaths</th>\n",
       "      <th>gold_per_min</th>\n",
       "      <th>experience_per_min</th>\n",
       "      <th>kills_per_min</th>\n",
       "      <th>last_hits_per_min</th>\n",
       "      <th>hero_damage_per_min</th>\n",
       "      <th>hero_healing_per_min</th>\n",
       "      <th>tower_damage</th>\n",
       "      <th>win_label</th>\n",
       "    </tr>\n",
       "  </thead>\n",
       "  <tbody>\n",
       "    <tr>\n",
       "      <th>0</th>\n",
       "      <td>6</td>\n",
       "      <td>11</td>\n",
       "      <td>195</td>\n",
       "      <td>1.0</td>\n",
       "      <td>21</td>\n",
       "      <td>15</td>\n",
       "      <td>16</td>\n",
       "      <td>2.3</td>\n",
       "      <td>1.5</td>\n",
       "      <td>2.5</td>\n",
       "      <td>...</td>\n",
       "      <td>5</td>\n",
       "      <td>0</td>\n",
       "      <td>358</td>\n",
       "      <td>420</td>\n",
       "      <td>0.194595</td>\n",
       "      <td>3.891892</td>\n",
       "      <td>0.0</td>\n",
       "      <td>0.0</td>\n",
       "      <td>NaN</td>\n",
       "      <td>1</td>\n",
       "    </tr>\n",
       "    <tr>\n",
       "      <th>1</th>\n",
       "      <td>6</td>\n",
       "      <td>4</td>\n",
       "      <td>119</td>\n",
       "      <td>1.0</td>\n",
       "      <td>23</td>\n",
       "      <td>15</td>\n",
       "      <td>18</td>\n",
       "      <td>3.4</td>\n",
       "      <td>1.3</td>\n",
       "      <td>2.5</td>\n",
       "      <td>...</td>\n",
       "      <td>5</td>\n",
       "      <td>6</td>\n",
       "      <td>216</td>\n",
       "      <td>232</td>\n",
       "      <td>0.049020</td>\n",
       "      <td>1.715686</td>\n",
       "      <td>0.0</td>\n",
       "      <td>0.0</td>\n",
       "      <td>NaN</td>\n",
       "      <td>0</td>\n",
       "    </tr>\n",
       "    <tr>\n",
       "      <th>2</th>\n",
       "      <td>6</td>\n",
       "      <td>9</td>\n",
       "      <td>168</td>\n",
       "      <td>0.0</td>\n",
       "      <td>23</td>\n",
       "      <td>15</td>\n",
       "      <td>22</td>\n",
       "      <td>3.0</td>\n",
       "      <td>1.6</td>\n",
       "      <td>2.2</td>\n",
       "      <td>...</td>\n",
       "      <td>10</td>\n",
       "      <td>3</td>\n",
       "      <td>368</td>\n",
       "      <td>428</td>\n",
       "      <td>0.141066</td>\n",
       "      <td>2.962382</td>\n",
       "      <td>0.0</td>\n",
       "      <td>0.0</td>\n",
       "      <td>NaN</td>\n",
       "      <td>1</td>\n",
       "    </tr>\n",
       "    <tr>\n",
       "      <th>3</th>\n",
       "      <td>6</td>\n",
       "      <td>10</td>\n",
       "      <td>193</td>\n",
       "      <td>1.0</td>\n",
       "      <td>23</td>\n",
       "      <td>14</td>\n",
       "      <td>18</td>\n",
       "      <td>3.4</td>\n",
       "      <td>1.5</td>\n",
       "      <td>2.5</td>\n",
       "      <td>...</td>\n",
       "      <td>9</td>\n",
       "      <td>1</td>\n",
       "      <td>320</td>\n",
       "      <td>395</td>\n",
       "      <td>0.201511</td>\n",
       "      <td>2.367758</td>\n",
       "      <td>0.0</td>\n",
       "      <td>0.0</td>\n",
       "      <td>NaN</td>\n",
       "      <td>1</td>\n",
       "    </tr>\n",
       "    <tr>\n",
       "      <th>4</th>\n",
       "      <td>6</td>\n",
       "      <td>11</td>\n",
       "      <td>271</td>\n",
       "      <td>0.0</td>\n",
       "      <td>25</td>\n",
       "      <td>15</td>\n",
       "      <td>19</td>\n",
       "      <td>3.0</td>\n",
       "      <td>2.5</td>\n",
       "      <td>3.1</td>\n",
       "      <td>...</td>\n",
       "      <td>2</td>\n",
       "      <td>4</td>\n",
       "      <td>203</td>\n",
       "      <td>211</td>\n",
       "      <td>0.000000</td>\n",
       "      <td>1.488251</td>\n",
       "      <td>0.0</td>\n",
       "      <td>0.0</td>\n",
       "      <td>NaN</td>\n",
       "      <td>0</td>\n",
       "    </tr>\n",
       "  </tbody>\n",
       "</table>\n",
       "<p>5 rows × 35 columns</p>\n",
       "</div>"
      ],
      "text/plain": [
       "   barracks_status_radiant  tower_status_radiant  first_blood_time  \\\n",
       "0                        6                    11               195   \n",
       "1                        6                     4               119   \n",
       "2                        6                     9               168   \n",
       "3                        6                    10               193   \n",
       "4                        6                    11               271   \n",
       "\n",
       "   radiant_first_pick  base_agility  base_strength  base_intelligence  \\\n",
       "0                 1.0            21             15                 16   \n",
       "1                 1.0            23             15                 18   \n",
       "2                 0.0            23             15                 22   \n",
       "3                 1.0            23             14                 18   \n",
       "4                 0.0            25             15                 19   \n",
       "\n",
       "   agility_gain  strength_gain  intelligence_gain  ...  assists  deaths  \\\n",
       "0           2.3            1.5                2.5  ...        5       0   \n",
       "1           3.4            1.3                2.5  ...        5       6   \n",
       "2           3.0            1.6                2.2  ...       10       3   \n",
       "3           3.4            1.5                2.5  ...        9       1   \n",
       "4           3.0            2.5                3.1  ...        2       4   \n",
       "\n",
       "   gold_per_min  experience_per_min  kills_per_min  last_hits_per_min  \\\n",
       "0           358                 420       0.194595           3.891892   \n",
       "1           216                 232       0.049020           1.715686   \n",
       "2           368                 428       0.141066           2.962382   \n",
       "3           320                 395       0.201511           2.367758   \n",
       "4           203                 211       0.000000           1.488251   \n",
       "\n",
       "   hero_damage_per_min  hero_healing_per_min  tower_damage  win_label  \n",
       "0                  0.0                   0.0           NaN          1  \n",
       "1                  0.0                   0.0           NaN          0  \n",
       "2                  0.0                   0.0           NaN          1  \n",
       "3                  0.0                   0.0           NaN          1  \n",
       "4                  0.0                   0.0           NaN          0  \n",
       "\n",
       "[5 rows x 35 columns]"
      ]
     },
     "execution_count": 27,
     "metadata": {},
     "output_type": "execute_result"
    }
   ],
   "source": [
    "feature_time_blowout_df.head()"
   ]
  },
  {
   "cell_type": "code",
   "execution_count": null,
   "metadata": {},
   "outputs": [],
   "source": [
    "feature_time_blowout_df.describe()"
   ]
  },
  {
   "cell_type": "code",
   "execution_count": 194,
   "metadata": {},
   "outputs": [
    {
     "name": "stdout",
     "output_type": "stream",
     "text": [
      "<class 'pandas.core.frame.DataFrame'>\n",
      "RangeIndex: 5528 entries, 0 to 5527\n",
      "Data columns (total 35 columns):\n",
      "barracks_status_radiant    5528 non-null int64\n",
      "tower_status_radiant       5528 non-null int64\n",
      "first_blood_time           5528 non-null int64\n",
      "radiant_first_pick         5465 non-null float64\n",
      "base_agility               5528 non-null int64\n",
      "base_strength              5528 non-null int64\n",
      "base_intelligence          5528 non-null int64\n",
      "agility_gain               5528 non-null float64\n",
      "strength_gain              5528 non-null float64\n",
      "intelligence_gain          5528 non-null float64\n",
      "role_carry                 5528 non-null int64\n",
      "role_support               5528 non-null int64\n",
      "role_nuker                 5528 non-null int64\n",
      "role_disabler              5528 non-null int64\n",
      "role_jungler               5528 non-null int64\n",
      "role_durable               5528 non-null int64\n",
      "role_escape                5528 non-null int64\n",
      "role_pusher                5528 non-null int64\n",
      "role_initiator             5528 non-null int64\n",
      "ability_uses               5327 non-null float64\n",
      "item_uses                  5327 non-null float64\n",
      "different_item_uses        5327 non-null float64\n",
      "obs_placed                 4576 non-null float64\n",
      "sen_placed                 4576 non-null float64\n",
      "actions_per_min            5322 non-null float64\n",
      "assists                    5528 non-null int64\n",
      "deaths                     5528 non-null int64\n",
      "gold_per_min               5528 non-null int64\n",
      "experience_per_min         5528 non-null int64\n",
      "kills_per_min              5528 non-null float64\n",
      "last_hits_per_min          5528 non-null float64\n",
      "hero_damage_per_min        5528 non-null float64\n",
      "hero_healing_per_min       5528 non-null float64\n",
      "tower_damage               3712 non-null float64\n",
      "win_label                  5528 non-null int64\n",
      "dtypes: float64(15), int64(20)\n",
      "memory usage: 1.5 MB\n"
     ]
    }
   ],
   "source": [
    "feature_time_blowout_df.info()\n"
   ]
  },
  {
   "cell_type": "markdown",
   "metadata": {},
   "source": [
    "Features with NA values that we need to handle:\n",
    "\n",
    "- radiant_first_pick\n",
    "- ability_uses               \n",
    "- item_uses                 \n",
    "- different_item_uses        \n",
    "- obs_placed                 \n",
    "- sen_placed                 \n",
    "- actions_per_min  \n",
    "- tower_damage"
   ]
  },
  {
   "cell_type": "code",
   "execution_count": 21,
   "metadata": {},
   "outputs": [
    {
     "name": "stdout",
     "output_type": "stream",
     "text": [
      "63\n",
      "201\n",
      "201\n",
      "201\n",
      "952\n",
      "952\n",
      "206\n",
      "1816\n"
     ]
    }
   ],
   "source": [
    "print(feature_time_blowout_df[\"radiant_first_pick\"].isnull().sum())\n",
    "print(feature_time_blowout_df[\"ability_uses\"].isnull().sum())\n",
    "print(feature_time_blowout_df[\"item_uses\"].isnull().sum())\n",
    "print(feature_time_blowout_df[\"different_item_uses\"].isnull().sum())\n",
    "print(feature_time_blowout_df[\"obs_placed\"].isnull().sum())\n",
    "print(feature_time_blowout_df[\"sen_placed\"].isnull().sum())\n",
    "print(feature_time_blowout_df[\"actions_per_min\"].isnull().sum())\n",
    "print(feature_time_blowout_df[\"tower_damage\"].isnull().sum())"
   ]
  },
  {
   "cell_type": "code",
   "execution_count": null,
   "metadata": {},
   "outputs": [],
   "source": [
    "# Change type of 'radiant_first_pick' from float to int\n",
    "# feature_time_blowout_df[\"radiant_first_pick\"] = feature_time_blowout_df[\"radiant_first_pick\"].astype(\"int\")"
   ]
  },
  {
   "cell_type": "markdown",
   "metadata": {},
   "source": [
    "### Model building, training and evaluation"
   ]
  },
  {
   "cell_type": "code",
   "execution_count": 207,
   "metadata": {},
   "outputs": [],
   "source": [
    "import xgboost as xgb\n",
    "from xgboost import XGBClassifier\n",
    "from sklearn.metrics import roc_curve\n",
    "from sklearn.metrics import auc\n",
    "import statistics as st"
   ]
  },
  {
   "cell_type": "code",
   "execution_count": 208,
   "metadata": {},
   "outputs": [],
   "source": [
    "X, y = feature_time_blowout_df.iloc[:,:-1],feature_time_blowout_df.iloc[:,-1]"
   ]
  },
  {
   "cell_type": "code",
   "execution_count": 209,
   "metadata": {},
   "outputs": [
    {
     "data": {
      "text/html": [
       "<div>\n",
       "<style scoped>\n",
       "    .dataframe tbody tr th:only-of-type {\n",
       "        vertical-align: middle;\n",
       "    }\n",
       "\n",
       "    .dataframe tbody tr th {\n",
       "        vertical-align: top;\n",
       "    }\n",
       "\n",
       "    .dataframe thead th {\n",
       "        text-align: right;\n",
       "    }\n",
       "</style>\n",
       "<table border=\"1\" class=\"dataframe\">\n",
       "  <thead>\n",
       "    <tr style=\"text-align: right;\">\n",
       "      <th></th>\n",
       "      <th>barracks_status_radiant</th>\n",
       "      <th>tower_status_radiant</th>\n",
       "      <th>first_blood_time</th>\n",
       "      <th>radiant_first_pick</th>\n",
       "      <th>base_agility</th>\n",
       "      <th>base_strength</th>\n",
       "      <th>base_intelligence</th>\n",
       "      <th>agility_gain</th>\n",
       "      <th>strength_gain</th>\n",
       "      <th>intelligence_gain</th>\n",
       "      <th>...</th>\n",
       "      <th>actions_per_min</th>\n",
       "      <th>assists</th>\n",
       "      <th>deaths</th>\n",
       "      <th>gold_per_min</th>\n",
       "      <th>experience_per_min</th>\n",
       "      <th>kills_per_min</th>\n",
       "      <th>last_hits_per_min</th>\n",
       "      <th>hero_damage_per_min</th>\n",
       "      <th>hero_healing_per_min</th>\n",
       "      <th>tower_damage</th>\n",
       "    </tr>\n",
       "  </thead>\n",
       "  <tbody>\n",
       "    <tr>\n",
       "      <th>0</th>\n",
       "      <td>6</td>\n",
       "      <td>11</td>\n",
       "      <td>195</td>\n",
       "      <td>1.0</td>\n",
       "      <td>21</td>\n",
       "      <td>15</td>\n",
       "      <td>16</td>\n",
       "      <td>2.3</td>\n",
       "      <td>1.5</td>\n",
       "      <td>2.5</td>\n",
       "      <td>...</td>\n",
       "      <td>0.0</td>\n",
       "      <td>5</td>\n",
       "      <td>0</td>\n",
       "      <td>358</td>\n",
       "      <td>420</td>\n",
       "      <td>0.194595</td>\n",
       "      <td>3.891892</td>\n",
       "      <td>0.0</td>\n",
       "      <td>0.0</td>\n",
       "      <td>NaN</td>\n",
       "    </tr>\n",
       "    <tr>\n",
       "      <th>1</th>\n",
       "      <td>6</td>\n",
       "      <td>4</td>\n",
       "      <td>119</td>\n",
       "      <td>1.0</td>\n",
       "      <td>23</td>\n",
       "      <td>15</td>\n",
       "      <td>18</td>\n",
       "      <td>3.4</td>\n",
       "      <td>1.3</td>\n",
       "      <td>2.5</td>\n",
       "      <td>...</td>\n",
       "      <td>0.0</td>\n",
       "      <td>5</td>\n",
       "      <td>6</td>\n",
       "      <td>216</td>\n",
       "      <td>232</td>\n",
       "      <td>0.049020</td>\n",
       "      <td>1.715686</td>\n",
       "      <td>0.0</td>\n",
       "      <td>0.0</td>\n",
       "      <td>NaN</td>\n",
       "    </tr>\n",
       "    <tr>\n",
       "      <th>2</th>\n",
       "      <td>6</td>\n",
       "      <td>9</td>\n",
       "      <td>168</td>\n",
       "      <td>0.0</td>\n",
       "      <td>23</td>\n",
       "      <td>15</td>\n",
       "      <td>22</td>\n",
       "      <td>3.0</td>\n",
       "      <td>1.6</td>\n",
       "      <td>2.2</td>\n",
       "      <td>...</td>\n",
       "      <td>NaN</td>\n",
       "      <td>10</td>\n",
       "      <td>3</td>\n",
       "      <td>368</td>\n",
       "      <td>428</td>\n",
       "      <td>0.141066</td>\n",
       "      <td>2.962382</td>\n",
       "      <td>0.0</td>\n",
       "      <td>0.0</td>\n",
       "      <td>NaN</td>\n",
       "    </tr>\n",
       "    <tr>\n",
       "      <th>3</th>\n",
       "      <td>6</td>\n",
       "      <td>10</td>\n",
       "      <td>193</td>\n",
       "      <td>1.0</td>\n",
       "      <td>23</td>\n",
       "      <td>14</td>\n",
       "      <td>18</td>\n",
       "      <td>3.4</td>\n",
       "      <td>1.5</td>\n",
       "      <td>2.5</td>\n",
       "      <td>...</td>\n",
       "      <td>0.0</td>\n",
       "      <td>9</td>\n",
       "      <td>1</td>\n",
       "      <td>320</td>\n",
       "      <td>395</td>\n",
       "      <td>0.201511</td>\n",
       "      <td>2.367758</td>\n",
       "      <td>0.0</td>\n",
       "      <td>0.0</td>\n",
       "      <td>NaN</td>\n",
       "    </tr>\n",
       "    <tr>\n",
       "      <th>4</th>\n",
       "      <td>6</td>\n",
       "      <td>11</td>\n",
       "      <td>271</td>\n",
       "      <td>0.0</td>\n",
       "      <td>25</td>\n",
       "      <td>15</td>\n",
       "      <td>19</td>\n",
       "      <td>3.0</td>\n",
       "      <td>2.5</td>\n",
       "      <td>3.1</td>\n",
       "      <td>...</td>\n",
       "      <td>NaN</td>\n",
       "      <td>2</td>\n",
       "      <td>4</td>\n",
       "      <td>203</td>\n",
       "      <td>211</td>\n",
       "      <td>0.000000</td>\n",
       "      <td>1.488251</td>\n",
       "      <td>0.0</td>\n",
       "      <td>0.0</td>\n",
       "      <td>NaN</td>\n",
       "    </tr>\n",
       "  </tbody>\n",
       "</table>\n",
       "<p>5 rows × 34 columns</p>\n",
       "</div>"
      ],
      "text/plain": [
       "   barracks_status_radiant  tower_status_radiant  first_blood_time  \\\n",
       "0                        6                    11               195   \n",
       "1                        6                     4               119   \n",
       "2                        6                     9               168   \n",
       "3                        6                    10               193   \n",
       "4                        6                    11               271   \n",
       "\n",
       "   radiant_first_pick  base_agility  base_strength  base_intelligence  \\\n",
       "0                 1.0            21             15                 16   \n",
       "1                 1.0            23             15                 18   \n",
       "2                 0.0            23             15                 22   \n",
       "3                 1.0            23             14                 18   \n",
       "4                 0.0            25             15                 19   \n",
       "\n",
       "   agility_gain  strength_gain  intelligence_gain  ...  actions_per_min  \\\n",
       "0           2.3            1.5                2.5  ...              0.0   \n",
       "1           3.4            1.3                2.5  ...              0.0   \n",
       "2           3.0            1.6                2.2  ...              NaN   \n",
       "3           3.4            1.5                2.5  ...              0.0   \n",
       "4           3.0            2.5                3.1  ...              NaN   \n",
       "\n",
       "   assists  deaths  gold_per_min  experience_per_min  kills_per_min  \\\n",
       "0        5       0           358                 420       0.194595   \n",
       "1        5       6           216                 232       0.049020   \n",
       "2       10       3           368                 428       0.141066   \n",
       "3        9       1           320                 395       0.201511   \n",
       "4        2       4           203                 211       0.000000   \n",
       "\n",
       "   last_hits_per_min  hero_damage_per_min  hero_healing_per_min  tower_damage  \n",
       "0           3.891892                  0.0                   0.0           NaN  \n",
       "1           1.715686                  0.0                   0.0           NaN  \n",
       "2           2.962382                  0.0                   0.0           NaN  \n",
       "3           2.367758                  0.0                   0.0           NaN  \n",
       "4           1.488251                  0.0                   0.0           NaN  \n",
       "\n",
       "[5 rows x 34 columns]"
      ]
     },
     "execution_count": 209,
     "metadata": {},
     "output_type": "execute_result"
    }
   ],
   "source": [
    "X.head()"
   ]
  },
  {
   "cell_type": "code",
   "execution_count": 210,
   "metadata": {},
   "outputs": [
    {
     "data": {
      "text/plain": [
       "(5528, 34)"
      ]
     },
     "execution_count": 210,
     "metadata": {},
     "output_type": "execute_result"
    }
   ],
   "source": [
    "X.shape"
   ]
  },
  {
   "cell_type": "code",
   "execution_count": 211,
   "metadata": {},
   "outputs": [
    {
     "data": {
      "text/plain": [
       "0    1\n",
       "1    0\n",
       "2    1\n",
       "3    1\n",
       "4    0\n",
       "Name: win_label, dtype: int64"
      ]
     },
     "execution_count": 211,
     "metadata": {},
     "output_type": "execute_result"
    }
   ],
   "source": [
    "y.head()"
   ]
  },
  {
   "cell_type": "code",
   "execution_count": 212,
   "metadata": {},
   "outputs": [
    {
     "data": {
      "text/plain": [
       "(5528,)"
      ]
     },
     "execution_count": 212,
     "metadata": {},
     "output_type": "execute_result"
    }
   ],
   "source": [
    "y.shape"
   ]
  },
  {
   "cell_type": "code",
   "execution_count": 213,
   "metadata": {},
   "outputs": [],
   "source": [
    "data_dmatrix = xgb.DMatrix(data=X,label=y)"
   ]
  },
  {
   "cell_type": "code",
   "execution_count": 214,
   "metadata": {},
   "outputs": [],
   "source": [
    "X_train, X_test, y_train, y_test = train_test_split(X, y, test_size=0.2, random_state=123)"
   ]
  },
  {
   "cell_type": "code",
   "execution_count": 215,
   "metadata": {},
   "outputs": [],
   "source": [
    "xg_reg = xgb.XGBClassifier(objective ='binary:logistic', colsample_bytree = 0.3, learning_rate = 0.1,\n",
    "                max_depth = 5, alpha = 10, n_estimators = 100, early_stopping_rounds=10, eval_metric='auc')"
   ]
  },
  {
   "cell_type": "markdown",
   "metadata": {},
   "source": [
    "#### test and train - auc (ok)"
   ]
  },
  {
   "cell_type": "code",
   "execution_count": 201,
   "metadata": {},
   "outputs": [
    {
     "name": "stdout",
     "output_type": "stream",
     "text": [
      "[23:01:02] WARNING: C:\\Users\\Administrator\\workspace\\xgboost-win64_release_1.1.0\\src\\learner.cc:480: \n",
      "Parameters: { early_stopping_rounds } might not be used.\n",
      "\n",
      "  This may not be accurate due to some parameters are only used in language bindings but\n",
      "  passed down to XGBoost core.  Or some parameters are not used but slip through this\n",
      "  verification. Please open an issue if you find above cases.\n",
      "\n",
      "\n"
     ]
    },
    {
     "data": {
      "text/plain": [
       "XGBClassifier(alpha=10, base_score=0.5, booster='gbtree', colsample_bylevel=1,\n",
       "       colsample_bynode=1, colsample_bytree=0.3, early_stopping_rounds=10,\n",
       "       eval_metric='auc', gamma=0, gpu_id=-1, importance_type='gain',\n",
       "       interaction_constraints='', learning_rate=0.1, max_delta_step=0,\n",
       "       max_depth=5, min_child_weight=1, missing=nan,\n",
       "       monotone_constraints='()', n_estimators=100, n_jobs=0,\n",
       "       num_parallel_tree=1, objective='binary:logistic', random_state=0,\n",
       "       reg_alpha=10, reg_lambda=1, scale_pos_weight=1, subsample=1,\n",
       "       tree_method='exact', validate_parameters=1, verbosity=None)"
      ]
     },
     "execution_count": 201,
     "metadata": {},
     "output_type": "execute_result"
    }
   ],
   "source": [
    "xg_reg.fit(X_train,y_train)"
   ]
  },
  {
   "cell_type": "code",
   "execution_count": 202,
   "metadata": {},
   "outputs": [],
   "source": [
    "preds = xg_reg.predict(X_test)"
   ]
  },
  {
   "cell_type": "code",
   "execution_count": 203,
   "metadata": {},
   "outputs": [
    {
     "data": {
      "text/plain": [
       "0.9565543093780801"
      ]
     },
     "execution_count": 203,
     "metadata": {},
     "output_type": "execute_result"
    }
   ],
   "source": [
    "fpr, tpr, _ = roc_curve(y_test, preds, pos_label=1)\n",
    "roc_auc = auc(fpr, tpr)\n",
    "roc_auc"
   ]
  },
  {
   "cell_type": "code",
   "execution_count": 204,
   "metadata": {},
   "outputs": [
    {
     "name": "stdout",
     "output_type": "stream",
     "text": [
      "0.9567745201751295\n",
      "0.9564591181032572\n",
      "0.956456054014763\n"
     ]
    }
   ],
   "source": [
    "from sklearn.metrics import precision_recall_fscore_support\n",
    "\n",
    "stats = precision_recall_fscore_support(y_test, preds, average='weighted')\n",
    "precision = stats[0]\n",
    "recall = stats[1]\n",
    "f_measure = stats[2]\n",
    "print(precision)\n",
    "print(recall)\n",
    "print(f_measure)"
   ]
  },
  {
   "cell_type": "markdown",
   "metadata": {},
   "source": [
    "### k-fold cv - 1"
   ]
  },
  {
   "cell_type": "code",
   "execution_count": 98,
   "metadata": {},
   "outputs": [],
   "source": [
    "kf = KFold(n_splits=10,shuffle=True, random_state=123)\n",
    "cv_preds = cross_val_predict(xg_reg,X_train,y_train,cv=kf)"
   ]
  },
  {
   "cell_type": "code",
   "execution_count": 99,
   "metadata": {},
   "outputs": [
    {
     "data": {
      "text/plain": [
       "4422"
      ]
     },
     "execution_count": 99,
     "metadata": {},
     "output_type": "execute_result"
    }
   ],
   "source": [
    "len(cv_preds)"
   ]
  },
  {
   "cell_type": "code",
   "execution_count": null,
   "metadata": {},
   "outputs": [],
   "source": [
    "fpr, tpr, _ = roc_curve(y_test, cv_preds, pos_label=1)\n",
    "roc_auc = auc(fpr, tpr)"
   ]
  },
  {
   "cell_type": "markdown",
   "metadata": {},
   "source": [
    "### k-fold cv - 2 (ok)"
   ]
  },
  {
   "cell_type": "code",
   "execution_count": 119,
   "metadata": {},
   "outputs": [],
   "source": [
    "params = {\"objective\":\"binary:logistic\",'colsample_bytree': 0.3,'learning_rate': 0.1,\n",
    "                'max_depth': 5, 'alpha': 10}\n",
    "\n",
    "cv_results = xgb.cv(dtrain=data_dmatrix, params=params, nfold=10,\n",
    "                    num_boost_round=50,early_stopping_rounds=10,metrics=\"auc\", as_pandas=True, seed=123)"
   ]
  },
  {
   "cell_type": "code",
   "execution_count": 120,
   "metadata": {},
   "outputs": [
    {
     "data": {
      "text/html": [
       "<div>\n",
       "<style scoped>\n",
       "    .dataframe tbody tr th:only-of-type {\n",
       "        vertical-align: middle;\n",
       "    }\n",
       "\n",
       "    .dataframe tbody tr th {\n",
       "        vertical-align: top;\n",
       "    }\n",
       "\n",
       "    .dataframe thead th {\n",
       "        text-align: right;\n",
       "    }\n",
       "</style>\n",
       "<table border=\"1\" class=\"dataframe\">\n",
       "  <thead>\n",
       "    <tr style=\"text-align: right;\">\n",
       "      <th></th>\n",
       "      <th>train-auc-mean</th>\n",
       "      <th>train-auc-std</th>\n",
       "      <th>test-auc-mean</th>\n",
       "      <th>test-auc-std</th>\n",
       "    </tr>\n",
       "  </thead>\n",
       "  <tbody>\n",
       "    <tr>\n",
       "      <th>0</th>\n",
       "      <td>0.965217</td>\n",
       "      <td>0.000583</td>\n",
       "      <td>0.964546</td>\n",
       "      <td>0.005191</td>\n",
       "    </tr>\n",
       "    <tr>\n",
       "      <th>1</th>\n",
       "      <td>0.994421</td>\n",
       "      <td>0.005050</td>\n",
       "      <td>0.994593</td>\n",
       "      <td>0.005806</td>\n",
       "    </tr>\n",
       "    <tr>\n",
       "      <th>2</th>\n",
       "      <td>0.997397</td>\n",
       "      <td>0.001623</td>\n",
       "      <td>0.997449</td>\n",
       "      <td>0.001936</td>\n",
       "    </tr>\n",
       "    <tr>\n",
       "      <th>3</th>\n",
       "      <td>0.998349</td>\n",
       "      <td>0.001102</td>\n",
       "      <td>0.997995</td>\n",
       "      <td>0.001998</td>\n",
       "    </tr>\n",
       "    <tr>\n",
       "      <th>4</th>\n",
       "      <td>0.998542</td>\n",
       "      <td>0.001161</td>\n",
       "      <td>0.998173</td>\n",
       "      <td>0.002183</td>\n",
       "    </tr>\n",
       "  </tbody>\n",
       "</table>\n",
       "</div>"
      ],
      "text/plain": [
       "   train-auc-mean  train-auc-std  test-auc-mean  test-auc-std\n",
       "0        0.965217       0.000583       0.964546      0.005191\n",
       "1        0.994421       0.005050       0.994593      0.005806\n",
       "2        0.997397       0.001623       0.997449      0.001936\n",
       "3        0.998349       0.001102       0.997995      0.001998\n",
       "4        0.998542       0.001161       0.998173      0.002183"
      ]
     },
     "execution_count": 120,
     "metadata": {},
     "output_type": "execute_result"
    }
   ],
   "source": [
    "cv_results.head()"
   ]
  },
  {
   "cell_type": "code",
   "execution_count": 121,
   "metadata": {},
   "outputs": [
    {
     "name": "stdout",
     "output_type": "stream",
     "text": [
      "30    0.999751\n",
      "Name: test-auc-mean, dtype: float64\n"
     ]
    }
   ],
   "source": [
    "print((cv_results[\"test-auc-mean\"]).tail(1))"
   ]
  },
  {
   "cell_type": "markdown",
   "metadata": {},
   "source": [
    "### k-fold cv - 3 (best)"
   ]
  },
  {
   "cell_type": "code",
   "execution_count": 216,
   "metadata": {},
   "outputs": [
    {
     "name": "stdout",
     "output_type": "stream",
     "text": [
      "30\n",
      "Median ROC AUC: 0.99997\n"
     ]
    }
   ],
   "source": [
    "from sklearn.model_selection import KFold\n",
    "from sklearn.model_selection import cross_val_score\n",
    "from sklearn.model_selection import RepeatedKFold\n",
    "\n",
    "# define evaluation procedure\n",
    "cv = RepeatedKFold(n_splits=10, n_repeats=3, random_state=1)\n",
    "# evaluate model\n",
    "scores = cross_val_score(xg_reg, X, y, scoring='roc_auc', cv=cv, n_jobs=-1)\n",
    "# summarize performance\n",
    "print(len(scores))\n",
    "print('Median ROC AUC: %.5f' % st.median(scores))"
   ]
  },
  {
   "cell_type": "code",
   "execution_count": 131,
   "metadata": {},
   "outputs": [
    {
     "name": "stdout",
     "output_type": "stream",
     "text": [
      "2258\n"
     ]
    }
   ],
   "source": [
    "countclass = 0\n",
    "for each in y:\n",
    "    if each==0:\n",
    "        countclass+=1\n",
    "print(countclass)"
   ]
  },
  {
   "cell_type": "markdown",
   "metadata": {},
   "source": [
    "## Score difference blowout matches"
   ]
  },
  {
   "cell_type": "markdown",
   "metadata": {},
   "source": [
    "Useful functions to use to explore the data and preprocessing steps before feeding the data into the algorithm:\n",
    "\n",
    "* df.columns : to see the names of the columns (i.e., features)\n",
    "* df.dtype : to see the types in the data\n",
    "* data.head()\n",
    "* data.info()\n",
    "* df.describe()\n",
    "\n",
    "Preprocessing steps:\n",
    "\n",
    "* Try two methods for handling missing data: 'automatic xgboost handling' and 'imputing'\n",
    "\n",
    "* Do we need to check for correlation between features? NO (for xgboost)\n",
    "\n",
    "* Do we need to perform feature scaling? NO (for xgboost)(scaler = MinMaxScaler(feature_range=(0, 1)) X = scaler.fit_transform(X))"
   ]
  },
  {
   "cell_type": "code",
   "execution_count": 217,
   "metadata": {},
   "outputs": [
    {
     "name": "stdout",
     "output_type": "stream",
     "text": [
      "C:\\Users\\markos-ece\\Desktop\\Viggiato\\PhD - UofA\\Research\\2-Dota2\\git-repo-code\\data-analysis\\prediction-models\n",
      "C:\\Users\\markos-ece\\Desktop\\Viggiato\\PhD - UofA\\Research\\2-Dota2\\git-repo-code\\data-analysis\\prediction-models/model_features/score_blowout/\n"
     ]
    }
   ],
   "source": [
    "# Directory for the time blowout group\n",
    "cwd = os.getcwd()### Exploration and preprocessing of the data\n",
    "root_directory = os.path.dirname(cwd)\n",
    "print(root_directory)\n",
    "score_blowout_data_dir = root_directory + \"/model_features/score_blowout/\"\n",
    "print(score_blowout_data_dir)"
   ]
  },
  {
   "cell_type": "markdown",
   "metadata": {},
   "source": [
    "### Exploration and preprocessing of the data"
   ]
  },
  {
   "cell_type": "code",
   "execution_count": 218,
   "metadata": {},
   "outputs": [],
   "source": [
    "feature_score_blowout_df = pd.read_csv(score_blowout_data_dir + \"dota2_score_blowout_features.csv\")"
   ]
  },
  {
   "cell_type": "code",
   "execution_count": null,
   "metadata": {
    "scrolled": false
   },
   "outputs": [],
   "source": [
    "# Print feature names\n",
    "feature_score_blowout_df.columns"
   ]
  },
  {
   "cell_type": "code",
   "execution_count": null,
   "metadata": {
    "scrolled": true
   },
   "outputs": [],
   "source": [
    "# Existing types\n",
    "feature_score_blowout_df.dtypes"
   ]
  },
  {
   "cell_type": "code",
   "execution_count": 147,
   "metadata": {
    "scrolled": true
   },
   "outputs": [
    {
     "data": {
      "text/html": [
       "<div>\n",
       "<style scoped>\n",
       "    .dataframe tbody tr th:only-of-type {\n",
       "        vertical-align: middle;\n",
       "    }\n",
       "\n",
       "    .dataframe tbody tr th {\n",
       "        vertical-align: top;\n",
       "    }\n",
       "\n",
       "    .dataframe thead th {\n",
       "        text-align: right;\n",
       "    }\n",
       "</style>\n",
       "<table border=\"1\" class=\"dataframe\">\n",
       "  <thead>\n",
       "    <tr style=\"text-align: right;\">\n",
       "      <th></th>\n",
       "      <th>match_id</th>\n",
       "      <th>barracks_status_radiant</th>\n",
       "      <th>tower_status_radiant</th>\n",
       "      <th>first_blood_time</th>\n",
       "      <th>radiant_first_pick</th>\n",
       "      <th>base_agility</th>\n",
       "      <th>base_strength</th>\n",
       "      <th>base_intelligence</th>\n",
       "      <th>agility_gain</th>\n",
       "      <th>strength_gain</th>\n",
       "      <th>...</th>\n",
       "      <th>assists</th>\n",
       "      <th>deaths</th>\n",
       "      <th>gold_per_min</th>\n",
       "      <th>experience_per_min</th>\n",
       "      <th>kills_per_min</th>\n",
       "      <th>last_hits_per_min</th>\n",
       "      <th>hero_damage_per_min</th>\n",
       "      <th>hero_healing_per_min</th>\n",
       "      <th>tower_damage</th>\n",
       "      <th>win_label</th>\n",
       "    </tr>\n",
       "  </thead>\n",
       "  <tbody>\n",
       "    <tr>\n",
       "      <th>0</th>\n",
       "      <td>2249183244</td>\n",
       "      <td>6</td>\n",
       "      <td>7</td>\n",
       "      <td>175</td>\n",
       "      <td>1.0</td>\n",
       "      <td>23</td>\n",
       "      <td>22</td>\n",
       "      <td>18</td>\n",
       "      <td>2.6</td>\n",
       "      <td>2.1</td>\n",
       "      <td>...</td>\n",
       "      <td>21</td>\n",
       "      <td>5</td>\n",
       "      <td>420</td>\n",
       "      <td>476</td>\n",
       "      <td>0.117111</td>\n",
       "      <td>4.098894</td>\n",
       "      <td>169.538061</td>\n",
       "      <td>0.000000</td>\n",
       "      <td>817</td>\n",
       "      <td>1</td>\n",
       "    </tr>\n",
       "    <tr>\n",
       "      <th>1</th>\n",
       "      <td>2249648072</td>\n",
       "      <td>6</td>\n",
       "      <td>7</td>\n",
       "      <td>263</td>\n",
       "      <td>0.0</td>\n",
       "      <td>19</td>\n",
       "      <td>19</td>\n",
       "      <td>19</td>\n",
       "      <td>2.3</td>\n",
       "      <td>3.0</td>\n",
       "      <td>...</td>\n",
       "      <td>16</td>\n",
       "      <td>3</td>\n",
       "      <td>490</td>\n",
       "      <td>521</td>\n",
       "      <td>0.230137</td>\n",
       "      <td>3.353425</td>\n",
       "      <td>337.841096</td>\n",
       "      <td>14.991781</td>\n",
       "      <td>2367</td>\n",
       "      <td>1</td>\n",
       "    </tr>\n",
       "    <tr>\n",
       "      <th>2</th>\n",
       "      <td>2249657217</td>\n",
       "      <td>0</td>\n",
       "      <td>0</td>\n",
       "      <td>0</td>\n",
       "      <td>0.0</td>\n",
       "      <td>20</td>\n",
       "      <td>23</td>\n",
       "      <td>18</td>\n",
       "      <td>2.3</td>\n",
       "      <td>1.8</td>\n",
       "      <td>...</td>\n",
       "      <td>2</td>\n",
       "      <td>7</td>\n",
       "      <td>238</td>\n",
       "      <td>251</td>\n",
       "      <td>0.041580</td>\n",
       "      <td>1.829522</td>\n",
       "      <td>194.636175</td>\n",
       "      <td>0.000000</td>\n",
       "      <td>10</td>\n",
       "      <td>0</td>\n",
       "    </tr>\n",
       "    <tr>\n",
       "      <th>3</th>\n",
       "      <td>2249657602</td>\n",
       "      <td>6</td>\n",
       "      <td>11</td>\n",
       "      <td>107</td>\n",
       "      <td>0.0</td>\n",
       "      <td>19</td>\n",
       "      <td>15</td>\n",
       "      <td>22</td>\n",
       "      <td>2.4</td>\n",
       "      <td>1.7</td>\n",
       "      <td>...</td>\n",
       "      <td>11</td>\n",
       "      <td>2</td>\n",
       "      <td>533</td>\n",
       "      <td>553</td>\n",
       "      <td>0.289680</td>\n",
       "      <td>5.141823</td>\n",
       "      <td>308.038624</td>\n",
       "      <td>1.629451</td>\n",
       "      <td>898</td>\n",
       "      <td>1</td>\n",
       "    </tr>\n",
       "    <tr>\n",
       "      <th>4</th>\n",
       "      <td>2249734660</td>\n",
       "      <td>6</td>\n",
       "      <td>11</td>\n",
       "      <td>77</td>\n",
       "      <td>0.0</td>\n",
       "      <td>18</td>\n",
       "      <td>20</td>\n",
       "      <td>17</td>\n",
       "      <td>2.4</td>\n",
       "      <td>2.5</td>\n",
       "      <td>...</td>\n",
       "      <td>10</td>\n",
       "      <td>1</td>\n",
       "      <td>784</td>\n",
       "      <td>396</td>\n",
       "      <td>0.531646</td>\n",
       "      <td>3.493671</td>\n",
       "      <td>680.050633</td>\n",
       "      <td>19.518987</td>\n",
       "      <td>1643</td>\n",
       "      <td>1</td>\n",
       "    </tr>\n",
       "  </tbody>\n",
       "</table>\n",
       "<p>5 rows × 36 columns</p>\n",
       "</div>"
      ],
      "text/plain": [
       "     match_id  barracks_status_radiant  tower_status_radiant  \\\n",
       "0  2249183244                        6                     7   \n",
       "1  2249648072                        6                     7   \n",
       "2  2249657217                        0                     0   \n",
       "3  2249657602                        6                    11   \n",
       "4  2249734660                        6                    11   \n",
       "\n",
       "   first_blood_time  radiant_first_pick  base_agility  base_strength  \\\n",
       "0               175                 1.0            23             22   \n",
       "1               263                 0.0            19             19   \n",
       "2                 0                 0.0            20             23   \n",
       "3               107                 0.0            19             15   \n",
       "4                77                 0.0            18             20   \n",
       "\n",
       "   base_intelligence  agility_gain  strength_gain  ...  assists  deaths  \\\n",
       "0                 18           2.6            2.1  ...       21       5   \n",
       "1                 19           2.3            3.0  ...       16       3   \n",
       "2                 18           2.3            1.8  ...        2       7   \n",
       "3                 22           2.4            1.7  ...       11       2   \n",
       "4                 17           2.4            2.5  ...       10       1   \n",
       "\n",
       "   gold_per_min  experience_per_min  kills_per_min  last_hits_per_min  \\\n",
       "0           420                 476       0.117111           4.098894   \n",
       "1           490                 521       0.230137           3.353425   \n",
       "2           238                 251       0.041580           1.829522   \n",
       "3           533                 553       0.289680           5.141823   \n",
       "4           784                 396       0.531646           3.493671   \n",
       "\n",
       "   hero_damage_per_min  hero_healing_per_min  tower_damage  win_label  \n",
       "0           169.538061              0.000000           817          1  \n",
       "1           337.841096             14.991781          2367          1  \n",
       "2           194.636175              0.000000            10          0  \n",
       "3           308.038624              1.629451           898          1  \n",
       "4           680.050633             19.518987          1643          1  \n",
       "\n",
       "[5 rows x 36 columns]"
      ]
     },
     "execution_count": 147,
     "metadata": {},
     "output_type": "execute_result"
    }
   ],
   "source": [
    "feature_score_blowout_df.head()"
   ]
  },
  {
   "cell_type": "code",
   "execution_count": 223,
   "metadata": {},
   "outputs": [],
   "source": [
    "# Drop first ccolumn (match id)\n",
    "feature_score_blowout_df = feature_score_blowout_df.drop(['match_id'], axis=1)"
   ]
  },
  {
   "cell_type": "code",
   "execution_count": 224,
   "metadata": {
    "scrolled": true
   },
   "outputs": [
    {
     "data": {
      "text/html": [
       "<div>\n",
       "<style scoped>\n",
       "    .dataframe tbody tr th:only-of-type {\n",
       "        vertical-align: middle;\n",
       "    }\n",
       "\n",
       "    .dataframe tbody tr th {\n",
       "        vertical-align: top;\n",
       "    }\n",
       "\n",
       "    .dataframe thead th {\n",
       "        text-align: right;\n",
       "    }\n",
       "</style>\n",
       "<table border=\"1\" class=\"dataframe\">\n",
       "  <thead>\n",
       "    <tr style=\"text-align: right;\">\n",
       "      <th></th>\n",
       "      <th>barracks_status_radiant</th>\n",
       "      <th>tower_status_radiant</th>\n",
       "      <th>first_blood_time</th>\n",
       "      <th>radiant_first_pick</th>\n",
       "      <th>base_agility</th>\n",
       "      <th>base_strength</th>\n",
       "      <th>base_intelligence</th>\n",
       "      <th>agility_gain</th>\n",
       "      <th>strength_gain</th>\n",
       "      <th>intelligence_gain</th>\n",
       "      <th>...</th>\n",
       "      <th>assists</th>\n",
       "      <th>deaths</th>\n",
       "      <th>gold_per_min</th>\n",
       "      <th>experience_per_min</th>\n",
       "      <th>kills_per_min</th>\n",
       "      <th>last_hits_per_min</th>\n",
       "      <th>hero_damage_per_min</th>\n",
       "      <th>hero_healing_per_min</th>\n",
       "      <th>tower_damage</th>\n",
       "      <th>win_label</th>\n",
       "    </tr>\n",
       "  </thead>\n",
       "  <tbody>\n",
       "    <tr>\n",
       "      <th>0</th>\n",
       "      <td>6</td>\n",
       "      <td>7</td>\n",
       "      <td>175</td>\n",
       "      <td>1.0</td>\n",
       "      <td>23</td>\n",
       "      <td>22</td>\n",
       "      <td>18</td>\n",
       "      <td>2.6</td>\n",
       "      <td>2.1</td>\n",
       "      <td>1.9</td>\n",
       "      <td>...</td>\n",
       "      <td>21</td>\n",
       "      <td>5</td>\n",
       "      <td>420</td>\n",
       "      <td>476</td>\n",
       "      <td>0.117111</td>\n",
       "      <td>4.098894</td>\n",
       "      <td>169.538061</td>\n",
       "      <td>0.000000</td>\n",
       "      <td>817</td>\n",
       "      <td>1</td>\n",
       "    </tr>\n",
       "    <tr>\n",
       "      <th>1</th>\n",
       "      <td>6</td>\n",
       "      <td>7</td>\n",
       "      <td>263</td>\n",
       "      <td>0.0</td>\n",
       "      <td>19</td>\n",
       "      <td>19</td>\n",
       "      <td>19</td>\n",
       "      <td>2.3</td>\n",
       "      <td>3.0</td>\n",
       "      <td>2.1</td>\n",
       "      <td>...</td>\n",
       "      <td>16</td>\n",
       "      <td>3</td>\n",
       "      <td>490</td>\n",
       "      <td>521</td>\n",
       "      <td>0.230137</td>\n",
       "      <td>3.353425</td>\n",
       "      <td>337.841096</td>\n",
       "      <td>14.991781</td>\n",
       "      <td>2367</td>\n",
       "      <td>1</td>\n",
       "    </tr>\n",
       "    <tr>\n",
       "      <th>2</th>\n",
       "      <td>0</td>\n",
       "      <td>0</td>\n",
       "      <td>0</td>\n",
       "      <td>0.0</td>\n",
       "      <td>20</td>\n",
       "      <td>23</td>\n",
       "      <td>18</td>\n",
       "      <td>2.3</td>\n",
       "      <td>1.8</td>\n",
       "      <td>3.3</td>\n",
       "      <td>...</td>\n",
       "      <td>2</td>\n",
       "      <td>7</td>\n",
       "      <td>238</td>\n",
       "      <td>251</td>\n",
       "      <td>0.041580</td>\n",
       "      <td>1.829522</td>\n",
       "      <td>194.636175</td>\n",
       "      <td>0.000000</td>\n",
       "      <td>10</td>\n",
       "      <td>0</td>\n",
       "    </tr>\n",
       "    <tr>\n",
       "      <th>3</th>\n",
       "      <td>6</td>\n",
       "      <td>11</td>\n",
       "      <td>107</td>\n",
       "      <td>0.0</td>\n",
       "      <td>19</td>\n",
       "      <td>15</td>\n",
       "      <td>22</td>\n",
       "      <td>2.4</td>\n",
       "      <td>1.7</td>\n",
       "      <td>3.3</td>\n",
       "      <td>...</td>\n",
       "      <td>11</td>\n",
       "      <td>2</td>\n",
       "      <td>533</td>\n",
       "      <td>553</td>\n",
       "      <td>0.289680</td>\n",
       "      <td>5.141823</td>\n",
       "      <td>308.038624</td>\n",
       "      <td>1.629451</td>\n",
       "      <td>898</td>\n",
       "      <td>1</td>\n",
       "    </tr>\n",
       "    <tr>\n",
       "      <th>4</th>\n",
       "      <td>6</td>\n",
       "      <td>11</td>\n",
       "      <td>77</td>\n",
       "      <td>0.0</td>\n",
       "      <td>18</td>\n",
       "      <td>20</td>\n",
       "      <td>17</td>\n",
       "      <td>2.4</td>\n",
       "      <td>2.5</td>\n",
       "      <td>1.8</td>\n",
       "      <td>...</td>\n",
       "      <td>10</td>\n",
       "      <td>1</td>\n",
       "      <td>784</td>\n",
       "      <td>396</td>\n",
       "      <td>0.531646</td>\n",
       "      <td>3.493671</td>\n",
       "      <td>680.050633</td>\n",
       "      <td>19.518987</td>\n",
       "      <td>1643</td>\n",
       "      <td>1</td>\n",
       "    </tr>\n",
       "  </tbody>\n",
       "</table>\n",
       "<p>5 rows × 35 columns</p>\n",
       "</div>"
      ],
      "text/plain": [
       "   barracks_status_radiant  tower_status_radiant  first_blood_time  \\\n",
       "0                        6                     7               175   \n",
       "1                        6                     7               263   \n",
       "2                        0                     0                 0   \n",
       "3                        6                    11               107   \n",
       "4                        6                    11                77   \n",
       "\n",
       "   radiant_first_pick  base_agility  base_strength  base_intelligence  \\\n",
       "0                 1.0            23             22                 18   \n",
       "1                 0.0            19             19                 19   \n",
       "2                 0.0            20             23                 18   \n",
       "3                 0.0            19             15                 22   \n",
       "4                 0.0            18             20                 17   \n",
       "\n",
       "   agility_gain  strength_gain  intelligence_gain  ...  assists  deaths  \\\n",
       "0           2.6            2.1                1.9  ...       21       5   \n",
       "1           2.3            3.0                2.1  ...       16       3   \n",
       "2           2.3            1.8                3.3  ...        2       7   \n",
       "3           2.4            1.7                3.3  ...       11       2   \n",
       "4           2.4            2.5                1.8  ...       10       1   \n",
       "\n",
       "   gold_per_min  experience_per_min  kills_per_min  last_hits_per_min  \\\n",
       "0           420                 476       0.117111           4.098894   \n",
       "1           490                 521       0.230137           3.353425   \n",
       "2           238                 251       0.041580           1.829522   \n",
       "3           533                 553       0.289680           5.141823   \n",
       "4           784                 396       0.531646           3.493671   \n",
       "\n",
       "   hero_damage_per_min  hero_healing_per_min  tower_damage  win_label  \n",
       "0           169.538061              0.000000           817          1  \n",
       "1           337.841096             14.991781          2367          1  \n",
       "2           194.636175              0.000000            10          0  \n",
       "3           308.038624              1.629451           898          1  \n",
       "4           680.050633             19.518987          1643          1  \n",
       "\n",
       "[5 rows x 35 columns]"
      ]
     },
     "execution_count": 224,
     "metadata": {},
     "output_type": "execute_result"
    }
   ],
   "source": [
    "feature_score_blowout_df.head()"
   ]
  },
  {
   "cell_type": "code",
   "execution_count": null,
   "metadata": {
    "scrolled": true
   },
   "outputs": [],
   "source": [
    "feature_score_blowout_df.describe()"
   ]
  },
  {
   "cell_type": "code",
   "execution_count": 151,
   "metadata": {
    "scrolled": true
   },
   "outputs": [
    {
     "name": "stdout",
     "output_type": "stream",
     "text": [
      "<class 'pandas.core.frame.DataFrame'>\n",
      "RangeIndex: 5528 entries, 0 to 5527\n",
      "Data columns (total 35 columns):\n",
      "barracks_status_radiant    5528 non-null int64\n",
      "tower_status_radiant       5528 non-null int64\n",
      "first_blood_time           5528 non-null int64\n",
      "radiant_first_pick         5517 non-null float64\n",
      "base_agility               5528 non-null int64\n",
      "base_strength              5528 non-null int64\n",
      "base_intelligence          5528 non-null int64\n",
      "agility_gain               5528 non-null float64\n",
      "strength_gain              5528 non-null float64\n",
      "intelligence_gain          5528 non-null float64\n",
      "role_carry                 5528 non-null int64\n",
      "role_support               5528 non-null int64\n",
      "role_nuker                 5528 non-null int64\n",
      "role_disabler              5528 non-null int64\n",
      "role_jungler               5528 non-null int64\n",
      "role_durable               5528 non-null int64\n",
      "role_escape                5528 non-null int64\n",
      "role_pusher                5528 non-null int64\n",
      "role_initiator             5528 non-null int64\n",
      "ability_uses               5372 non-null float64\n",
      "item_uses                  5372 non-null float64\n",
      "different_item_uses        5372 non-null float64\n",
      "obs_placed                 4967 non-null float64\n",
      "sen_placed                 4967 non-null float64\n",
      "actions_per_min            5372 non-null float64\n",
      "assists                    5528 non-null int64\n",
      "deaths                     5528 non-null int64\n",
      "gold_per_min               5528 non-null int64\n",
      "experience_per_min         5528 non-null int64\n",
      "kills_per_min              5528 non-null float64\n",
      "last_hits_per_min          5528 non-null float64\n",
      "hero_damage_per_min        5528 non-null float64\n",
      "hero_healing_per_min       5528 non-null float64\n",
      "tower_damage               5528 non-null int64\n",
      "win_label                  5528 non-null int64\n",
      "dtypes: float64(14), int64(21)\n",
      "memory usage: 1.5 MB\n"
     ]
    }
   ],
   "source": [
    "feature_score_blowout_df.info()\n"
   ]
  },
  {
   "cell_type": "markdown",
   "metadata": {},
   "source": [
    "Features with NA values that we need to handle:\n",
    "\n",
    "- radiant_first_pick\n",
    "- ability_uses               \n",
    "- item_uses                 \n",
    "- different_item_uses        \n",
    "- obs_placed                 \n",
    "- sen_placed                 \n",
    "- actions_per_min  "
   ]
  },
  {
   "cell_type": "code",
   "execution_count": 153,
   "metadata": {},
   "outputs": [
    {
     "name": "stdout",
     "output_type": "stream",
     "text": [
      "11\n",
      "156\n",
      "156\n",
      "156\n",
      "561\n",
      "561\n",
      "156\n"
     ]
    }
   ],
   "source": [
    "print(feature_score_blowout_df[\"radiant_first_pick\"].isnull().sum())\n",
    "print(feature_score_blowout_df[\"ability_uses\"].isnull().sum())\n",
    "print(feature_score_blowout_df[\"item_uses\"].isnull().sum())\n",
    "print(feature_score_blowout_df[\"different_item_uses\"].isnull().sum())\n",
    "print(feature_score_blowout_df[\"obs_placed\"].isnull().sum())\n",
    "print(feature_score_blowout_df[\"sen_placed\"].isnull().sum())\n",
    "print(feature_score_blowout_df[\"actions_per_min\"].isnull().sum())"
   ]
  },
  {
   "cell_type": "markdown",
   "metadata": {},
   "source": [
    "### Model building, training and evaluation"
   ]
  },
  {
   "cell_type": "code",
   "execution_count": 225,
   "metadata": {},
   "outputs": [],
   "source": [
    "import xgboost as xgb\n",
    "from xgboost import XGBClassifier\n",
    "from sklearn.metrics import roc_curve\n",
    "from sklearn.metrics import auc\n",
    "import statistics as st"
   ]
  },
  {
   "cell_type": "code",
   "execution_count": 226,
   "metadata": {},
   "outputs": [],
   "source": [
    "X, y = feature_score_blowout_df.iloc[:,:-1],feature_score_blowout_df.iloc[:,-1]"
   ]
  },
  {
   "cell_type": "code",
   "execution_count": 227,
   "metadata": {
    "scrolled": false
   },
   "outputs": [
    {
     "data": {
      "text/html": [
       "<div>\n",
       "<style scoped>\n",
       "    .dataframe tbody tr th:only-of-type {\n",
       "        vertical-align: middle;\n",
       "    }\n",
       "\n",
       "    .dataframe tbody tr th {\n",
       "        vertical-align: top;\n",
       "    }\n",
       "\n",
       "    .dataframe thead th {\n",
       "        text-align: right;\n",
       "    }\n",
       "</style>\n",
       "<table border=\"1\" class=\"dataframe\">\n",
       "  <thead>\n",
       "    <tr style=\"text-align: right;\">\n",
       "      <th></th>\n",
       "      <th>barracks_status_radiant</th>\n",
       "      <th>tower_status_radiant</th>\n",
       "      <th>first_blood_time</th>\n",
       "      <th>radiant_first_pick</th>\n",
       "      <th>base_agility</th>\n",
       "      <th>base_strength</th>\n",
       "      <th>base_intelligence</th>\n",
       "      <th>agility_gain</th>\n",
       "      <th>strength_gain</th>\n",
       "      <th>intelligence_gain</th>\n",
       "      <th>...</th>\n",
       "      <th>actions_per_min</th>\n",
       "      <th>assists</th>\n",
       "      <th>deaths</th>\n",
       "      <th>gold_per_min</th>\n",
       "      <th>experience_per_min</th>\n",
       "      <th>kills_per_min</th>\n",
       "      <th>last_hits_per_min</th>\n",
       "      <th>hero_damage_per_min</th>\n",
       "      <th>hero_healing_per_min</th>\n",
       "      <th>tower_damage</th>\n",
       "    </tr>\n",
       "  </thead>\n",
       "  <tbody>\n",
       "    <tr>\n",
       "      <th>0</th>\n",
       "      <td>6</td>\n",
       "      <td>7</td>\n",
       "      <td>175</td>\n",
       "      <td>1.0</td>\n",
       "      <td>23</td>\n",
       "      <td>22</td>\n",
       "      <td>18</td>\n",
       "      <td>2.6</td>\n",
       "      <td>2.1</td>\n",
       "      <td>1.9</td>\n",
       "      <td>...</td>\n",
       "      <td>158.0</td>\n",
       "      <td>21</td>\n",
       "      <td>5</td>\n",
       "      <td>420</td>\n",
       "      <td>476</td>\n",
       "      <td>0.117111</td>\n",
       "      <td>4.098894</td>\n",
       "      <td>169.538061</td>\n",
       "      <td>0.000000</td>\n",
       "      <td>817</td>\n",
       "    </tr>\n",
       "    <tr>\n",
       "      <th>1</th>\n",
       "      <td>6</td>\n",
       "      <td>7</td>\n",
       "      <td>263</td>\n",
       "      <td>0.0</td>\n",
       "      <td>19</td>\n",
       "      <td>19</td>\n",
       "      <td>19</td>\n",
       "      <td>2.3</td>\n",
       "      <td>3.0</td>\n",
       "      <td>2.1</td>\n",
       "      <td>...</td>\n",
       "      <td>161.0</td>\n",
       "      <td>16</td>\n",
       "      <td>3</td>\n",
       "      <td>490</td>\n",
       "      <td>521</td>\n",
       "      <td>0.230137</td>\n",
       "      <td>3.353425</td>\n",
       "      <td>337.841096</td>\n",
       "      <td>14.991781</td>\n",
       "      <td>2367</td>\n",
       "    </tr>\n",
       "    <tr>\n",
       "      <th>2</th>\n",
       "      <td>0</td>\n",
       "      <td>0</td>\n",
       "      <td>0</td>\n",
       "      <td>0.0</td>\n",
       "      <td>20</td>\n",
       "      <td>23</td>\n",
       "      <td>18</td>\n",
       "      <td>2.3</td>\n",
       "      <td>1.8</td>\n",
       "      <td>3.3</td>\n",
       "      <td>...</td>\n",
       "      <td>124.0</td>\n",
       "      <td>2</td>\n",
       "      <td>7</td>\n",
       "      <td>238</td>\n",
       "      <td>251</td>\n",
       "      <td>0.041580</td>\n",
       "      <td>1.829522</td>\n",
       "      <td>194.636175</td>\n",
       "      <td>0.000000</td>\n",
       "      <td>10</td>\n",
       "    </tr>\n",
       "    <tr>\n",
       "      <th>3</th>\n",
       "      <td>6</td>\n",
       "      <td>11</td>\n",
       "      <td>107</td>\n",
       "      <td>0.0</td>\n",
       "      <td>19</td>\n",
       "      <td>15</td>\n",
       "      <td>22</td>\n",
       "      <td>2.4</td>\n",
       "      <td>1.7</td>\n",
       "      <td>3.3</td>\n",
       "      <td>...</td>\n",
       "      <td>158.0</td>\n",
       "      <td>11</td>\n",
       "      <td>2</td>\n",
       "      <td>533</td>\n",
       "      <td>553</td>\n",
       "      <td>0.289680</td>\n",
       "      <td>5.141823</td>\n",
       "      <td>308.038624</td>\n",
       "      <td>1.629451</td>\n",
       "      <td>898</td>\n",
       "    </tr>\n",
       "    <tr>\n",
       "      <th>4</th>\n",
       "      <td>6</td>\n",
       "      <td>11</td>\n",
       "      <td>77</td>\n",
       "      <td>0.0</td>\n",
       "      <td>18</td>\n",
       "      <td>20</td>\n",
       "      <td>17</td>\n",
       "      <td>2.4</td>\n",
       "      <td>2.5</td>\n",
       "      <td>1.8</td>\n",
       "      <td>...</td>\n",
       "      <td>148.0</td>\n",
       "      <td>10</td>\n",
       "      <td>1</td>\n",
       "      <td>784</td>\n",
       "      <td>396</td>\n",
       "      <td>0.531646</td>\n",
       "      <td>3.493671</td>\n",
       "      <td>680.050633</td>\n",
       "      <td>19.518987</td>\n",
       "      <td>1643</td>\n",
       "    </tr>\n",
       "  </tbody>\n",
       "</table>\n",
       "<p>5 rows × 34 columns</p>\n",
       "</div>"
      ],
      "text/plain": [
       "   barracks_status_radiant  tower_status_radiant  first_blood_time  \\\n",
       "0                        6                     7               175   \n",
       "1                        6                     7               263   \n",
       "2                        0                     0                 0   \n",
       "3                        6                    11               107   \n",
       "4                        6                    11                77   \n",
       "\n",
       "   radiant_first_pick  base_agility  base_strength  base_intelligence  \\\n",
       "0                 1.0            23             22                 18   \n",
       "1                 0.0            19             19                 19   \n",
       "2                 0.0            20             23                 18   \n",
       "3                 0.0            19             15                 22   \n",
       "4                 0.0            18             20                 17   \n",
       "\n",
       "   agility_gain  strength_gain  intelligence_gain  ...  actions_per_min  \\\n",
       "0           2.6            2.1                1.9  ...            158.0   \n",
       "1           2.3            3.0                2.1  ...            161.0   \n",
       "2           2.3            1.8                3.3  ...            124.0   \n",
       "3           2.4            1.7                3.3  ...            158.0   \n",
       "4           2.4            2.5                1.8  ...            148.0   \n",
       "\n",
       "   assists  deaths  gold_per_min  experience_per_min  kills_per_min  \\\n",
       "0       21       5           420                 476       0.117111   \n",
       "1       16       3           490                 521       0.230137   \n",
       "2        2       7           238                 251       0.041580   \n",
       "3       11       2           533                 553       0.289680   \n",
       "4       10       1           784                 396       0.531646   \n",
       "\n",
       "   last_hits_per_min  hero_damage_per_min  hero_healing_per_min  tower_damage  \n",
       "0           4.098894           169.538061              0.000000           817  \n",
       "1           3.353425           337.841096             14.991781          2367  \n",
       "2           1.829522           194.636175              0.000000            10  \n",
       "3           5.141823           308.038624              1.629451           898  \n",
       "4           3.493671           680.050633             19.518987          1643  \n",
       "\n",
       "[5 rows x 34 columns]"
      ]
     },
     "execution_count": 227,
     "metadata": {},
     "output_type": "execute_result"
    }
   ],
   "source": [
    "X.head()"
   ]
  },
  {
   "cell_type": "code",
   "execution_count": 228,
   "metadata": {},
   "outputs": [
    {
     "data": {
      "text/plain": [
       "(5528, 34)"
      ]
     },
     "execution_count": 228,
     "metadata": {},
     "output_type": "execute_result"
    }
   ],
   "source": [
    "X.shape"
   ]
  },
  {
   "cell_type": "code",
   "execution_count": 229,
   "metadata": {
    "scrolled": false
   },
   "outputs": [
    {
     "data": {
      "text/plain": [
       "0    1\n",
       "1    1\n",
       "2    0\n",
       "3    1\n",
       "4    1\n",
       "Name: win_label, dtype: int64"
      ]
     },
     "execution_count": 229,
     "metadata": {},
     "output_type": "execute_result"
    }
   ],
   "source": [
    "y.head()"
   ]
  },
  {
   "cell_type": "code",
   "execution_count": 230,
   "metadata": {},
   "outputs": [
    {
     "data": {
      "text/plain": [
       "(5528,)"
      ]
     },
     "execution_count": 230,
     "metadata": {},
     "output_type": "execute_result"
    }
   ],
   "source": [
    "y.shape"
   ]
  },
  {
   "cell_type": "code",
   "execution_count": 231,
   "metadata": {},
   "outputs": [],
   "source": [
    "data_dmatrix = xgb.DMatrix(data=X,label=y)"
   ]
  },
  {
   "cell_type": "code",
   "execution_count": 232,
   "metadata": {},
   "outputs": [],
   "source": [
    "X_train, X_test, y_train, y_test = train_test_split(X, y, test_size=0.2, random_state=123)"
   ]
  },
  {
   "cell_type": "code",
   "execution_count": 233,
   "metadata": {},
   "outputs": [],
   "source": [
    "xg_reg = xgb.XGBClassifier(objective ='binary:logistic', colsample_bytree = 0.3, learning_rate = 0.1,\n",
    "                max_depth = 5, alpha = 10, n_estimators = 100, early_stopping_rounds=10, eval_metric='auc')"
   ]
  },
  {
   "cell_type": "code",
   "execution_count": 234,
   "metadata": {},
   "outputs": [
    {
     "name": "stdout",
     "output_type": "stream",
     "text": [
      "30\n",
      "Median ROC AUC: 0.99990\n"
     ]
    }
   ],
   "source": [
    "from sklearn.model_selection import KFold\n",
    "from sklearn.model_selection import cross_val_score\n",
    "from sklearn.model_selection import RepeatedKFold\n",
    "\n",
    "# define evaluation procedure\n",
    "cv = RepeatedKFold(n_splits=10, n_repeats=3, random_state=1)\n",
    "# evaluate model\n",
    "scores = cross_val_score(xg_reg, X, y, scoring='roc_auc', cv=cv, n_jobs=-1)\n",
    "# summarize performance\n",
    "print(len(scores))\n",
    "print('Median ROC AUC: %.5f' % st.median(scores))"
   ]
  },
  {
   "cell_type": "code",
   "execution_count": 166,
   "metadata": {},
   "outputs": [
    {
     "name": "stdout",
     "output_type": "stream",
     "text": [
      "2720\n"
     ]
    }
   ],
   "source": [
    "countclass = 0\n",
    "for each in y:\n",
    "    if each==1:\n",
    "        countclass+=1\n",
    "print(countclass)"
   ]
  },
  {
   "cell_type": "markdown",
   "metadata": {},
   "source": [
    "## Regular matches"
   ]
  },
  {
   "cell_type": "markdown",
   "metadata": {},
   "source": [
    "Useful functions to use to explore the data and preprocessing steps before feeding the data into the algorithm:\n",
    "\n",
    "* df.columns : to see the names of the columns (i.e., features)\n",
    "* df.dtype : to see the types in the data\n",
    "* data.head()\n",
    "* data.info()\n",
    "* df.describe()\n",
    "\n",
    "Preprocessing steps:\n",
    "\n",
    "* Try two methods for handling missing data: 'automatic xgboost handling' and 'imputing'\n",
    "\n",
    "* Do we need to check for correlation between features? NO (for xgboost)\n",
    "\n",
    "* Do we need to perform feature scaling? NO (for xgboost)(scaler = MinMaxScaler(feature_range=(0, 1)) X = scaler.fit_transform(X))"
   ]
  },
  {
   "cell_type": "code",
   "execution_count": 235,
   "metadata": {},
   "outputs": [
    {
     "name": "stdout",
     "output_type": "stream",
     "text": [
      "C:\\Users\\markos-ece\\Desktop\\Viggiato\\PhD - UofA\\Research\\2-Dota2\\git-repo-code\\data-analysis\\prediction-models\n",
      "C:\\Users\\markos-ece\\Desktop\\Viggiato\\PhD - UofA\\Research\\2-Dota2\\git-repo-code\\data-analysis\\prediction-models/model_features/regular/\n"
     ]
    }
   ],
   "source": [
    "# Directory for the time blowout group\n",
    "cwd = os.getcwd()### Exploration and preprocessing of the data\n",
    "root_directory = os.path.dirname(cwd)\n",
    "print(root_directory)\n",
    "regular_data_dir = root_directory + \"/model_features/regular/\"\n",
    "print(regular_data_dir)"
   ]
  },
  {
   "cell_type": "markdown",
   "metadata": {},
   "source": [
    "### Exploration and preprocessing of the data"
   ]
  },
  {
   "cell_type": "code",
   "execution_count": 236,
   "metadata": {},
   "outputs": [],
   "source": [
    "feature_regular_df = pd.read_csv(regular_data_dir + \"dota2_regular_features.csv\")"
   ]
  },
  {
   "cell_type": "code",
   "execution_count": null,
   "metadata": {
    "scrolled": false
   },
   "outputs": [],
   "source": [
    "# Print feature names\n",
    "feature_regular_df.columns"
   ]
  },
  {
   "cell_type": "code",
   "execution_count": null,
   "metadata": {
    "scrolled": true
   },
   "outputs": [],
   "source": [
    "# Existing types\n",
    "feature_regular_df.dtypes"
   ]
  },
  {
   "cell_type": "code",
   "execution_count": null,
   "metadata": {
    "scrolled": true
   },
   "outputs": [],
   "source": [
    "feature_regular_df.head()"
   ]
  },
  {
   "cell_type": "code",
   "execution_count": 237,
   "metadata": {},
   "outputs": [],
   "source": [
    "# Drop first ccolumn (match id)\n",
    "feature_regular_df = feature_regular_df.drop(['match_id'], axis=1)"
   ]
  },
  {
   "cell_type": "code",
   "execution_count": 238,
   "metadata": {
    "scrolled": true
   },
   "outputs": [
    {
     "data": {
      "text/html": [
       "<div>\n",
       "<style scoped>\n",
       "    .dataframe tbody tr th:only-of-type {\n",
       "        vertical-align: middle;\n",
       "    }\n",
       "\n",
       "    .dataframe tbody tr th {\n",
       "        vertical-align: top;\n",
       "    }\n",
       "\n",
       "    .dataframe thead th {\n",
       "        text-align: right;\n",
       "    }\n",
       "</style>\n",
       "<table border=\"1\" class=\"dataframe\">\n",
       "  <thead>\n",
       "    <tr style=\"text-align: right;\">\n",
       "      <th></th>\n",
       "      <th>barracks_status_radiant</th>\n",
       "      <th>tower_status_radiant</th>\n",
       "      <th>first_blood_time</th>\n",
       "      <th>radiant_first_pick</th>\n",
       "      <th>base_agility</th>\n",
       "      <th>base_strength</th>\n",
       "      <th>base_intelligence</th>\n",
       "      <th>agility_gain</th>\n",
       "      <th>strength_gain</th>\n",
       "      <th>intelligence_gain</th>\n",
       "      <th>...</th>\n",
       "      <th>assists</th>\n",
       "      <th>deaths</th>\n",
       "      <th>gold_per_min</th>\n",
       "      <th>experience_per_min</th>\n",
       "      <th>kills_per_min</th>\n",
       "      <th>last_hits_per_min</th>\n",
       "      <th>hero_damage_per_min</th>\n",
       "      <th>hero_healing_per_min</th>\n",
       "      <th>tower_damage</th>\n",
       "      <th>win_label</th>\n",
       "    </tr>\n",
       "  </thead>\n",
       "  <tbody>\n",
       "    <tr>\n",
       "      <th>0</th>\n",
       "      <td>0</td>\n",
       "      <td>0</td>\n",
       "      <td>74</td>\n",
       "      <td>1.0</td>\n",
       "      <td>21</td>\n",
       "      <td>15</td>\n",
       "      <td>21</td>\n",
       "      <td>2.4</td>\n",
       "      <td>2.0</td>\n",
       "      <td>1.8</td>\n",
       "      <td>...</td>\n",
       "      <td>16</td>\n",
       "      <td>11</td>\n",
       "      <td>438</td>\n",
       "      <td>637</td>\n",
       "      <td>0.320000</td>\n",
       "      <td>1.408000</td>\n",
       "      <td>0.0</td>\n",
       "      <td>0.0</td>\n",
       "      <td>NaN</td>\n",
       "      <td>0</td>\n",
       "    </tr>\n",
       "    <tr>\n",
       "      <th>1</th>\n",
       "      <td>4</td>\n",
       "      <td>3</td>\n",
       "      <td>165</td>\n",
       "      <td>0.0</td>\n",
       "      <td>21</td>\n",
       "      <td>20</td>\n",
       "      <td>23</td>\n",
       "      <td>2.0</td>\n",
       "      <td>1.9</td>\n",
       "      <td>2.7</td>\n",
       "      <td>...</td>\n",
       "      <td>6</td>\n",
       "      <td>12</td>\n",
       "      <td>354</td>\n",
       "      <td>386</td>\n",
       "      <td>0.049040</td>\n",
       "      <td>2.304863</td>\n",
       "      <td>0.0</td>\n",
       "      <td>0.0</td>\n",
       "      <td>NaN</td>\n",
       "      <td>0</td>\n",
       "    </tr>\n",
       "    <tr>\n",
       "      <th>2</th>\n",
       "      <td>6</td>\n",
       "      <td>8</td>\n",
       "      <td>64</td>\n",
       "      <td>0.0</td>\n",
       "      <td>19</td>\n",
       "      <td>18</td>\n",
       "      <td>17</td>\n",
       "      <td>2.4</td>\n",
       "      <td>2.2</td>\n",
       "      <td>2.2</td>\n",
       "      <td>...</td>\n",
       "      <td>10</td>\n",
       "      <td>3</td>\n",
       "      <td>604</td>\n",
       "      <td>718</td>\n",
       "      <td>0.177449</td>\n",
       "      <td>6.632163</td>\n",
       "      <td>0.0</td>\n",
       "      <td>0.0</td>\n",
       "      <td>NaN</td>\n",
       "      <td>1</td>\n",
       "    </tr>\n",
       "    <tr>\n",
       "      <th>3</th>\n",
       "      <td>6</td>\n",
       "      <td>8</td>\n",
       "      <td>222</td>\n",
       "      <td>0.0</td>\n",
       "      <td>21</td>\n",
       "      <td>21</td>\n",
       "      <td>15</td>\n",
       "      <td>2.5</td>\n",
       "      <td>2.5</td>\n",
       "      <td>1.5</td>\n",
       "      <td>...</td>\n",
       "      <td>11</td>\n",
       "      <td>2</td>\n",
       "      <td>404</td>\n",
       "      <td>396</td>\n",
       "      <td>0.188383</td>\n",
       "      <td>3.045526</td>\n",
       "      <td>0.0</td>\n",
       "      <td>0.0</td>\n",
       "      <td>NaN</td>\n",
       "      <td>1</td>\n",
       "    </tr>\n",
       "    <tr>\n",
       "      <th>4</th>\n",
       "      <td>2</td>\n",
       "      <td>2</td>\n",
       "      <td>134</td>\n",
       "      <td>1.0</td>\n",
       "      <td>23</td>\n",
       "      <td>16</td>\n",
       "      <td>17</td>\n",
       "      <td>2.6</td>\n",
       "      <td>1.9</td>\n",
       "      <td>2.5</td>\n",
       "      <td>...</td>\n",
       "      <td>6</td>\n",
       "      <td>6</td>\n",
       "      <td>267</td>\n",
       "      <td>307</td>\n",
       "      <td>0.065862</td>\n",
       "      <td>2.206367</td>\n",
       "      <td>0.0</td>\n",
       "      <td>0.0</td>\n",
       "      <td>NaN</td>\n",
       "      <td>0</td>\n",
       "    </tr>\n",
       "  </tbody>\n",
       "</table>\n",
       "<p>5 rows × 35 columns</p>\n",
       "</div>"
      ],
      "text/plain": [
       "   barracks_status_radiant  tower_status_radiant  first_blood_time  \\\n",
       "0                        0                     0                74   \n",
       "1                        4                     3               165   \n",
       "2                        6                     8                64   \n",
       "3                        6                     8               222   \n",
       "4                        2                     2               134   \n",
       "\n",
       "   radiant_first_pick  base_agility  base_strength  base_intelligence  \\\n",
       "0                 1.0            21             15                 21   \n",
       "1                 0.0            21             20                 23   \n",
       "2                 0.0            19             18                 17   \n",
       "3                 0.0            21             21                 15   \n",
       "4                 1.0            23             16                 17   \n",
       "\n",
       "   agility_gain  strength_gain  intelligence_gain  ...  assists  deaths  \\\n",
       "0           2.4            2.0                1.8  ...       16      11   \n",
       "1           2.0            1.9                2.7  ...        6      12   \n",
       "2           2.4            2.2                2.2  ...       10       3   \n",
       "3           2.5            2.5                1.5  ...       11       2   \n",
       "4           2.6            1.9                2.5  ...        6       6   \n",
       "\n",
       "   gold_per_min  experience_per_min  kills_per_min  last_hits_per_min  \\\n",
       "0           438                 637       0.320000           1.408000   \n",
       "1           354                 386       0.049040           2.304863   \n",
       "2           604                 718       0.177449           6.632163   \n",
       "3           404                 396       0.188383           3.045526   \n",
       "4           267                 307       0.065862           2.206367   \n",
       "\n",
       "   hero_damage_per_min  hero_healing_per_min  tower_damage  win_label  \n",
       "0                  0.0                   0.0           NaN          0  \n",
       "1                  0.0                   0.0           NaN          0  \n",
       "2                  0.0                   0.0           NaN          1  \n",
       "3                  0.0                   0.0           NaN          1  \n",
       "4                  0.0                   0.0           NaN          0  \n",
       "\n",
       "[5 rows x 35 columns]"
      ]
     },
     "execution_count": 238,
     "metadata": {},
     "output_type": "execute_result"
    }
   ],
   "source": [
    "feature_regular_df.head()"
   ]
  },
  {
   "cell_type": "code",
   "execution_count": null,
   "metadata": {
    "scrolled": true
   },
   "outputs": [],
   "source": [
    "feature_regular_df.describe()"
   ]
  },
  {
   "cell_type": "code",
   "execution_count": null,
   "metadata": {
    "scrolled": true
   },
   "outputs": [],
   "source": [
    "feature_regular_df.info()\n"
   ]
  },
  {
   "cell_type": "markdown",
   "metadata": {},
   "source": [
    "Features with NA values that we need to handle:\n",
    "\n",
    "- radiant_first_pick\n",
    "- ability_uses               \n",
    "- item_uses                 \n",
    "- different_item_uses        \n",
    "- obs_placed                 \n",
    "- sen_placed                 \n",
    "- actions_per_min\n",
    "- tower_damage"
   ]
  },
  {
   "cell_type": "code",
   "execution_count": null,
   "metadata": {},
   "outputs": [],
   "source": [
    "print(feature_regular_df[\"radiant_first_pick\"].isnull().sum())\n",
    "print(feature_regular_df[\"ability_uses\"].isnull().sum())\n",
    "print(feature_regular_df[\"item_uses\"].isnull().sum())\n",
    "print(feature_regular_df[\"different_item_uses\"].isnull().sum())\n",
    "print(feature_regular_df[\"obs_placed\"].isnull().sum())\n",
    "print(feature_regular_df[\"sen_placed\"].isnull().sum())\n",
    "print(feature_regular_df[\"actions_per_min\"].isnull().sum())\n",
    "print(feature_regular_df[\"tower_damage\"].isnull().sum())"
   ]
  },
  {
   "cell_type": "markdown",
   "metadata": {},
   "source": [
    "### Model building, training and evaluation"
   ]
  },
  {
   "cell_type": "code",
   "execution_count": 239,
   "metadata": {},
   "outputs": [],
   "source": [
    "import xgboost as xgb\n",
    "from xgboost import XGBClassifier\n",
    "from sklearn.metrics import roc_curve\n",
    "from sklearn.metrics import auc\n",
    "import statistics as st"
   ]
  },
  {
   "cell_type": "code",
   "execution_count": 240,
   "metadata": {},
   "outputs": [],
   "source": [
    "X, y = feature_regular_df.iloc[:,:-1],feature_regular_df.iloc[:,-1]"
   ]
  },
  {
   "cell_type": "code",
   "execution_count": 241,
   "metadata": {
    "scrolled": true
   },
   "outputs": [
    {
     "data": {
      "text/html": [
       "<div>\n",
       "<style scoped>\n",
       "    .dataframe tbody tr th:only-of-type {\n",
       "        vertical-align: middle;\n",
       "    }\n",
       "\n",
       "    .dataframe tbody tr th {\n",
       "        vertical-align: top;\n",
       "    }\n",
       "\n",
       "    .dataframe thead th {\n",
       "        text-align: right;\n",
       "    }\n",
       "</style>\n",
       "<table border=\"1\" class=\"dataframe\">\n",
       "  <thead>\n",
       "    <tr style=\"text-align: right;\">\n",
       "      <th></th>\n",
       "      <th>barracks_status_radiant</th>\n",
       "      <th>tower_status_radiant</th>\n",
       "      <th>first_blood_time</th>\n",
       "      <th>radiant_first_pick</th>\n",
       "      <th>base_agility</th>\n",
       "      <th>base_strength</th>\n",
       "      <th>base_intelligence</th>\n",
       "      <th>agility_gain</th>\n",
       "      <th>strength_gain</th>\n",
       "      <th>intelligence_gain</th>\n",
       "      <th>...</th>\n",
       "      <th>actions_per_min</th>\n",
       "      <th>assists</th>\n",
       "      <th>deaths</th>\n",
       "      <th>gold_per_min</th>\n",
       "      <th>experience_per_min</th>\n",
       "      <th>kills_per_min</th>\n",
       "      <th>last_hits_per_min</th>\n",
       "      <th>hero_damage_per_min</th>\n",
       "      <th>hero_healing_per_min</th>\n",
       "      <th>tower_damage</th>\n",
       "    </tr>\n",
       "  </thead>\n",
       "  <tbody>\n",
       "    <tr>\n",
       "      <th>0</th>\n",
       "      <td>0</td>\n",
       "      <td>0</td>\n",
       "      <td>74</td>\n",
       "      <td>1.0</td>\n",
       "      <td>21</td>\n",
       "      <td>15</td>\n",
       "      <td>21</td>\n",
       "      <td>2.4</td>\n",
       "      <td>2.0</td>\n",
       "      <td>1.8</td>\n",
       "      <td>...</td>\n",
       "      <td>0.0</td>\n",
       "      <td>16</td>\n",
       "      <td>11</td>\n",
       "      <td>438</td>\n",
       "      <td>637</td>\n",
       "      <td>0.320000</td>\n",
       "      <td>1.408000</td>\n",
       "      <td>0.0</td>\n",
       "      <td>0.0</td>\n",
       "      <td>NaN</td>\n",
       "    </tr>\n",
       "    <tr>\n",
       "      <th>1</th>\n",
       "      <td>4</td>\n",
       "      <td>3</td>\n",
       "      <td>165</td>\n",
       "      <td>0.0</td>\n",
       "      <td>21</td>\n",
       "      <td>20</td>\n",
       "      <td>23</td>\n",
       "      <td>2.0</td>\n",
       "      <td>1.9</td>\n",
       "      <td>2.7</td>\n",
       "      <td>...</td>\n",
       "      <td>0.0</td>\n",
       "      <td>6</td>\n",
       "      <td>12</td>\n",
       "      <td>354</td>\n",
       "      <td>386</td>\n",
       "      <td>0.049040</td>\n",
       "      <td>2.304863</td>\n",
       "      <td>0.0</td>\n",
       "      <td>0.0</td>\n",
       "      <td>NaN</td>\n",
       "    </tr>\n",
       "    <tr>\n",
       "      <th>2</th>\n",
       "      <td>6</td>\n",
       "      <td>8</td>\n",
       "      <td>64</td>\n",
       "      <td>0.0</td>\n",
       "      <td>19</td>\n",
       "      <td>18</td>\n",
       "      <td>17</td>\n",
       "      <td>2.4</td>\n",
       "      <td>2.2</td>\n",
       "      <td>2.2</td>\n",
       "      <td>...</td>\n",
       "      <td>0.0</td>\n",
       "      <td>10</td>\n",
       "      <td>3</td>\n",
       "      <td>604</td>\n",
       "      <td>718</td>\n",
       "      <td>0.177449</td>\n",
       "      <td>6.632163</td>\n",
       "      <td>0.0</td>\n",
       "      <td>0.0</td>\n",
       "      <td>NaN</td>\n",
       "    </tr>\n",
       "    <tr>\n",
       "      <th>3</th>\n",
       "      <td>6</td>\n",
       "      <td>8</td>\n",
       "      <td>222</td>\n",
       "      <td>0.0</td>\n",
       "      <td>21</td>\n",
       "      <td>21</td>\n",
       "      <td>15</td>\n",
       "      <td>2.5</td>\n",
       "      <td>2.5</td>\n",
       "      <td>1.5</td>\n",
       "      <td>...</td>\n",
       "      <td>0.0</td>\n",
       "      <td>11</td>\n",
       "      <td>2</td>\n",
       "      <td>404</td>\n",
       "      <td>396</td>\n",
       "      <td>0.188383</td>\n",
       "      <td>3.045526</td>\n",
       "      <td>0.0</td>\n",
       "      <td>0.0</td>\n",
       "      <td>NaN</td>\n",
       "    </tr>\n",
       "    <tr>\n",
       "      <th>4</th>\n",
       "      <td>2</td>\n",
       "      <td>2</td>\n",
       "      <td>134</td>\n",
       "      <td>1.0</td>\n",
       "      <td>23</td>\n",
       "      <td>16</td>\n",
       "      <td>17</td>\n",
       "      <td>2.6</td>\n",
       "      <td>1.9</td>\n",
       "      <td>2.5</td>\n",
       "      <td>...</td>\n",
       "      <td>0.0</td>\n",
       "      <td>6</td>\n",
       "      <td>6</td>\n",
       "      <td>267</td>\n",
       "      <td>307</td>\n",
       "      <td>0.065862</td>\n",
       "      <td>2.206367</td>\n",
       "      <td>0.0</td>\n",
       "      <td>0.0</td>\n",
       "      <td>NaN</td>\n",
       "    </tr>\n",
       "  </tbody>\n",
       "</table>\n",
       "<p>5 rows × 34 columns</p>\n",
       "</div>"
      ],
      "text/plain": [
       "   barracks_status_radiant  tower_status_radiant  first_blood_time  \\\n",
       "0                        0                     0                74   \n",
       "1                        4                     3               165   \n",
       "2                        6                     8                64   \n",
       "3                        6                     8               222   \n",
       "4                        2                     2               134   \n",
       "\n",
       "   radiant_first_pick  base_agility  base_strength  base_intelligence  \\\n",
       "0                 1.0            21             15                 21   \n",
       "1                 0.0            21             20                 23   \n",
       "2                 0.0            19             18                 17   \n",
       "3                 0.0            21             21                 15   \n",
       "4                 1.0            23             16                 17   \n",
       "\n",
       "   agility_gain  strength_gain  intelligence_gain  ...  actions_per_min  \\\n",
       "0           2.4            2.0                1.8  ...              0.0   \n",
       "1           2.0            1.9                2.7  ...              0.0   \n",
       "2           2.4            2.2                2.2  ...              0.0   \n",
       "3           2.5            2.5                1.5  ...              0.0   \n",
       "4           2.6            1.9                2.5  ...              0.0   \n",
       "\n",
       "   assists  deaths  gold_per_min  experience_per_min  kills_per_min  \\\n",
       "0       16      11           438                 637       0.320000   \n",
       "1        6      12           354                 386       0.049040   \n",
       "2       10       3           604                 718       0.177449   \n",
       "3       11       2           404                 396       0.188383   \n",
       "4        6       6           267                 307       0.065862   \n",
       "\n",
       "   last_hits_per_min  hero_damage_per_min  hero_healing_per_min  tower_damage  \n",
       "0           1.408000                  0.0                   0.0           NaN  \n",
       "1           2.304863                  0.0                   0.0           NaN  \n",
       "2           6.632163                  0.0                   0.0           NaN  \n",
       "3           3.045526                  0.0                   0.0           NaN  \n",
       "4           2.206367                  0.0                   0.0           NaN  \n",
       "\n",
       "[5 rows x 34 columns]"
      ]
     },
     "execution_count": 241,
     "metadata": {},
     "output_type": "execute_result"
    }
   ],
   "source": [
    "X.head()"
   ]
  },
  {
   "cell_type": "code",
   "execution_count": 242,
   "metadata": {},
   "outputs": [
    {
     "data": {
      "text/plain": [
       "(45130, 34)"
      ]
     },
     "execution_count": 242,
     "metadata": {},
     "output_type": "execute_result"
    }
   ],
   "source": [
    "X.shape"
   ]
  },
  {
   "cell_type": "code",
   "execution_count": 243,
   "metadata": {
    "scrolled": true
   },
   "outputs": [
    {
     "data": {
      "text/plain": [
       "0    0\n",
       "1    0\n",
       "2    1\n",
       "3    1\n",
       "4    0\n",
       "Name: win_label, dtype: int64"
      ]
     },
     "execution_count": 243,
     "metadata": {},
     "output_type": "execute_result"
    }
   ],
   "source": [
    "y.head()"
   ]
  },
  {
   "cell_type": "code",
   "execution_count": 244,
   "metadata": {},
   "outputs": [
    {
     "data": {
      "text/plain": [
       "(45130,)"
      ]
     },
     "execution_count": 244,
     "metadata": {},
     "output_type": "execute_result"
    }
   ],
   "source": [
    "y.shape"
   ]
  },
  {
   "cell_type": "code",
   "execution_count": 192,
   "metadata": {},
   "outputs": [
    {
     "name": "stdout",
     "output_type": "stream",
     "text": [
      "22430\n"
     ]
    }
   ],
   "source": [
    "countclass = 0\n",
    "for each in y:\n",
    "    if each==0:\n",
    "        countclass+=1\n",
    "print(countclass)"
   ]
  },
  {
   "cell_type": "code",
   "execution_count": 245,
   "metadata": {},
   "outputs": [],
   "source": [
    "data_dmatrix = xgb.DMatrix(data=X,label=y)"
   ]
  },
  {
   "cell_type": "code",
   "execution_count": 246,
   "metadata": {},
   "outputs": [],
   "source": [
    "X_train, X_test, y_train, y_test = train_test_split(X, y, test_size=0.2, random_state=123)"
   ]
  },
  {
   "cell_type": "code",
   "execution_count": 247,
   "metadata": {},
   "outputs": [],
   "source": [
    "xg_reg = xgb.XGBClassifier(objective ='binary:logistic', colsample_bytree = 0.3, learning_rate = 0.1,\n",
    "                max_depth = 5, alpha = 10, n_estimators = 100, early_stopping_rounds=10, eval_metric='auc')"
   ]
  },
  {
   "cell_type": "code",
   "execution_count": 248,
   "metadata": {},
   "outputs": [
    {
     "name": "stdout",
     "output_type": "stream",
     "text": [
      "30\n",
      "Median ROC AUC: 0.99364\n"
     ]
    }
   ],
   "source": [
    "from sklearn.model_selection import KFold\n",
    "from sklearn.model_selection import cross_val_score\n",
    "from sklearn.model_selection import RepeatedKFold\n",
    "\n",
    "# define evaluation procedure\n",
    "cv = RepeatedKFold(n_splits=10, n_repeats=3, random_state=1)\n",
    "# evaluate model\n",
    "scores = cross_val_score(xg_reg, X, y, scoring='roc_auc', cv=cv, n_jobs=-1)\n",
    "# summarize performance\n",
    "print(len(scores))\n",
    "print('Median ROC AUC: %.5f' % st.median(scores))"
   ]
  },
  {
   "cell_type": "code",
   "execution_count": null,
   "metadata": {},
   "outputs": [],
   "source": []
  },
  {
   "cell_type": "markdown",
   "metadata": {},
   "source": [
    "## TESTS"
   ]
  },
  {
   "cell_type": "code",
   "execution_count": 251,
   "metadata": {},
   "outputs": [
    {
     "name": "stdout",
     "output_type": "stream",
     "text": [
      "[10:16:14] WARNING: C:\\Users\\Administrator\\workspace\\xgboost-win64_release_1.1.0\\src\\learner.cc:480: \n",
      "Parameters: { early_stopping_rounds } might not be used.\n",
      "\n",
      "  This may not be accurate due to some parameters are only used in language bindings but\n",
      "  passed down to XGBoost core.  Or some parameters are not used but slip through this\n",
      "  verification. Please open an issue if you find above cases.\n",
      "\n",
      "\n"
     ]
    },
    {
     "data": {
      "text/plain": [
       "XGBClassifier(alpha=10, base_score=0.5, booster='gbtree', colsample_bylevel=1,\n",
       "       colsample_bynode=1, colsample_bytree=0.3, early_stopping_rounds=10,\n",
       "       eval_metric='auc', gamma=0, gpu_id=-1, importance_type='gain',\n",
       "       interaction_constraints='', learning_rate=0.1, max_delta_step=0,\n",
       "       max_depth=5, min_child_weight=1, missing=nan,\n",
       "       monotone_constraints='()', n_estimators=100, n_jobs=0,\n",
       "       num_parallel_tree=1, objective='binary:logistic', random_state=0,\n",
       "       reg_alpha=10, reg_lambda=1, scale_pos_weight=1, subsample=1,\n",
       "       tree_method='exact', validate_parameters=1, verbosity=None)"
      ]
     },
     "execution_count": 251,
     "metadata": {},
     "output_type": "execute_result"
    }
   ],
   "source": [
    "xg_reg.fit(X_train, y_train)"
   ]
  },
  {
   "cell_type": "code",
   "execution_count": 254,
   "metadata": {},
   "outputs": [],
   "source": [
    "xg_reg_probs = xg_reg.predict_proba(X_test)[:, 1]"
   ]
  },
  {
   "cell_type": "code",
   "execution_count": 255,
   "metadata": {},
   "outputs": [],
   "source": [
    "from sklearn.metrics import roc_auc_score\n",
    "\n",
    "# Calculate roc auc\n",
    "roc_value = roc_auc_score(y_test, xg_reg_probs)\n"
   ]
  },
  {
   "cell_type": "code",
   "execution_count": 256,
   "metadata": {},
   "outputs": [
    {
     "data": {
      "text/plain": [
       "0.9918359572882528"
      ]
     },
     "execution_count": 256,
     "metadata": {},
     "output_type": "execute_result"
    }
   ],
   "source": [
    "roc_value"
   ]
  },
  {
   "cell_type": "code",
   "execution_count": null,
   "metadata": {},
   "outputs": [],
   "source": []
  }
 ],
 "metadata": {
  "kernelspec": {
   "display_name": "Python 3",
   "language": "python",
   "name": "python3"
  },
  "language_info": {
   "codemirror_mode": {
    "name": "ipython",
    "version": 3
   },
   "file_extension": ".py",
   "mimetype": "text/x-python",
   "name": "python",
   "nbconvert_exporter": "python",
   "pygments_lexer": "ipython3",
   "version": "3.6.8"
  }
 },
 "nbformat": 4,
 "nbformat_minor": 2
}
