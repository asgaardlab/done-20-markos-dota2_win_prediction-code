{
 "cells": [
  {
   "cell_type": "markdown",
   "metadata": {},
   "source": [
    "## Gradient Boosting Machines (XGBoost)\n",
    "\n",
    "Notebook with implementation of the XGBoost algorithm to predict victory in Dota 2\n",
    "\n",
    "-------------------------------------------------------------------------------------------------------------------------------"
   ]
  },
  {
   "cell_type": "markdown",
   "metadata": {},
   "source": [
    "## Regular matches"
   ]
  },
  {
   "cell_type": "markdown",
   "metadata": {},
   "source": [
    "Useful functions to use to explore the data and preprocessing steps before feeding the data into the algorithm:\n",
    "\n",
    "* df.columns : to see the names of the columns (i.e., features)\n",
    "* df.dtype : to see the types in the data\n",
    "* data.head()\n",
    "* data.info()\n",
    "* df.describe()\n",
    "\n",
    "Preprocessing steps:\n",
    "\n",
    "* Try two methods for handling missing data: 'automatic xgboost handling' and 'imputing'\n",
    "\n",
    "* Do we need to check for correlation between features? NO (for xgboost)\n",
    "\n",
    "* Do we need to perform feature scaling? NO (for xgboost)(scaler = MinMaxScaler(feature_range=(0, 1)) X = scaler.fit_transform(X))"
   ]
  },
  {
   "cell_type": "code",
   "execution_count": 2,
   "metadata": {},
   "outputs": [],
   "source": [
    "import os\n",
    "import numpy as np\n",
    "import pandas as pd\n",
    "from sklearn.model_selection import KFold, train_test_split\n",
    "from sklearn.metrics import confusion_matrix, precision_score, recall_score, roc_auc_score, roc_curve\n",
    "import statistics as st"
   ]
  },
  {
   "cell_type": "code",
   "execution_count": 3,
   "metadata": {},
   "outputs": [
    {
     "name": "stdout",
     "output_type": "stream",
     "text": [
      "C:\\Users\\markos-ece\\Desktop\\Viggiato\\PhD - UofA\\Research\\2-Dota2\\git-repo-code\\data-analysis\\prediction-models\n",
      "C:\\Users\\markos-ece\\Desktop\\Viggiato\\PhD - UofA\\Research\\2-Dota2\\git-repo-code\\data-analysis\\prediction-models/model_features_pre-match/regular/\n"
     ]
    }
   ],
   "source": [
    "# Directory for the time blowout group\n",
    "cwd = os.getcwd()### Exploration and preprocessing of the data\n",
    "root_directory = os.path.dirname(cwd)\n",
    "print(root_directory)\n",
    "regular_data_dir = root_directory + \"/model_features_pre-match/regular/\"\n",
    "print(regular_data_dir)"
   ]
  },
  {
   "cell_type": "markdown",
   "metadata": {},
   "source": [
    "### Exploration and preprocessing of the data"
   ]
  },
  {
   "cell_type": "code",
   "execution_count": 4,
   "metadata": {},
   "outputs": [],
   "source": [
    "feature_regular_df = pd.read_csv(regular_data_dir + \"dota2_regular_features-used_features.csv\")"
   ]
  },
  {
   "cell_type": "code",
   "execution_count": null,
   "metadata": {
    "scrolled": false
   },
   "outputs": [],
   "source": [
    "# Print feature names\n",
    "feature_regular_df.columns"
   ]
  },
  {
   "cell_type": "code",
   "execution_count": null,
   "metadata": {
    "scrolled": true
   },
   "outputs": [],
   "source": [
    "# Drop first ccolumn (match id)\n",
    "feature_regular_df = feature_regular_df.drop(['match_id'], axis=1)\n",
    "feature_regular_df.columns"
   ]
  },
  {
   "cell_type": "code",
   "execution_count": null,
   "metadata": {
    "scrolled": false
   },
   "outputs": [],
   "source": [
    "# Existing types\n",
    "feature_regular_df.dtypes"
   ]
  },
  {
   "cell_type": "code",
   "execution_count": 10,
   "metadata": {},
   "outputs": [],
   "source": [
    "# Test filling NA values (but xgboost can handle this)\n",
    "feature_regular_df = feature_regular_df.fillna(feature_regular_df.median())"
   ]
  },
  {
   "cell_type": "code",
   "execution_count": 12,
   "metadata": {},
   "outputs": [],
   "source": [
    "feature_regular_df['rad_first_pick'] = feature_regular_df['rad_first_pick'].astype(int)"
   ]
  },
  {
   "cell_type": "code",
   "execution_count": 13,
   "metadata": {
    "scrolled": false
   },
   "outputs": [
    {
     "data": {
      "text/html": [
       "<div>\n",
       "<style scoped>\n",
       "    .dataframe tbody tr th:only-of-type {\n",
       "        vertical-align: middle;\n",
       "    }\n",
       "\n",
       "    .dataframe tbody tr th {\n",
       "        vertical-align: top;\n",
       "    }\n",
       "\n",
       "    .dataframe thead th {\n",
       "        text-align: right;\n",
       "    }\n",
       "</style>\n",
       "<table border=\"1\" class=\"dataframe\">\n",
       "  <thead>\n",
       "    <tr style=\"text-align: right;\">\n",
       "      <th></th>\n",
       "      <th>role_carry_r</th>\n",
       "      <th>role_support_r</th>\n",
       "      <th>role_nuker_r</th>\n",
       "      <th>role_disabler_r</th>\n",
       "      <th>role_jungler_r</th>\n",
       "      <th>role_durable_r</th>\n",
       "      <th>role_escape_r</th>\n",
       "      <th>role_pusher_r</th>\n",
       "      <th>role_initiator_r</th>\n",
       "      <th>role_carry_d</th>\n",
       "      <th>...</th>\n",
       "      <th>winR_hp_md_d</th>\n",
       "      <th>xpm_hp_md_d</th>\n",
       "      <th>goldm_hp_md_d</th>\n",
       "      <th>deathsm_hp_md_d</th>\n",
       "      <th>killsm_hp_md_d</th>\n",
       "      <th>assistsm_hp_md_d</th>\n",
       "      <th>damagem_hp_md_d</th>\n",
       "      <th>healingm_hp_md_d</th>\n",
       "      <th>rad_first_pick</th>\n",
       "      <th>win_label</th>\n",
       "    </tr>\n",
       "  </thead>\n",
       "  <tbody>\n",
       "    <tr>\n",
       "      <th>0</th>\n",
       "      <td>1</td>\n",
       "      <td>1</td>\n",
       "      <td>1</td>\n",
       "      <td>1</td>\n",
       "      <td>0</td>\n",
       "      <td>1</td>\n",
       "      <td>1</td>\n",
       "      <td>1</td>\n",
       "      <td>1</td>\n",
       "      <td>1</td>\n",
       "      <td>...</td>\n",
       "      <td>0.571429</td>\n",
       "      <td>434.546131</td>\n",
       "      <td>401.444444</td>\n",
       "      <td>0.126172</td>\n",
       "      <td>0.134533</td>\n",
       "      <td>0.285102</td>\n",
       "      <td>236.374833</td>\n",
       "      <td>0.000000</td>\n",
       "      <td>1</td>\n",
       "      <td>0</td>\n",
       "    </tr>\n",
       "    <tr>\n",
       "      <th>1</th>\n",
       "      <td>1</td>\n",
       "      <td>1</td>\n",
       "      <td>1</td>\n",
       "      <td>1</td>\n",
       "      <td>0</td>\n",
       "      <td>1</td>\n",
       "      <td>1</td>\n",
       "      <td>1</td>\n",
       "      <td>1</td>\n",
       "      <td>1</td>\n",
       "      <td>...</td>\n",
       "      <td>0.777778</td>\n",
       "      <td>414.000000</td>\n",
       "      <td>313.888889</td>\n",
       "      <td>0.135955</td>\n",
       "      <td>0.124604</td>\n",
       "      <td>0.205029</td>\n",
       "      <td>0.000000</td>\n",
       "      <td>0.000000</td>\n",
       "      <td>0</td>\n",
       "      <td>0</td>\n",
       "    </tr>\n",
       "    <tr>\n",
       "      <th>2</th>\n",
       "      <td>1</td>\n",
       "      <td>1</td>\n",
       "      <td>1</td>\n",
       "      <td>1</td>\n",
       "      <td>0</td>\n",
       "      <td>1</td>\n",
       "      <td>1</td>\n",
       "      <td>0</td>\n",
       "      <td>1</td>\n",
       "      <td>1</td>\n",
       "      <td>...</td>\n",
       "      <td>0.733333</td>\n",
       "      <td>441.966667</td>\n",
       "      <td>415.700000</td>\n",
       "      <td>0.122128</td>\n",
       "      <td>0.159331</td>\n",
       "      <td>0.283245</td>\n",
       "      <td>3.304261</td>\n",
       "      <td>0.332754</td>\n",
       "      <td>0</td>\n",
       "      <td>1</td>\n",
       "    </tr>\n",
       "    <tr>\n",
       "      <th>3</th>\n",
       "      <td>1</td>\n",
       "      <td>1</td>\n",
       "      <td>1</td>\n",
       "      <td>1</td>\n",
       "      <td>0</td>\n",
       "      <td>1</td>\n",
       "      <td>1</td>\n",
       "      <td>1</td>\n",
       "      <td>1</td>\n",
       "      <td>1</td>\n",
       "      <td>...</td>\n",
       "      <td>0.506667</td>\n",
       "      <td>425.960000</td>\n",
       "      <td>412.433333</td>\n",
       "      <td>0.136051</td>\n",
       "      <td>0.135013</td>\n",
       "      <td>0.254816</td>\n",
       "      <td>0.000000</td>\n",
       "      <td>0.000000</td>\n",
       "      <td>0</td>\n",
       "      <td>1</td>\n",
       "    </tr>\n",
       "    <tr>\n",
       "      <th>4</th>\n",
       "      <td>1</td>\n",
       "      <td>1</td>\n",
       "      <td>1</td>\n",
       "      <td>1</td>\n",
       "      <td>0</td>\n",
       "      <td>1</td>\n",
       "      <td>1</td>\n",
       "      <td>0</td>\n",
       "      <td>1</td>\n",
       "      <td>1</td>\n",
       "      <td>...</td>\n",
       "      <td>0.571429</td>\n",
       "      <td>434.546131</td>\n",
       "      <td>401.444444</td>\n",
       "      <td>0.126172</td>\n",
       "      <td>0.134533</td>\n",
       "      <td>0.285102</td>\n",
       "      <td>236.374833</td>\n",
       "      <td>0.000000</td>\n",
       "      <td>1</td>\n",
       "      <td>0</td>\n",
       "    </tr>\n",
       "  </tbody>\n",
       "</table>\n",
       "<p>5 rows × 57 columns</p>\n",
       "</div>"
      ],
      "text/plain": [
       "   role_carry_r  role_support_r  role_nuker_r  role_disabler_r  \\\n",
       "0             1               1             1                1   \n",
       "1             1               1             1                1   \n",
       "2             1               1             1                1   \n",
       "3             1               1             1                1   \n",
       "4             1               1             1                1   \n",
       "\n",
       "   role_jungler_r  role_durable_r  role_escape_r  role_pusher_r  \\\n",
       "0               0               1              1              1   \n",
       "1               0               1              1              1   \n",
       "2               0               1              1              0   \n",
       "3               0               1              1              1   \n",
       "4               0               1              1              0   \n",
       "\n",
       "   role_initiator_r  role_carry_d  ...  winR_hp_md_d  xpm_hp_md_d  \\\n",
       "0                 1             1  ...      0.571429   434.546131   \n",
       "1                 1             1  ...      0.777778   414.000000   \n",
       "2                 1             1  ...      0.733333   441.966667   \n",
       "3                 1             1  ...      0.506667   425.960000   \n",
       "4                 1             1  ...      0.571429   434.546131   \n",
       "\n",
       "   goldm_hp_md_d  deathsm_hp_md_d  killsm_hp_md_d  assistsm_hp_md_d  \\\n",
       "0     401.444444         0.126172        0.134533          0.285102   \n",
       "1     313.888889         0.135955        0.124604          0.205029   \n",
       "2     415.700000         0.122128        0.159331          0.283245   \n",
       "3     412.433333         0.136051        0.135013          0.254816   \n",
       "4     401.444444         0.126172        0.134533          0.285102   \n",
       "\n",
       "   damagem_hp_md_d  healingm_hp_md_d  rad_first_pick  win_label  \n",
       "0       236.374833          0.000000               1          0  \n",
       "1         0.000000          0.000000               0          0  \n",
       "2         3.304261          0.332754               0          1  \n",
       "3         0.000000          0.000000               0          1  \n",
       "4       236.374833          0.000000               1          0  \n",
       "\n",
       "[5 rows x 57 columns]"
      ]
     },
     "execution_count": 13,
     "metadata": {},
     "output_type": "execute_result"
    }
   ],
   "source": [
    "feature_regular_df.head()"
   ]
  },
  {
   "cell_type": "code",
   "execution_count": null,
   "metadata": {
    "scrolled": true
   },
   "outputs": [],
   "source": [
    "feature_regular_df.describe()"
   ]
  },
  {
   "cell_type": "code",
   "execution_count": 14,
   "metadata": {
    "scrolled": true
   },
   "outputs": [
    {
     "name": "stdout",
     "output_type": "stream",
     "text": [
      "<class 'pandas.core.frame.DataFrame'>\n",
      "RangeIndex: 45130 entries, 0 to 45129\n",
      "Data columns (total 57 columns):\n",
      "role_carry_r        45130 non-null int64\n",
      "role_support_r      45130 non-null int64\n",
      "role_nuker_r        45130 non-null int64\n",
      "role_disabler_r     45130 non-null int64\n",
      "role_jungler_r      45130 non-null int64\n",
      "role_durable_r      45130 non-null int64\n",
      "role_escape_r       45130 non-null int64\n",
      "role_pusher_r       45130 non-null int64\n",
      "role_initiator_r    45130 non-null int64\n",
      "role_carry_d        45130 non-null int64\n",
      "role_support_d      45130 non-null int64\n",
      "role_nuker_d        45130 non-null int64\n",
      "role_disabler_d     45130 non-null int64\n",
      "role_jungler_d      45130 non-null int64\n",
      "role_durable_d      45130 non-null int64\n",
      "role_escape_d       45130 non-null int64\n",
      "role_pusher_d       45130 non-null int64\n",
      "role_initiator_d    45130 non-null int64\n",
      "bstr_md_r           45130 non-null int64\n",
      "bagi_md_r           45130 non-null int64\n",
      "bint_md_r           45130 non-null int64\n",
      "strg_md_r           45130 non-null float64\n",
      "agig_md_r           45130 non-null float64\n",
      "intg_md_r           45130 non-null float64\n",
      "bhealth_md_r        45130 non-null int64\n",
      "bhealth_reg_md_r    45130 non-null float64\n",
      "mspeed_md_r         45130 non-null float64\n",
      "bstr_md_d           45130 non-null int64\n",
      "bagi_md_d           45130 non-null int64\n",
      "bint_md_d           45130 non-null int64\n",
      "strg_md_d           45130 non-null float64\n",
      "agig_md_d           45130 non-null float64\n",
      "intg_md_d           45130 non-null float64\n",
      "bhealth_md_d        45130 non-null int64\n",
      "bhealth_reg_md_d    45130 non-null float64\n",
      "mspeed_md_d         45130 non-null float64\n",
      "winR_md_r           45130 non-null float64\n",
      "winR_md_d           45130 non-null float64\n",
      "winR_plr_md_r       45130 non-null float64\n",
      "winR_plr_md_d       45130 non-null float64\n",
      "winR_hp_md_r        45130 non-null float64\n",
      "xpm_hp_md_r         45130 non-null float64\n",
      "goldm_hp_md_r       45130 non-null float64\n",
      "killsm_hp_md_r      45130 non-null float64\n",
      "assistsm_hp_md_r    45130 non-null float64\n",
      "damagem_hp_md_r     45130 non-null float64\n",
      "healingm_hp_md_r    45130 non-null float64\n",
      "winR_hp_md_d        45130 non-null float64\n",
      "xpm_hp_md_d         45130 non-null float64\n",
      "goldm_hp_md_d       45130 non-null float64\n",
      "deathsm_hp_md_d     45130 non-null float64\n",
      "killsm_hp_md_d      45130 non-null float64\n",
      "assistsm_hp_md_d    45130 non-null float64\n",
      "damagem_hp_md_d     45130 non-null float64\n",
      "healingm_hp_md_d    45130 non-null float64\n",
      "rad_first_pick      45130 non-null int32\n",
      "win_label           45130 non-null int64\n",
      "dtypes: float64(29), int32(1), int64(27)\n",
      "memory usage: 19.5 MB\n"
     ]
    }
   ],
   "source": [
    "feature_regular_df.info()\n"
   ]
  },
  {
   "cell_type": "markdown",
   "metadata": {},
   "source": [
    "### Model building, training and evaluation"
   ]
  },
  {
   "cell_type": "code",
   "execution_count": 15,
   "metadata": {},
   "outputs": [],
   "source": [
    "import xgboost as xgb\n",
    "from xgboost import XGBClassifier\n",
    "from sklearn.metrics import roc_curve\n",
    "from sklearn.metrics import auc\n",
    "import statistics as st"
   ]
  },
  {
   "cell_type": "code",
   "execution_count": 16,
   "metadata": {},
   "outputs": [],
   "source": [
    "X, y = feature_regular_df.iloc[:,:-1],feature_regular_df.iloc[:,-1]"
   ]
  },
  {
   "cell_type": "code",
   "execution_count": null,
   "metadata": {
    "scrolled": false
   },
   "outputs": [],
   "source": [
    "X.head()"
   ]
  },
  {
   "cell_type": "code",
   "execution_count": null,
   "metadata": {},
   "outputs": [],
   "source": [
    "X.shape"
   ]
  },
  {
   "cell_type": "code",
   "execution_count": null,
   "metadata": {
    "scrolled": true
   },
   "outputs": [],
   "source": [
    "y.head()"
   ]
  },
  {
   "cell_type": "code",
   "execution_count": null,
   "metadata": {},
   "outputs": [],
   "source": [
    "y.shape"
   ]
  },
  {
   "cell_type": "code",
   "execution_count": 19,
   "metadata": {},
   "outputs": [],
   "source": [
    "# xg_cla = xgb.XGBClassifier(objective ='binary:logistic', colsample_bytree = 0.3, learning_rate = 0.1,\n",
    "#                 max_depth = 5, alpha = 10, n_estimators = 100, early_stopping_rounds=10, eval_metric='auc')\n",
    "\n",
    "# # xg_reg_probs = xg_reg.predict_proba(X_test)[:, 1]"
   ]
  },
  {
   "cell_type": "code",
   "execution_count": 17,
   "metadata": {},
   "outputs": [],
   "source": [
    "features = [c for c in feature_regular_df.columns if c != 'win_label']\n",
    "target = 'win_label'"
   ]
  },
  {
   "cell_type": "code",
   "execution_count": 18,
   "metadata": {},
   "outputs": [],
   "source": [
    "kfolds = KFold(n_splits=10, shuffle=True)"
   ]
  },
  {
   "cell_type": "code",
   "execution_count": 21,
   "metadata": {},
   "outputs": [],
   "source": [
    "param = {\n",
    "    'objective': 'binary:logistic',\n",
    "    'eval_metric': 'auc',\n",
    "    'eta': 0.2,\n",
    "    'colsample_bytree': 0.3,\n",
    "    'learning_rate': 0.1,\n",
    "     'max_depth': 10,\n",
    "     'alpha': 10\n",
    "}\n",
    "\n",
    "num_round = 100\n",
    "thres = 0.5"
   ]
  },
  {
   "cell_type": "code",
   "execution_count": 22,
   "metadata": {},
   "outputs": [
    {
     "data": {
      "text/plain": [
       "'Median AUC: 0.6294'"
      ]
     },
     "execution_count": 22,
     "metadata": {},
     "output_type": "execute_result"
    }
   ],
   "source": [
    "cnf = list()\n",
    "auc = list()\n",
    "\n",
    "for train_idx, test_idx in kfolds.split(X):\n",
    "    X_train, y_train = X.iloc[train_idx], y.iloc[train_idx]\n",
    "    X_test, y_test = X.iloc[test_idx], y.iloc[test_idx]\n",
    "    \n",
    "    param['scale_pos_weight'] = (y_train.size - y_train.sum()) / y_train.sum()    \n",
    "    \n",
    "    xg_train = xgb.DMatrix(\n",
    "        X_train.values, feature_names=features, label=y_train.values\n",
    "    )\n",
    "    xg_test = xgb.DMatrix(\n",
    "        X_test.values, feature_names=features, label=y_test.values\n",
    "    )\n",
    "    \n",
    "    watchlist = [(xg_train, 'train'), (xg_test, 'test')]\n",
    "    bst = xgb.train(param, xg_train, num_round, watchlist, verbose_eval=False)\n",
    "    preds = bst.predict(xg_test)\n",
    "    \n",
    "    cnf.append(confusion_matrix(y_test, (preds > thres).astype(int)))\n",
    "    auc.append(roc_auc_score(y_test, preds))\n",
    "\n",
    "cnf = sum(cnf)\n",
    "\n",
    "'Median AUC: {:.04f}'.format(st.median(auc))\n",
    "\n",
    "# auc = sum(auc) / len(auc)\n",
    "# 'Average AUC: {:.04f}'.format(auc)"
   ]
  },
  {
   "cell_type": "code",
   "execution_count": null,
   "metadata": {},
   "outputs": [],
   "source": []
  }
 ],
 "metadata": {
  "kernelspec": {
   "display_name": "Python 3",
   "language": "python",
   "name": "python3"
  },
  "language_info": {
   "codemirror_mode": {
    "name": "ipython",
    "version": 3
   },
   "file_extension": ".py",
   "mimetype": "text/x-python",
   "name": "python",
   "nbconvert_exporter": "python",
   "pygments_lexer": "ipython3",
   "version": "3.6.8"
  }
 },
 "nbformat": 4,
 "nbformat_minor": 2
}
