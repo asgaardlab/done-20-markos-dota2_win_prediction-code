{
 "cells": [
  {
   "cell_type": "markdown",
   "metadata": {},
   "source": [
    "## Gradient Boosting Machines (XGBoost)\n",
    "\n",
    "Notebook with implementation of the XGBoost algorithm to predict victory in Dota 2\n",
    "\n",
    "-------------------------------------------------------------------------------------------------------------------------------"
   ]
  },
  {
   "cell_type": "markdown",
   "metadata": {},
   "source": [
    "## Time blowout matches"
   ]
  },
  {
   "cell_type": "markdown",
   "metadata": {},
   "source": [
    "Useful functions to use to explore the data and preprocessing steps before feeding the data into the algorithm:\n",
    "\n",
    "* df.columns : to see the names of the columns (i.e., features)\n",
    "* df.dtype : to see the types in the data\n",
    "* data.head()\n",
    "* data.info()\n",
    "* df.describe()\n",
    "\n",
    "Preprocessing steps:\n",
    "\n",
    "* Try two methods for handling missing data: 'automatic xgboost handling' and 'imputing'\n",
    "\n",
    "* Do we need to check for correlation between features? NO (for xgboost)\n",
    "\n",
    "* Do we need to perform feature scaling? NO (for xgboost)(scaler = MinMaxScaler(feature_range=(0, 1)) X = scaler.fit_transform(X))"
   ]
  },
  {
   "cell_type": "code",
   "execution_count": 45,
   "metadata": {},
   "outputs": [],
   "source": [
    "import os\n",
    "import numpy as np\n",
    "import pandas as pd\n",
    "from sklearn.model_selection import KFold, train_test_split\n",
    "from sklearn.metrics import confusion_matrix, precision_score, recall_score, roc_auc_score, roc_curve\n",
    "import statistics as st"
   ]
  },
  {
   "cell_type": "code",
   "execution_count": 36,
   "metadata": {},
   "outputs": [
    {
     "name": "stdout",
     "output_type": "stream",
     "text": [
      "C:\\Users\\markos-ece\\Desktop\\Viggiato\\PhD - UofA\\Research\\2-Dota2\\git-repo-code\\data-analysis\\prediction-models\n",
      "C:\\Users\\markos-ece\\Desktop\\Viggiato\\PhD - UofA\\Research\\2-Dota2\\git-repo-code\\data-analysis\\prediction-models/model_features_pre-match/time_blowout/\n"
     ]
    }
   ],
   "source": [
    "# Directory for the time blowout group\n",
    "cwd = os.getcwd()\n",
    "root_directory = os.path.dirname(cwd)\n",
    "print(root_directory)\n",
    "time_blowout_data_dir = root_directory + \"/model_features_pre-match/time_blowout/\"\n",
    "print(time_blowout_data_dir)"
   ]
  },
  {
   "cell_type": "markdown",
   "metadata": {},
   "source": [
    "### Exploration and preprocessing of the data"
   ]
  },
  {
   "cell_type": "code",
   "execution_count": 4,
   "metadata": {},
   "outputs": [],
   "source": [
    "feature_time_blowout_df = pd.read_csv(time_blowout_data_dir + \"dota2_time_blowout_features-used_features.csv\")"
   ]
  },
  {
   "cell_type": "code",
   "execution_count": null,
   "metadata": {},
   "outputs": [],
   "source": [
    "# Print feature names\n",
    "feature_time_blowout_df.columns"
   ]
  },
  {
   "cell_type": "code",
   "execution_count": null,
   "metadata": {},
   "outputs": [],
   "source": [
    "# Drop first ccolumn (match id)\n",
    "feature_time_blowout_df = feature_time_blowout_df.drop(['match_id'], axis=1)"
   ]
  },
  {
   "cell_type": "code",
   "execution_count": null,
   "metadata": {},
   "outputs": [],
   "source": [
    "# Existing types\n",
    "feature_time_blowout_df.dtypes"
   ]
  },
  {
   "cell_type": "code",
   "execution_count": null,
   "metadata": {},
   "outputs": [],
   "source": [
    "# Print feature names\n",
    "feature_time_blowout_df.columns"
   ]
  },
  {
   "cell_type": "code",
   "execution_count": 8,
   "metadata": {},
   "outputs": [
    {
     "data": {
      "text/html": [
       "<div>\n",
       "<style scoped>\n",
       "    .dataframe tbody tr th:only-of-type {\n",
       "        vertical-align: middle;\n",
       "    }\n",
       "\n",
       "    .dataframe tbody tr th {\n",
       "        vertical-align: top;\n",
       "    }\n",
       "\n",
       "    .dataframe thead th {\n",
       "        text-align: right;\n",
       "    }\n",
       "</style>\n",
       "<table border=\"1\" class=\"dataframe\">\n",
       "  <thead>\n",
       "    <tr style=\"text-align: right;\">\n",
       "      <th></th>\n",
       "      <th>role_carry_r</th>\n",
       "      <th>role_support_r</th>\n",
       "      <th>role_nuker_r</th>\n",
       "      <th>role_disabler_r</th>\n",
       "      <th>role_jungler_r</th>\n",
       "      <th>role_durable_r</th>\n",
       "      <th>role_escape_r</th>\n",
       "      <th>role_pusher_r</th>\n",
       "      <th>role_initiator_r</th>\n",
       "      <th>role_carry_d</th>\n",
       "      <th>...</th>\n",
       "      <th>winR_hp_md_d</th>\n",
       "      <th>xpm_hp_md_d</th>\n",
       "      <th>goldm_hp_md_d</th>\n",
       "      <th>deathsm_hp_md_d</th>\n",
       "      <th>killsm_hp_md_d</th>\n",
       "      <th>assistsm_hp_md_d</th>\n",
       "      <th>damagem_hp_md_d</th>\n",
       "      <th>healingm_hp_md_d</th>\n",
       "      <th>rad_first_pick</th>\n",
       "      <th>win_label</th>\n",
       "    </tr>\n",
       "  </thead>\n",
       "  <tbody>\n",
       "    <tr>\n",
       "      <th>0</th>\n",
       "      <td>1</td>\n",
       "      <td>1</td>\n",
       "      <td>1</td>\n",
       "      <td>1</td>\n",
       "      <td>0</td>\n",
       "      <td>1</td>\n",
       "      <td>1</td>\n",
       "      <td>0</td>\n",
       "      <td>1</td>\n",
       "      <td>1</td>\n",
       "      <td>...</td>\n",
       "      <td>0.000000</td>\n",
       "      <td>462.000000</td>\n",
       "      <td>393.000000</td>\n",
       "      <td>0.126050</td>\n",
       "      <td>0.084034</td>\n",
       "      <td>0.105042</td>\n",
       "      <td>0.0</td>\n",
       "      <td>0.0</td>\n",
       "      <td>1.0</td>\n",
       "      <td>1</td>\n",
       "    </tr>\n",
       "    <tr>\n",
       "      <th>1</th>\n",
       "      <td>0</td>\n",
       "      <td>1</td>\n",
       "      <td>1</td>\n",
       "      <td>1</td>\n",
       "      <td>1</td>\n",
       "      <td>1</td>\n",
       "      <td>1</td>\n",
       "      <td>1</td>\n",
       "      <td>1</td>\n",
       "      <td>1</td>\n",
       "      <td>...</td>\n",
       "      <td>0.333333</td>\n",
       "      <td>281.666667</td>\n",
       "      <td>264.833333</td>\n",
       "      <td>0.138787</td>\n",
       "      <td>0.046137</td>\n",
       "      <td>0.230105</td>\n",
       "      <td>0.0</td>\n",
       "      <td>0.0</td>\n",
       "      <td>1.0</td>\n",
       "      <td>0</td>\n",
       "    </tr>\n",
       "    <tr>\n",
       "      <th>2</th>\n",
       "      <td>1</td>\n",
       "      <td>1</td>\n",
       "      <td>1</td>\n",
       "      <td>1</td>\n",
       "      <td>1</td>\n",
       "      <td>1</td>\n",
       "      <td>1</td>\n",
       "      <td>1</td>\n",
       "      <td>1</td>\n",
       "      <td>1</td>\n",
       "      <td>...</td>\n",
       "      <td>0.666667</td>\n",
       "      <td>452.666667</td>\n",
       "      <td>408.666667</td>\n",
       "      <td>0.115375</td>\n",
       "      <td>0.228942</td>\n",
       "      <td>0.260469</td>\n",
       "      <td>0.0</td>\n",
       "      <td>0.0</td>\n",
       "      <td>0.0</td>\n",
       "      <td>1</td>\n",
       "    </tr>\n",
       "    <tr>\n",
       "      <th>3</th>\n",
       "      <td>1</td>\n",
       "      <td>1</td>\n",
       "      <td>1</td>\n",
       "      <td>1</td>\n",
       "      <td>1</td>\n",
       "      <td>1</td>\n",
       "      <td>1</td>\n",
       "      <td>1</td>\n",
       "      <td>1</td>\n",
       "      <td>1</td>\n",
       "      <td>...</td>\n",
       "      <td>1.000000</td>\n",
       "      <td>365.666667</td>\n",
       "      <td>276.833333</td>\n",
       "      <td>0.131327</td>\n",
       "      <td>0.094068</td>\n",
       "      <td>0.211092</td>\n",
       "      <td>0.0</td>\n",
       "      <td>0.0</td>\n",
       "      <td>1.0</td>\n",
       "      <td>1</td>\n",
       "    </tr>\n",
       "    <tr>\n",
       "      <th>4</th>\n",
       "      <td>1</td>\n",
       "      <td>1</td>\n",
       "      <td>1</td>\n",
       "      <td>1</td>\n",
       "      <td>0</td>\n",
       "      <td>1</td>\n",
       "      <td>1</td>\n",
       "      <td>1</td>\n",
       "      <td>1</td>\n",
       "      <td>1</td>\n",
       "      <td>...</td>\n",
       "      <td>0.746667</td>\n",
       "      <td>433.853333</td>\n",
       "      <td>388.160000</td>\n",
       "      <td>0.091623</td>\n",
       "      <td>0.193855</td>\n",
       "      <td>0.282416</td>\n",
       "      <td>0.0</td>\n",
       "      <td>0.0</td>\n",
       "      <td>0.0</td>\n",
       "      <td>0</td>\n",
       "    </tr>\n",
       "  </tbody>\n",
       "</table>\n",
       "<p>5 rows × 58 columns</p>\n",
       "</div>"
      ],
      "text/plain": [
       "   role_carry_r  role_support_r  role_nuker_r  role_disabler_r  \\\n",
       "0             1               1             1                1   \n",
       "1             0               1             1                1   \n",
       "2             1               1             1                1   \n",
       "3             1               1             1                1   \n",
       "4             1               1             1                1   \n",
       "\n",
       "   role_jungler_r  role_durable_r  role_escape_r  role_pusher_r  \\\n",
       "0               0               1              1              0   \n",
       "1               1               1              1              1   \n",
       "2               1               1              1              1   \n",
       "3               1               1              1              1   \n",
       "4               0               1              1              1   \n",
       "\n",
       "   role_initiator_r  role_carry_d  ...  winR_hp_md_d  xpm_hp_md_d  \\\n",
       "0                 1             1  ...      0.000000   462.000000   \n",
       "1                 1             1  ...      0.333333   281.666667   \n",
       "2                 1             1  ...      0.666667   452.666667   \n",
       "3                 1             1  ...      1.000000   365.666667   \n",
       "4                 1             1  ...      0.746667   433.853333   \n",
       "\n",
       "   goldm_hp_md_d  deathsm_hp_md_d  killsm_hp_md_d  assistsm_hp_md_d  \\\n",
       "0     393.000000         0.126050        0.084034          0.105042   \n",
       "1     264.833333         0.138787        0.046137          0.230105   \n",
       "2     408.666667         0.115375        0.228942          0.260469   \n",
       "3     276.833333         0.131327        0.094068          0.211092   \n",
       "4     388.160000         0.091623        0.193855          0.282416   \n",
       "\n",
       "   damagem_hp_md_d  healingm_hp_md_d  rad_first_pick  win_label  \n",
       "0              0.0               0.0             1.0          1  \n",
       "1              0.0               0.0             1.0          0  \n",
       "2              0.0               0.0             0.0          1  \n",
       "3              0.0               0.0             1.0          1  \n",
       "4              0.0               0.0             0.0          0  \n",
       "\n",
       "[5 rows x 58 columns]"
      ]
     },
     "execution_count": 8,
     "metadata": {},
     "output_type": "execute_result"
    }
   ],
   "source": [
    "feature_time_blowout_df.head()\n"
   ]
  },
  {
   "cell_type": "code",
   "execution_count": null,
   "metadata": {},
   "outputs": [],
   "source": [
    "feature_time_blowout_df.describe()"
   ]
  },
  {
   "cell_type": "code",
   "execution_count": 10,
   "metadata": {},
   "outputs": [
    {
     "name": "stdout",
     "output_type": "stream",
     "text": [
      "<class 'pandas.core.frame.DataFrame'>\n",
      "RangeIndex: 5528 entries, 0 to 5527\n",
      "Data columns (total 58 columns):\n",
      "role_carry_r        5528 non-null int64\n",
      "role_support_r      5528 non-null int64\n",
      "role_nuker_r        5528 non-null int64\n",
      "role_disabler_r     5528 non-null int64\n",
      "role_jungler_r      5528 non-null int64\n",
      "role_durable_r      5528 non-null int64\n",
      "role_escape_r       5528 non-null int64\n",
      "role_pusher_r       5528 non-null int64\n",
      "role_initiator_r    5528 non-null int64\n",
      "role_carry_d        5528 non-null int64\n",
      "role_support_d      5528 non-null int64\n",
      "role_nuker_d        5528 non-null int64\n",
      "role_disabler_d     5528 non-null int64\n",
      "role_jungler_d      5528 non-null int64\n",
      "role_durable_d      5528 non-null int64\n",
      "role_escape_d       5528 non-null int64\n",
      "role_pusher_d       5528 non-null int64\n",
      "role_initiator_d    5528 non-null int64\n",
      "bstr_md_r           5528 non-null int64\n",
      "bagi_md_r           5528 non-null int64\n",
      "bint_md_r           5528 non-null int64\n",
      "strg_md_r           5528 non-null float64\n",
      "agig_md_r           5528 non-null float64\n",
      "intg_md_r           5528 non-null float64\n",
      "bhealth_md_r        5528 non-null int64\n",
      "bhealth_reg_md_r    5528 non-null float64\n",
      "mspeed_md_r         5528 non-null float64\n",
      "bstr_md_d           5528 non-null int64\n",
      "bagi_md_d           5528 non-null int64\n",
      "bint_md_d           5528 non-null int64\n",
      "strg_md_d           5528 non-null float64\n",
      "agig_md_d           5528 non-null float64\n",
      "intg_md_d           5528 non-null float64\n",
      "bhealth_md_d        5528 non-null int64\n",
      "bhealth_reg_md_d    5528 non-null float64\n",
      "mspeed_md_d         5528 non-null float64\n",
      "winR_md_r           5525 non-null float64\n",
      "winR_md_d           5526 non-null float64\n",
      "winR_plr_md_r       4280 non-null float64\n",
      "winR_plr_md_d       4136 non-null float64\n",
      "winR_hp_md_r        2979 non-null float64\n",
      "xpm_hp_md_r         2979 non-null float64\n",
      "goldm_hp_md_r       2979 non-null float64\n",
      "deathsm_hp_md_r     0 non-null float64\n",
      "killsm_hp_md_r      2979 non-null float64\n",
      "assistsm_hp_md_r    2979 non-null float64\n",
      "damagem_hp_md_r     2979 non-null float64\n",
      "healingm_hp_md_r    2979 non-null float64\n",
      "winR_hp_md_d        2864 non-null float64\n",
      "xpm_hp_md_d         2864 non-null float64\n",
      "goldm_hp_md_d       2864 non-null float64\n",
      "deathsm_hp_md_d     2864 non-null float64\n",
      "killsm_hp_md_d      2864 non-null float64\n",
      "assistsm_hp_md_d    2864 non-null float64\n",
      "damagem_hp_md_d     2864 non-null float64\n",
      "healingm_hp_md_d    2864 non-null float64\n",
      "rad_first_pick      5465 non-null float64\n",
      "win_label           5528 non-null int64\n",
      "dtypes: float64(31), int64(27)\n",
      "memory usage: 2.4 MB\n"
     ]
    }
   ],
   "source": [
    "feature_time_blowout_df.info()\n"
   ]
  },
  {
   "cell_type": "code",
   "execution_count": 11,
   "metadata": {},
   "outputs": [
    {
     "name": "stdout",
     "output_type": "stream",
     "text": [
      "<class 'pandas.core.frame.DataFrame'>\n",
      "RangeIndex: 5528 entries, 0 to 5527\n",
      "Data columns (total 57 columns):\n",
      "role_carry_r        5528 non-null int64\n",
      "role_support_r      5528 non-null int64\n",
      "role_nuker_r        5528 non-null int64\n",
      "role_disabler_r     5528 non-null int64\n",
      "role_jungler_r      5528 non-null int64\n",
      "role_durable_r      5528 non-null int64\n",
      "role_escape_r       5528 non-null int64\n",
      "role_pusher_r       5528 non-null int64\n",
      "role_initiator_r    5528 non-null int64\n",
      "role_carry_d        5528 non-null int64\n",
      "role_support_d      5528 non-null int64\n",
      "role_nuker_d        5528 non-null int64\n",
      "role_disabler_d     5528 non-null int64\n",
      "role_jungler_d      5528 non-null int64\n",
      "role_durable_d      5528 non-null int64\n",
      "role_escape_d       5528 non-null int64\n",
      "role_pusher_d       5528 non-null int64\n",
      "role_initiator_d    5528 non-null int64\n",
      "bstr_md_r           5528 non-null int64\n",
      "bagi_md_r           5528 non-null int64\n",
      "bint_md_r           5528 non-null int64\n",
      "strg_md_r           5528 non-null float64\n",
      "agig_md_r           5528 non-null float64\n",
      "intg_md_r           5528 non-null float64\n",
      "bhealth_md_r        5528 non-null int64\n",
      "bhealth_reg_md_r    5528 non-null float64\n",
      "mspeed_md_r         5528 non-null float64\n",
      "bstr_md_d           5528 non-null int64\n",
      "bagi_md_d           5528 non-null int64\n",
      "bint_md_d           5528 non-null int64\n",
      "strg_md_d           5528 non-null float64\n",
      "agig_md_d           5528 non-null float64\n",
      "intg_md_d           5528 non-null float64\n",
      "bhealth_md_d        5528 non-null int64\n",
      "bhealth_reg_md_d    5528 non-null float64\n",
      "mspeed_md_d         5528 non-null float64\n",
      "winR_md_r           5525 non-null float64\n",
      "winR_md_d           5526 non-null float64\n",
      "winR_plr_md_r       4280 non-null float64\n",
      "winR_plr_md_d       4136 non-null float64\n",
      "winR_hp_md_r        2979 non-null float64\n",
      "xpm_hp_md_r         2979 non-null float64\n",
      "goldm_hp_md_r       2979 non-null float64\n",
      "killsm_hp_md_r      2979 non-null float64\n",
      "assistsm_hp_md_r    2979 non-null float64\n",
      "damagem_hp_md_r     2979 non-null float64\n",
      "healingm_hp_md_r    2979 non-null float64\n",
      "winR_hp_md_d        2864 non-null float64\n",
      "xpm_hp_md_d         2864 non-null float64\n",
      "goldm_hp_md_d       2864 non-null float64\n",
      "deathsm_hp_md_d     2864 non-null float64\n",
      "killsm_hp_md_d      2864 non-null float64\n",
      "assistsm_hp_md_d    2864 non-null float64\n",
      "damagem_hp_md_d     2864 non-null float64\n",
      "healingm_hp_md_d    2864 non-null float64\n",
      "rad_first_pick      5465 non-null float64\n",
      "win_label           5528 non-null int64\n",
      "dtypes: float64(30), int64(27)\n",
      "memory usage: 2.4 MB\n"
     ]
    }
   ],
   "source": [
    "# Drop first ccolumn (match id)\n",
    "feature_time_blowout_df = feature_time_blowout_df.drop(['deathsm_hp_md_r'], axis=1)\n",
    "feature_time_blowout_df.info()"
   ]
  },
  {
   "cell_type": "code",
   "execution_count": null,
   "metadata": {
    "scrolled": true
   },
   "outputs": [],
   "source": [
    "print(feature_time_blowout_df.isnull().sum())"
   ]
  },
  {
   "cell_type": "code",
   "execution_count": null,
   "metadata": {},
   "outputs": [],
   "source": [
    "# Change type of 'radiant_first_pick' from float to int\n",
    "# feature_time_blowout_df[\"rad_first_pick\"] = feature_time_blowout_df[\"rad_first_pick\"].astype(\"int\")"
   ]
  },
  {
   "cell_type": "markdown",
   "metadata": {},
   "source": [
    "### Model building, training and evaluation"
   ]
  },
  {
   "cell_type": "code",
   "execution_count": 13,
   "metadata": {},
   "outputs": [],
   "source": [
    "import xgboost as xgb\n",
    "from xgboost import XGBClassifier\n",
    "from sklearn.metrics import roc_curve\n",
    "from sklearn.metrics import auc\n",
    "import statistics as st"
   ]
  },
  {
   "cell_type": "code",
   "execution_count": 14,
   "metadata": {},
   "outputs": [],
   "source": [
    "X, y = feature_time_blowout_df.iloc[:,:-1],feature_time_blowout_df.iloc[:,-1]"
   ]
  },
  {
   "cell_type": "code",
   "execution_count": null,
   "metadata": {
    "scrolled": true
   },
   "outputs": [],
   "source": [
    "X.head()"
   ]
  },
  {
   "cell_type": "code",
   "execution_count": null,
   "metadata": {},
   "outputs": [],
   "source": [
    "X.shape"
   ]
  },
  {
   "cell_type": "code",
   "execution_count": null,
   "metadata": {
    "scrolled": true
   },
   "outputs": [],
   "source": [
    "y.head()"
   ]
  },
  {
   "cell_type": "code",
   "execution_count": null,
   "metadata": {
    "scrolled": true
   },
   "outputs": [],
   "source": [
    "y.shape"
   ]
  },
  {
   "cell_type": "code",
   "execution_count": 15,
   "metadata": {},
   "outputs": [],
   "source": [
    "data_dmatrix = xgb.DMatrix(data=X,label=y)"
   ]
  },
  {
   "cell_type": "code",
   "execution_count": 16,
   "metadata": {},
   "outputs": [],
   "source": [
    "X_train, X_test, y_train, y_test = train_test_split(X, y, test_size=0.2, random_state=123)"
   ]
  },
  {
   "cell_type": "code",
   "execution_count": 21,
   "metadata": {},
   "outputs": [],
   "source": [
    "xg_reg = xgb.XGBClassifier(objective ='binary:logistic', colsample_bytree = 0.3, learning_rate = 0.1,\n",
    "                max_depth = 5, alpha = 10, n_estimators = 100, eval_metric='auc')"
   ]
  },
  {
   "cell_type": "markdown",
   "metadata": {},
   "source": [
    "### k-fold cv - 3 (best)"
   ]
  },
  {
   "cell_type": "code",
   "execution_count": 22,
   "metadata": {},
   "outputs": [
    {
     "name": "stdout",
     "output_type": "stream",
     "text": [
      "30\n",
      "Median ROC AUC: 0.84990\n"
     ]
    }
   ],
   "source": [
    "from sklearn.model_selection import KFold\n",
    "from sklearn.model_selection import cross_val_score\n",
    "from sklearn.model_selection import RepeatedKFold\n",
    "\n",
    "# define evaluation procedure\n",
    "cv = RepeatedKFold(n_splits=10, n_repeats=3, random_state=1)\n",
    "# evaluate model\n",
    "scores = cross_val_score(xg_reg, X, y, scoring='roc_auc', cv=cv)\n",
    "# summarize performance\n",
    "print(len(scores))\n",
    "print('Median ROC AUC: %.5f' % st.median(scores))"
   ]
  },
  {
   "cell_type": "code",
   "execution_count": 37,
   "metadata": {},
   "outputs": [],
   "source": [
    "features = [c for c in feature_time_blowout_df.columns if c != 'win_label']\n",
    "target = 'win_label'"
   ]
  },
  {
   "cell_type": "code",
   "execution_count": 38,
   "metadata": {},
   "outputs": [],
   "source": [
    "kfolds = KFold(n_splits=10, shuffle=True)"
   ]
  },
  {
   "cell_type": "code",
   "execution_count": 43,
   "metadata": {},
   "outputs": [],
   "source": [
    "param = {\n",
    "    'objective': 'binary:logistic',\n",
    "    'eval_metric': 'auc',\n",
    "    'eta': 0.2,\n",
    "    'colsample_bytree': 0.3,\n",
    "    'learning_rate': 0.1,\n",
    "     'max_depth': 10,\n",
    "     'alpha': 10\n",
    "}\n",
    "\n",
    "num_round = 100\n",
    "thres = 0.5"
   ]
  },
  {
   "cell_type": "code",
   "execution_count": 50,
   "metadata": {},
   "outputs": [
    {
     "data": {
      "text/plain": [
       "'Median AUC: 0.8343'"
      ]
     },
     "execution_count": 50,
     "metadata": {},
     "output_type": "execute_result"
    }
   ],
   "source": [
    "cnf = list()\n",
    "auc = list()\n",
    "\n",
    "for train_idx, test_idx in kfolds.split(X):\n",
    "    X_train, y_train = X.iloc[train_idx], y.iloc[train_idx]\n",
    "    X_test, y_test = X.iloc[test_idx], y.iloc[test_idx]\n",
    "    \n",
    "    param['scale_pos_weight'] = (y_train.size - y_train.sum()) / y_train.sum()    \n",
    "    \n",
    "    xg_train = xgb.DMatrix(\n",
    "        X_train.values, feature_names=features, label=y_train.values\n",
    "    )\n",
    "    xg_test = xgb.DMatrix(\n",
    "        X_test.values, feature_names=features, label=y_test.values\n",
    "    )\n",
    "    \n",
    "    watchlist = [(xg_train, 'train'), (xg_test, 'test')]\n",
    "    bst = xgb.train(param, xg_train, num_round, watchlist, verbose_eval=False)\n",
    "    preds = bst.predict(xg_test)\n",
    "    \n",
    "    cnf.append(confusion_matrix(y_test, (preds > thres).astype(int)))\n",
    "    auc.append(roc_auc_score(y_test, preds))\n",
    "\n",
    "cnf = sum(cnf)\n",
    "\n",
    "'Median AUC: {:.04f}'.format(st.median(auc))\n",
    "\n",
    "# auc = sum(auc) / len(auc)\n",
    "# 'Average AUC: {:.04f}'.format(auc)"
   ]
  },
  {
   "cell_type": "code",
   "execution_count": null,
   "metadata": {},
   "outputs": [],
   "source": []
  }
 ],
 "metadata": {
  "kernelspec": {
   "display_name": "Python 3",
   "language": "python",
   "name": "python3"
  },
  "language_info": {
   "codemirror_mode": {
    "name": "ipython",
    "version": 3
   },
   "file_extension": ".py",
   "mimetype": "text/x-python",
   "name": "python",
   "nbconvert_exporter": "python",
   "pygments_lexer": "ipython3",
   "version": "3.6.8"
  }
 },
 "nbformat": 4,
 "nbformat_minor": 2
}
