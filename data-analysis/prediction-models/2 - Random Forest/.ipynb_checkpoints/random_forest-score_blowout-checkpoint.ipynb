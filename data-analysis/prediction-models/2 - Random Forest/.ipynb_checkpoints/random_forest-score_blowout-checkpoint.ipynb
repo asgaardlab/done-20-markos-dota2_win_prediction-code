{
 "cells": [
  {
   "cell_type": "markdown",
   "metadata": {},
   "source": [
    "## Random Forest\n",
    "\n",
    "Notebook with implementation of the Random Forest algorithm to predict victory in Dota 2\n",
    "\n",
    "-------------------------------------------------------------------------------------------------------------------------------"
   ]
  },
  {
   "cell_type": "markdown",
   "metadata": {},
   "source": [
    "Useful functions to use to explore the data and preprocessing steps before feeding the data into the algorithm:\n",
    "\n",
    "* df.columns : to see the names of the columns (i.e., features)\n",
    "* df.dtype : to see the types in the data\n",
    "* data.head()\n",
    "* data.info()\n",
    "* df.describe()\n",
    "\n",
    "Preprocessing steps:\n",
    "\n",
    "* Handle missing data: 'imputing' the mean of the column\n",
    "\n",
    "* Do we need to check for correlation between features? NO (for RF)\n",
    "\n",
    "* Do we need to perform feature scaling? NO (for RF) (scaler = MinMaxScaler(feature_range=(0, 1)) X = scaler.fit_transform(X))"
   ]
  },
  {
   "cell_type": "markdown",
   "metadata": {},
   "source": [
    "## Score blowout matches"
   ]
  },
  {
   "cell_type": "code",
   "execution_count": 3,
   "metadata": {},
   "outputs": [],
   "source": [
    "import os\n",
    "import numpy as np\n",
    "import pandas as pd\n",
    "from sklearn.model_selection import KFold, train_test_split, GridSearchCV\n",
    "from sklearn.metrics import confusion_matrix, precision_score, recall_score, roc_auc_score, roc_curve\n",
    "import statistics as st"
   ]
  },
  {
   "cell_type": "code",
   "execution_count": 4,
   "metadata": {},
   "outputs": [
    {
     "name": "stdout",
     "output_type": "stream",
     "text": [
      "C:\\Users\\markos-ece\\Desktop\\Viggiato\\PhD - UofA\\Research\\2-Dota2\\git-repo-code\\data-analysis\\prediction-models\n",
      "C:\\Users\\markos-ece\\Desktop\\Viggiato\\PhD - UofA\\Research\\2-Dota2\\git-repo-code\\data-analysis\\prediction-models/model_features_pre-match_newdata/score_blowout/\n"
     ]
    }
   ],
   "source": [
    "# Directory for the time blowout group\n",
    "cwd = os.getcwd()\n",
    "root_directory = os.path.dirname(cwd)\n",
    "print(root_directory)\n",
    "score_blowout_data_dir = root_directory + \"/model_features_pre-match_newdata/score_blowout/\"\n",
    "print(score_blowout_data_dir)"
   ]
  },
  {
   "cell_type": "markdown",
   "metadata": {},
   "source": [
    "#### Exploration and preprocessing of the data"
   ]
  },
  {
   "cell_type": "code",
   "execution_count": 6,
   "metadata": {},
   "outputs": [],
   "source": [
    "feature_score_blowout_df = pd.read_csv(score_blowout_data_dir + \"dota2_score_blowout_features.csv\")"
   ]
  },
  {
   "cell_type": "code",
   "execution_count": 7,
   "metadata": {},
   "outputs": [
    {
     "data": {
      "text/plain": [
       "Index(['match_id', 'rad_hero_1', 'rad_hero_2', 'rad_hero_3', 'rad_hero_4',\n",
       "       'rad_hero_5', 'rad_hero_6', 'rad_hero_7', 'rad_hero_8', 'rad_hero_9',\n",
       "       ...\n",
       "       'hero_damagem_hp_hero3_d', 'hero_damagem_hp_hero4_d',\n",
       "       'hero_damagem_hp_hero5_d', 'healingm_hp_hero1_d', 'healingm_hp_hero2_d',\n",
       "       'healingm_hp_hero3_d', 'healingm_hp_hero4_d', 'healingm_hp_hero5_d',\n",
       "       'rad_first_pick', 'win_label'],\n",
       "      dtype='object', length=459)"
      ]
     },
     "execution_count": 7,
     "metadata": {},
     "output_type": "execute_result"
    }
   ],
   "source": [
    "# Print feature names\n",
    "feature_score_blowout_df.columns"
   ]
  },
  {
   "cell_type": "code",
   "execution_count": 8,
   "metadata": {},
   "outputs": [],
   "source": [
    "# Drop first ccolumn (match id)\n",
    "feature_score_blowout_df = feature_score_blowout_df.drop(['match_id'], axis=1)"
   ]
  },
  {
   "cell_type": "code",
   "execution_count": 9,
   "metadata": {
    "scrolled": true
   },
   "outputs": [
    {
     "data": {
      "text/plain": [
       "Index(['rad_hero_1', 'rad_hero_2', 'rad_hero_3', 'rad_hero_4', 'rad_hero_5',\n",
       "       'rad_hero_6', 'rad_hero_7', 'rad_hero_8', 'rad_hero_9', 'rad_hero_10',\n",
       "       ...\n",
       "       'hero_damagem_hp_hero3_d', 'hero_damagem_hp_hero4_d',\n",
       "       'hero_damagem_hp_hero5_d', 'healingm_hp_hero1_d', 'healingm_hp_hero2_d',\n",
       "       'healingm_hp_hero3_d', 'healingm_hp_hero4_d', 'healingm_hp_hero5_d',\n",
       "       'rad_first_pick', 'win_label'],\n",
       "      dtype='object', length=458)"
      ]
     },
     "execution_count": 9,
     "metadata": {},
     "output_type": "execute_result"
    }
   ],
   "source": [
    "# Print feature names\n",
    "feature_score_blowout_df.columns"
   ]
  },
  {
   "cell_type": "code",
   "execution_count": 10,
   "metadata": {
    "collapsed": true
   },
   "outputs": [
    {
     "data": {
      "text/plain": [
       "rad_hero_1                   int64\n",
       "rad_hero_2                   int64\n",
       "rad_hero_3                   int64\n",
       "rad_hero_4                   int64\n",
       "rad_hero_5                   int64\n",
       "rad_hero_6                   int64\n",
       "rad_hero_7                   int64\n",
       "rad_hero_8                   int64\n",
       "rad_hero_9                   int64\n",
       "rad_hero_10                  int64\n",
       "rad_hero_11                  int64\n",
       "rad_hero_12                  int64\n",
       "rad_hero_13                  int64\n",
       "rad_hero_14                  int64\n",
       "rad_hero_15                  int64\n",
       "rad_hero_16                  int64\n",
       "rad_hero_17                  int64\n",
       "rad_hero_18                  int64\n",
       "rad_hero_19                  int64\n",
       "rad_hero_20                  int64\n",
       "rad_hero_21                  int64\n",
       "rad_hero_22                  int64\n",
       "rad_hero_23                  int64\n",
       "rad_hero_25                  int64\n",
       "rad_hero_26                  int64\n",
       "rad_hero_27                  int64\n",
       "rad_hero_28                  int64\n",
       "rad_hero_29                  int64\n",
       "rad_hero_30                  int64\n",
       "rad_hero_31                  int64\n",
       "                            ...   \n",
       "deathsm_hp_hero3_d         float64\n",
       "deathsm_hp_hero4_d         float64\n",
       "deathsm_hp_hero5_d         float64\n",
       "damagem_hp_hero1_d         float64\n",
       "damagem_hp_hero2_d         float64\n",
       "damagem_hp_hero3_d         float64\n",
       "damagem_hp_hero4_d         float64\n",
       "damagem_hp_hero5_d         float64\n",
       "killsm_hp_hero1_d          float64\n",
       "killsm_hp_hero2_d          float64\n",
       "killsm_hp_hero3_d          float64\n",
       "killsm_hp_hero4_d          float64\n",
       "killsm_hp_hero5_d          float64\n",
       "assistsm_hp_hero1_d        float64\n",
       "assistsm_hp_hero2_d        float64\n",
       "assistsm_hp_hero3_d        float64\n",
       "assistsm_hp_hero4_d        float64\n",
       "assistsm_hp_hero5_d        float64\n",
       "hero_damagem_hp_hero1_d    float64\n",
       "hero_damagem_hp_hero2_d    float64\n",
       "hero_damagem_hp_hero3_d    float64\n",
       "hero_damagem_hp_hero4_d    float64\n",
       "hero_damagem_hp_hero5_d    float64\n",
       "healingm_hp_hero1_d        float64\n",
       "healingm_hp_hero2_d        float64\n",
       "healingm_hp_hero3_d        float64\n",
       "healingm_hp_hero4_d        float64\n",
       "healingm_hp_hero5_d        float64\n",
       "rad_first_pick             float64\n",
       "win_label                    int64\n",
       "Length: 458, dtype: object"
      ]
     },
     "execution_count": 10,
     "metadata": {},
     "output_type": "execute_result"
    }
   ],
   "source": [
    "# Existing types\n",
    "feature_score_blowout_df.dtypes"
   ]
  },
  {
   "cell_type": "code",
   "execution_count": 11,
   "metadata": {},
   "outputs": [
    {
     "data": {
      "text/html": [
       "<div>\n",
       "<style scoped>\n",
       "    .dataframe tbody tr th:only-of-type {\n",
       "        vertical-align: middle;\n",
       "    }\n",
       "\n",
       "    .dataframe tbody tr th {\n",
       "        vertical-align: top;\n",
       "    }\n",
       "\n",
       "    .dataframe thead th {\n",
       "        text-align: right;\n",
       "    }\n",
       "</style>\n",
       "<table border=\"1\" class=\"dataframe\">\n",
       "  <thead>\n",
       "    <tr style=\"text-align: right;\">\n",
       "      <th></th>\n",
       "      <th>rad_hero_1</th>\n",
       "      <th>rad_hero_2</th>\n",
       "      <th>rad_hero_3</th>\n",
       "      <th>rad_hero_4</th>\n",
       "      <th>rad_hero_5</th>\n",
       "      <th>rad_hero_6</th>\n",
       "      <th>rad_hero_7</th>\n",
       "      <th>rad_hero_8</th>\n",
       "      <th>rad_hero_9</th>\n",
       "      <th>rad_hero_10</th>\n",
       "      <th>...</th>\n",
       "      <th>hero_damagem_hp_hero3_d</th>\n",
       "      <th>hero_damagem_hp_hero4_d</th>\n",
       "      <th>hero_damagem_hp_hero5_d</th>\n",
       "      <th>healingm_hp_hero1_d</th>\n",
       "      <th>healingm_hp_hero2_d</th>\n",
       "      <th>healingm_hp_hero3_d</th>\n",
       "      <th>healingm_hp_hero4_d</th>\n",
       "      <th>healingm_hp_hero5_d</th>\n",
       "      <th>rad_first_pick</th>\n",
       "      <th>win_label</th>\n",
       "    </tr>\n",
       "  </thead>\n",
       "  <tbody>\n",
       "    <tr>\n",
       "      <th>0</th>\n",
       "      <td>0</td>\n",
       "      <td>0</td>\n",
       "      <td>0</td>\n",
       "      <td>0</td>\n",
       "      <td>0</td>\n",
       "      <td>0</td>\n",
       "      <td>0</td>\n",
       "      <td>0</td>\n",
       "      <td>0</td>\n",
       "      <td>0</td>\n",
       "      <td>...</td>\n",
       "      <td>195.814105</td>\n",
       "      <td>NaN</td>\n",
       "      <td>NaN</td>\n",
       "      <td>0.0</td>\n",
       "      <td>0.0</td>\n",
       "      <td>108.144296</td>\n",
       "      <td>NaN</td>\n",
       "      <td>NaN</td>\n",
       "      <td>1.0</td>\n",
       "      <td>1</td>\n",
       "    </tr>\n",
       "    <tr>\n",
       "      <th>1</th>\n",
       "      <td>0</td>\n",
       "      <td>0</td>\n",
       "      <td>0</td>\n",
       "      <td>0</td>\n",
       "      <td>0</td>\n",
       "      <td>0</td>\n",
       "      <td>0</td>\n",
       "      <td>0</td>\n",
       "      <td>0</td>\n",
       "      <td>0</td>\n",
       "      <td>...</td>\n",
       "      <td>NaN</td>\n",
       "      <td>NaN</td>\n",
       "      <td>NaN</td>\n",
       "      <td>NaN</td>\n",
       "      <td>NaN</td>\n",
       "      <td>NaN</td>\n",
       "      <td>NaN</td>\n",
       "      <td>NaN</td>\n",
       "      <td>0.0</td>\n",
       "      <td>1</td>\n",
       "    </tr>\n",
       "    <tr>\n",
       "      <th>2</th>\n",
       "      <td>0</td>\n",
       "      <td>0</td>\n",
       "      <td>0</td>\n",
       "      <td>0</td>\n",
       "      <td>0</td>\n",
       "      <td>0</td>\n",
       "      <td>0</td>\n",
       "      <td>1</td>\n",
       "      <td>0</td>\n",
       "      <td>0</td>\n",
       "      <td>...</td>\n",
       "      <td>NaN</td>\n",
       "      <td>NaN</td>\n",
       "      <td>NaN</td>\n",
       "      <td>NaN</td>\n",
       "      <td>NaN</td>\n",
       "      <td>NaN</td>\n",
       "      <td>NaN</td>\n",
       "      <td>NaN</td>\n",
       "      <td>0.0</td>\n",
       "      <td>0</td>\n",
       "    </tr>\n",
       "    <tr>\n",
       "      <th>3</th>\n",
       "      <td>0</td>\n",
       "      <td>0</td>\n",
       "      <td>0</td>\n",
       "      <td>0</td>\n",
       "      <td>0</td>\n",
       "      <td>0</td>\n",
       "      <td>0</td>\n",
       "      <td>0</td>\n",
       "      <td>0</td>\n",
       "      <td>0</td>\n",
       "      <td>...</td>\n",
       "      <td>NaN</td>\n",
       "      <td>NaN</td>\n",
       "      <td>NaN</td>\n",
       "      <td>NaN</td>\n",
       "      <td>NaN</td>\n",
       "      <td>NaN</td>\n",
       "      <td>NaN</td>\n",
       "      <td>NaN</td>\n",
       "      <td>0.0</td>\n",
       "      <td>1</td>\n",
       "    </tr>\n",
       "    <tr>\n",
       "      <th>4</th>\n",
       "      <td>0</td>\n",
       "      <td>0</td>\n",
       "      <td>0</td>\n",
       "      <td>0</td>\n",
       "      <td>0</td>\n",
       "      <td>1</td>\n",
       "      <td>0</td>\n",
       "      <td>0</td>\n",
       "      <td>0</td>\n",
       "      <td>0</td>\n",
       "      <td>...</td>\n",
       "      <td>NaN</td>\n",
       "      <td>NaN</td>\n",
       "      <td>NaN</td>\n",
       "      <td>NaN</td>\n",
       "      <td>NaN</td>\n",
       "      <td>NaN</td>\n",
       "      <td>NaN</td>\n",
       "      <td>NaN</td>\n",
       "      <td>0.0</td>\n",
       "      <td>1</td>\n",
       "    </tr>\n",
       "  </tbody>\n",
       "</table>\n",
       "<p>5 rows × 458 columns</p>\n",
       "</div>"
      ],
      "text/plain": [
       "   rad_hero_1  rad_hero_2  rad_hero_3  rad_hero_4  rad_hero_5  rad_hero_6  \\\n",
       "0           0           0           0           0           0           0   \n",
       "1           0           0           0           0           0           0   \n",
       "2           0           0           0           0           0           0   \n",
       "3           0           0           0           0           0           0   \n",
       "4           0           0           0           0           0           1   \n",
       "\n",
       "   rad_hero_7  rad_hero_8  rad_hero_9  rad_hero_10  ...  \\\n",
       "0           0           0           0            0  ...   \n",
       "1           0           0           0            0  ...   \n",
       "2           0           1           0            0  ...   \n",
       "3           0           0           0            0  ...   \n",
       "4           0           0           0            0  ...   \n",
       "\n",
       "   hero_damagem_hp_hero3_d  hero_damagem_hp_hero4_d  hero_damagem_hp_hero5_d  \\\n",
       "0               195.814105                      NaN                      NaN   \n",
       "1                      NaN                      NaN                      NaN   \n",
       "2                      NaN                      NaN                      NaN   \n",
       "3                      NaN                      NaN                      NaN   \n",
       "4                      NaN                      NaN                      NaN   \n",
       "\n",
       "   healingm_hp_hero1_d  healingm_hp_hero2_d  healingm_hp_hero3_d  \\\n",
       "0                  0.0                  0.0           108.144296   \n",
       "1                  NaN                  NaN                  NaN   \n",
       "2                  NaN                  NaN                  NaN   \n",
       "3                  NaN                  NaN                  NaN   \n",
       "4                  NaN                  NaN                  NaN   \n",
       "\n",
       "   healingm_hp_hero4_d  healingm_hp_hero5_d  rad_first_pick  win_label  \n",
       "0                  NaN                  NaN             1.0          1  \n",
       "1                  NaN                  NaN             0.0          1  \n",
       "2                  NaN                  NaN             0.0          0  \n",
       "3                  NaN                  NaN             0.0          1  \n",
       "4                  NaN                  NaN             0.0          1  \n",
       "\n",
       "[5 rows x 458 columns]"
      ]
     },
     "execution_count": 11,
     "metadata": {},
     "output_type": "execute_result"
    }
   ],
   "source": [
    "feature_score_blowout_df.head()"
   ]
  },
  {
   "cell_type": "code",
   "execution_count": 12,
   "metadata": {
    "scrolled": true
   },
   "outputs": [
    {
     "name": "stdout",
     "output_type": "stream",
     "text": [
      "<class 'pandas.core.frame.DataFrame'>\n",
      "RangeIndex: 5528 entries, 0 to 5527\n",
      "Columns: 458 entries, rad_hero_1 to win_label\n",
      "dtypes: float64(161), int64(297)\n",
      "memory usage: 19.3 MB\n"
     ]
    }
   ],
   "source": [
    "feature_score_blowout_df.info()"
   ]
  },
  {
   "cell_type": "code",
   "execution_count": 13,
   "metadata": {},
   "outputs": [],
   "source": [
    "feature_score_blowout_df = feature_score_blowout_df.fillna(feature_score_blowout_df.median())"
   ]
  },
  {
   "cell_type": "code",
   "execution_count": 14,
   "metadata": {},
   "outputs": [],
   "source": [
    "feature_score_blowout_df['rad_first_pick'] = feature_score_blowout_df['rad_first_pick'].astype(int)"
   ]
  },
  {
   "cell_type": "code",
   "execution_count": 15,
   "metadata": {},
   "outputs": [],
   "source": [
    "# feature_score_blowout_df = feature_score_blowout_df.round(3)"
   ]
  },
  {
   "cell_type": "code",
   "execution_count": 16,
   "metadata": {
    "collapsed": true
   },
   "outputs": [
    {
     "data": {
      "text/html": [
       "<div>\n",
       "<style scoped>\n",
       "    .dataframe tbody tr th:only-of-type {\n",
       "        vertical-align: middle;\n",
       "    }\n",
       "\n",
       "    .dataframe tbody tr th {\n",
       "        vertical-align: top;\n",
       "    }\n",
       "\n",
       "    .dataframe thead th {\n",
       "        text-align: right;\n",
       "    }\n",
       "</style>\n",
       "<table border=\"1\" class=\"dataframe\">\n",
       "  <thead>\n",
       "    <tr style=\"text-align: right;\">\n",
       "      <th></th>\n",
       "      <th>rad_hero_1</th>\n",
       "      <th>rad_hero_2</th>\n",
       "      <th>rad_hero_3</th>\n",
       "      <th>rad_hero_4</th>\n",
       "      <th>rad_hero_5</th>\n",
       "      <th>rad_hero_6</th>\n",
       "      <th>rad_hero_7</th>\n",
       "      <th>rad_hero_8</th>\n",
       "      <th>rad_hero_9</th>\n",
       "      <th>rad_hero_10</th>\n",
       "      <th>...</th>\n",
       "      <th>hero_damagem_hp_hero3_d</th>\n",
       "      <th>hero_damagem_hp_hero4_d</th>\n",
       "      <th>hero_damagem_hp_hero5_d</th>\n",
       "      <th>healingm_hp_hero1_d</th>\n",
       "      <th>healingm_hp_hero2_d</th>\n",
       "      <th>healingm_hp_hero3_d</th>\n",
       "      <th>healingm_hp_hero4_d</th>\n",
       "      <th>healingm_hp_hero5_d</th>\n",
       "      <th>rad_first_pick</th>\n",
       "      <th>win_label</th>\n",
       "    </tr>\n",
       "  </thead>\n",
       "  <tbody>\n",
       "    <tr>\n",
       "      <th>0</th>\n",
       "      <td>0</td>\n",
       "      <td>0</td>\n",
       "      <td>0</td>\n",
       "      <td>0</td>\n",
       "      <td>0</td>\n",
       "      <td>0</td>\n",
       "      <td>0</td>\n",
       "      <td>0</td>\n",
       "      <td>0</td>\n",
       "      <td>0</td>\n",
       "      <td>...</td>\n",
       "      <td>195.814105</td>\n",
       "      <td>311.976428</td>\n",
       "      <td>339.120672</td>\n",
       "      <td>0.0</td>\n",
       "      <td>0.0</td>\n",
       "      <td>108.144296</td>\n",
       "      <td>0.0</td>\n",
       "      <td>0.0</td>\n",
       "      <td>1</td>\n",
       "      <td>1</td>\n",
       "    </tr>\n",
       "    <tr>\n",
       "      <th>1</th>\n",
       "      <td>0</td>\n",
       "      <td>0</td>\n",
       "      <td>0</td>\n",
       "      <td>0</td>\n",
       "      <td>0</td>\n",
       "      <td>0</td>\n",
       "      <td>0</td>\n",
       "      <td>0</td>\n",
       "      <td>0</td>\n",
       "      <td>0</td>\n",
       "      <td>...</td>\n",
       "      <td>324.867968</td>\n",
       "      <td>311.976428</td>\n",
       "      <td>339.120672</td>\n",
       "      <td>0.0</td>\n",
       "      <td>0.0</td>\n",
       "      <td>0.000000</td>\n",
       "      <td>0.0</td>\n",
       "      <td>0.0</td>\n",
       "      <td>0</td>\n",
       "      <td>1</td>\n",
       "    </tr>\n",
       "    <tr>\n",
       "      <th>2</th>\n",
       "      <td>0</td>\n",
       "      <td>0</td>\n",
       "      <td>0</td>\n",
       "      <td>0</td>\n",
       "      <td>0</td>\n",
       "      <td>0</td>\n",
       "      <td>0</td>\n",
       "      <td>1</td>\n",
       "      <td>0</td>\n",
       "      <td>0</td>\n",
       "      <td>...</td>\n",
       "      <td>324.867968</td>\n",
       "      <td>311.976428</td>\n",
       "      <td>339.120672</td>\n",
       "      <td>0.0</td>\n",
       "      <td>0.0</td>\n",
       "      <td>0.000000</td>\n",
       "      <td>0.0</td>\n",
       "      <td>0.0</td>\n",
       "      <td>0</td>\n",
       "      <td>0</td>\n",
       "    </tr>\n",
       "    <tr>\n",
       "      <th>3</th>\n",
       "      <td>0</td>\n",
       "      <td>0</td>\n",
       "      <td>0</td>\n",
       "      <td>0</td>\n",
       "      <td>0</td>\n",
       "      <td>0</td>\n",
       "      <td>0</td>\n",
       "      <td>0</td>\n",
       "      <td>0</td>\n",
       "      <td>0</td>\n",
       "      <td>...</td>\n",
       "      <td>324.867968</td>\n",
       "      <td>311.976428</td>\n",
       "      <td>339.120672</td>\n",
       "      <td>0.0</td>\n",
       "      <td>0.0</td>\n",
       "      <td>0.000000</td>\n",
       "      <td>0.0</td>\n",
       "      <td>0.0</td>\n",
       "      <td>0</td>\n",
       "      <td>1</td>\n",
       "    </tr>\n",
       "    <tr>\n",
       "      <th>4</th>\n",
       "      <td>0</td>\n",
       "      <td>0</td>\n",
       "      <td>0</td>\n",
       "      <td>0</td>\n",
       "      <td>0</td>\n",
       "      <td>1</td>\n",
       "      <td>0</td>\n",
       "      <td>0</td>\n",
       "      <td>0</td>\n",
       "      <td>0</td>\n",
       "      <td>...</td>\n",
       "      <td>324.867968</td>\n",
       "      <td>311.976428</td>\n",
       "      <td>339.120672</td>\n",
       "      <td>0.0</td>\n",
       "      <td>0.0</td>\n",
       "      <td>0.000000</td>\n",
       "      <td>0.0</td>\n",
       "      <td>0.0</td>\n",
       "      <td>0</td>\n",
       "      <td>1</td>\n",
       "    </tr>\n",
       "  </tbody>\n",
       "</table>\n",
       "<p>5 rows × 458 columns</p>\n",
       "</div>"
      ],
      "text/plain": [
       "   rad_hero_1  rad_hero_2  rad_hero_3  rad_hero_4  rad_hero_5  rad_hero_6  \\\n",
       "0           0           0           0           0           0           0   \n",
       "1           0           0           0           0           0           0   \n",
       "2           0           0           0           0           0           0   \n",
       "3           0           0           0           0           0           0   \n",
       "4           0           0           0           0           0           1   \n",
       "\n",
       "   rad_hero_7  rad_hero_8  rad_hero_9  rad_hero_10  ...  \\\n",
       "0           0           0           0            0  ...   \n",
       "1           0           0           0            0  ...   \n",
       "2           0           1           0            0  ...   \n",
       "3           0           0           0            0  ...   \n",
       "4           0           0           0            0  ...   \n",
       "\n",
       "   hero_damagem_hp_hero3_d  hero_damagem_hp_hero4_d  hero_damagem_hp_hero5_d  \\\n",
       "0               195.814105               311.976428               339.120672   \n",
       "1               324.867968               311.976428               339.120672   \n",
       "2               324.867968               311.976428               339.120672   \n",
       "3               324.867968               311.976428               339.120672   \n",
       "4               324.867968               311.976428               339.120672   \n",
       "\n",
       "   healingm_hp_hero1_d  healingm_hp_hero2_d  healingm_hp_hero3_d  \\\n",
       "0                  0.0                  0.0           108.144296   \n",
       "1                  0.0                  0.0             0.000000   \n",
       "2                  0.0                  0.0             0.000000   \n",
       "3                  0.0                  0.0             0.000000   \n",
       "4                  0.0                  0.0             0.000000   \n",
       "\n",
       "   healingm_hp_hero4_d  healingm_hp_hero5_d  rad_first_pick  win_label  \n",
       "0                  0.0                  0.0               1          1  \n",
       "1                  0.0                  0.0               0          1  \n",
       "2                  0.0                  0.0               0          0  \n",
       "3                  0.0                  0.0               0          1  \n",
       "4                  0.0                  0.0               0          1  \n",
       "\n",
       "[5 rows x 458 columns]"
      ]
     },
     "execution_count": 16,
     "metadata": {},
     "output_type": "execute_result"
    }
   ],
   "source": [
    "feature_score_blowout_df.head()"
   ]
  },
  {
   "cell_type": "code",
   "execution_count": 17,
   "metadata": {
    "collapsed": true
   },
   "outputs": [
    {
     "name": "stdout",
     "output_type": "stream",
     "text": [
      "<class 'pandas.core.frame.DataFrame'>\n",
      "RangeIndex: 5528 entries, 0 to 5527\n",
      "Columns: 458 entries, rad_hero_1 to win_label\n",
      "dtypes: float64(160), int32(1), int64(297)\n",
      "memory usage: 19.3 MB\n"
     ]
    }
   ],
   "source": [
    "feature_score_blowout_df.info()"
   ]
  },
  {
   "cell_type": "code",
   "execution_count": null,
   "metadata": {},
   "outputs": [],
   "source": [
    "# check_nan_in_df = feature_score_blowout_df.isna()\n",
    "# check_nan_in_df"
   ]
  },
  {
   "cell_type": "markdown",
   "metadata": {},
   "source": [
    "### Model building, training and evaluation"
   ]
  },
  {
   "cell_type": "code",
   "execution_count": 18,
   "metadata": {},
   "outputs": [],
   "source": [
    "from sklearn.ensemble import RandomForestClassifier\n",
    "from sklearn.metrics import roc_curve\n",
    "from sklearn.metrics import auc\n",
    "from sklearn.metrics import roc_auc_score\n",
    "import statistics as st"
   ]
  },
  {
   "cell_type": "code",
   "execution_count": 19,
   "metadata": {},
   "outputs": [],
   "source": [
    "X, y = feature_score_blowout_df.iloc[:,:-1],feature_score_blowout_df.iloc[:,-1]"
   ]
  },
  {
   "cell_type": "code",
   "execution_count": null,
   "metadata": {
    "scrolled": false
   },
   "outputs": [],
   "source": [
    "X.head()"
   ]
  },
  {
   "cell_type": "code",
   "execution_count": null,
   "metadata": {},
   "outputs": [],
   "source": [
    "X.shape"
   ]
  },
  {
   "cell_type": "code",
   "execution_count": null,
   "metadata": {},
   "outputs": [],
   "source": [
    "y.head()"
   ]
  },
  {
   "cell_type": "code",
   "execution_count": null,
   "metadata": {
    "scrolled": true
   },
   "outputs": [],
   "source": [
    "y.shape"
   ]
  },
  {
   "cell_type": "markdown",
   "metadata": {},
   "source": [
    "### Grid search"
   ]
  },
  {
   "cell_type": "code",
   "execution_count": 24,
   "metadata": {},
   "outputs": [
    {
     "name": "stdout",
     "output_type": "stream",
     "text": [
      "Fitting 3 folds for each of 48 candidates, totalling 144 fits\n"
     ]
    },
    {
     "name": "stderr",
     "output_type": "stream",
     "text": [
      "[Parallel(n_jobs=2)]: Using backend LokyBackend with 2 concurrent workers.\n",
      "[Parallel(n_jobs=2)]: Done  37 tasks      | elapsed:   15.0s\n",
      "[Parallel(n_jobs=2)]: Done 144 out of 144 | elapsed:  1.9min finished\n"
     ]
    },
    {
     "data": {
      "text/plain": [
       "{'bootstrap': True,\n",
       " 'max_depth': 10,\n",
       " 'max_features': 'log2',\n",
       " 'n_estimators': 200}"
      ]
     },
     "execution_count": 24,
     "metadata": {},
     "output_type": "execute_result"
    }
   ],
   "source": [
    "X_train, X_test, y_train, y_test = train_test_split(X, y, test_size=0.2, random_state=123)\n",
    "\n",
    "# Create the parameter grid based on the results of random search \n",
    "param_grid = {\n",
    "    'bootstrap': [True],\n",
    "    'max_depth': [5, 10, 15, 50],\n",
    "    'max_features': ['auto', 'sqrt', 'log2'],\n",
    "    'n_estimators': [50, 100, 200, 300]\n",
    "}\n",
    "\n",
    "# Create a based model\n",
    "rf = RandomForestClassifier()\n",
    "\n",
    "# Instantiate the grid search model\n",
    "grid_search = GridSearchCV(estimator = rf, param_grid = param_grid, \n",
    "                          cv = 3, n_jobs = 2, verbose = 2)\n",
    "\n",
    "grid_search.fit(X_train, y_train)\n",
    "grid_search.best_params_"
   ]
  },
  {
   "cell_type": "markdown",
   "metadata": {},
   "source": [
    "Best parameters:\n",
    "{'bootstrap': True,\n",
    " 'max_depth': 10,\n",
    " 'max_features': 'log2',\n",
    " 'n_estimators': 200}"
   ]
  },
  {
   "cell_type": "code",
   "execution_count": 26,
   "metadata": {},
   "outputs": [],
   "source": [
    "# Create the model with 100 trees\n",
    "model = RandomForestClassifier(bootstrap = True,\n",
    "                               n_estimators=200, \n",
    "                               max_depth=10,\n",
    "                               max_features = 'log2')"
   ]
  },
  {
   "cell_type": "code",
   "execution_count": 27,
   "metadata": {},
   "outputs": [],
   "source": [
    "features = [c for c in feature_score_blowout_df.columns if c != 'win_label']\n",
    "target = 'win_label'"
   ]
  },
  {
   "cell_type": "code",
   "execution_count": 28,
   "metadata": {},
   "outputs": [],
   "source": [
    "kfolds = KFold(n_splits=10, shuffle=True)"
   ]
  },
  {
   "cell_type": "code",
   "execution_count": 29,
   "metadata": {},
   "outputs": [
    {
     "data": {
      "text/plain": [
       "'Median AUC: 0.6953'"
      ]
     },
     "execution_count": 29,
     "metadata": {},
     "output_type": "execute_result"
    }
   ],
   "source": [
    "cnf = list()\n",
    "auc = list()\n",
    "thres = 0.5\n",
    "\n",
    "for train_idx, test_idx in kfolds.split(X):\n",
    "    X_train, y_train = X.iloc[train_idx], y.iloc[train_idx]\n",
    "    X_test, y_test = X.iloc[test_idx], y.iloc[test_idx]  \n",
    "    \n",
    "    model.fit(X_train, y_train)\n",
    "    preds = model.predict(X_test)\n",
    "    \n",
    "    cnf.append(confusion_matrix(y_test, (preds > thres).astype(int)))\n",
    "    auc.append(roc_auc_score(y_test, preds))\n",
    "\n",
    "cnf = sum(cnf)\n",
    "\n",
    "'Median AUC: {:.04f}'.format(st.median(auc))\n",
    "\n",
    "# auc = sum(auc) / len(auc)\n",
    "# 'Average AUC: {:.04f}'.format(auc)"
   ]
  },
  {
   "cell_type": "code",
   "execution_count": null,
   "metadata": {},
   "outputs": [],
   "source": []
  }
 ],
 "metadata": {
  "kernelspec": {
   "display_name": "Python 3",
   "language": "python",
   "name": "python3"
  },
  "language_info": {
   "codemirror_mode": {
    "name": "ipython",
    "version": 3
   },
   "file_extension": ".py",
   "mimetype": "text/x-python",
   "name": "python",
   "nbconvert_exporter": "python",
   "pygments_lexer": "ipython3",
   "version": "3.6.8"
  }
 },
 "nbformat": 4,
 "nbformat_minor": 2
}
