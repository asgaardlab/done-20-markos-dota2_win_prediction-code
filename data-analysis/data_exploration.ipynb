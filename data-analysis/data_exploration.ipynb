{
 "cells": [
  {
   "cell_type": "markdown",
   "metadata": {},
   "source": [
    "## Data Stats\n",
    "\n",
    "Notebook with code to compute basic stats and explore the data"
   ]
  },
  {
   "cell_type": "code",
   "execution_count": null,
   "metadata": {},
   "outputs": [],
   "source": [
    "def count_number_valid_matches():\n",
    "    count = 0\n",
    "    error = 0\n",
    "\n",
    "    print(\"\\nIterating over all match replay files...\")\n",
    "    for each_json_file in all_json_files:\n",
    "        print(count)\n",
    "        count += 1\n",
    "        with open(dataset_dir+each_json_file, 'r') as f:\n",
    "            match = json.load(f)\n",
    "        try:\n",
    "            match_id = match['match_id']\n",
    "        except:\n",
    "            error += 1\n",
    "            continue\n",
    "\n",
    "    print(\"Total number of matches: \", count)\n",
    "    print(\"Total number of errors: \", error)\n",
    "    return (count - error)"
   ]
  },
  {
   "cell_type": "code",
   "execution_count": null,
   "metadata": {},
   "outputs": [],
   "source": [
    "count_number_valid_matches()"
   ]
  },
  {
   "cell_type": "code",
   "execution_count": null,
   "metadata": {},
   "outputs": [],
   "source": [
    "def get_match_duration():\n",
    "    count = 0\n",
    "    error = 0\n",
    "    match_duration_list = list()\n",
    "    print(\"\\nIterating over all match replay files...\")\n",
    "    \n",
    "    for each_json_file in all_json_files:\n",
    "        print(count)\n",
    "        count += 1\n",
    "        with open(dataset_dir+each_json_file, 'r') as f:\n",
    "            match = json.load(f)\n",
    "        try:\n",
    "            match_duration = match['duration']\n",
    "            match_duration = match_duration/60\n",
    "            match_duration_list.append(match_duration)\n",
    "#             if match_duration <= 10:\n",
    "#                 players = match['players']\n",
    "        except:\n",
    "            error += 1\n",
    "            continue\n",
    "\n",
    "    print(\"Total number of matches : \", count)\n",
    "    print(\"Total number of errors : \", error)\n",
    "    print(\"Total number of matches with valid duration : \", count - error)\n",
    "    return match_duration_list"
   ]
  },
  {
   "cell_type": "code",
   "execution_count": null,
   "metadata": {},
   "outputs": [],
   "source": [
    "def get_team_scores():\n",
    "    count = 0\n",
    "    error = 0\n",
    "    radiant_score_list = list()\n",
    "    dire_score_list = list()\n",
    "    difference_score_list = list()\n",
    "    print(\"\\nIterating over all match replay files...\")\n",
    "    \n",
    "    for each_json_file in all_json_files:\n",
    "        print(count)\n",
    "        count += 1\n",
    "        with open(dataset_dir+each_json_file, 'r') as f:\n",
    "            match = json.load(f)\n",
    "        try:\n",
    "            dire_score = match['dire_score']\n",
    "            radiant_score = match['radiant_score']\n",
    "            dire_score_list.append(dire_score)\n",
    "            radiant_score_list.append(radiant_score)\n",
    "            difference_score_list.append(int(radiant_score) - int(dire_score))\n",
    "        except:\n",
    "            error += 1\n",
    "            continue\n",
    "\n",
    "    print(\"Total number of matches : \", count)\n",
    "    print(\"Total number of errors : \", error)\n",
    "    print(\"Total number of matches with valid duration : \", count - error)\n",
    "    return dire_score_list, radiant_score_list, difference_score_list"
   ]
  },
  {
   "cell_type": "code",
   "execution_count": null,
   "metadata": {},
   "outputs": [],
   "source": [
    "duration_list = get_match_duration()"
   ]
  },
  {
   "cell_type": "markdown",
   "metadata": {},
   "source": [
    "## Exploration of match info"
   ]
  },
  {
   "cell_type": "code",
   "execution_count": null,
   "metadata": {},
   "outputs": [],
   "source": [
    "fig1, ax1 = plt.subplots()\n",
    "ax1.set_title('Basic Plot')\n",
    "ax1.boxplot(duration_list)"
   ]
  },
  {
   "cell_type": "code",
   "execution_count": null,
   "metadata": {},
   "outputs": [],
   "source": [
    "quartiles = percentile(duration_list, [25, 50, 75])\n",
    "# calculate min/max\n",
    "data_min, data_max = min(duration_list), max(duration_list)\n",
    "# print 5-number summary\n",
    "print('Min: %.3f' % data_min)\n",
    "print('Q1: %.3f' % quartiles[0])\n",
    "print('Median: %.3f' % quartiles[1])\n",
    "print('Q3: %.3f' % quartiles[2])\n",
    "print('Max: %.3f' % data_max)"
   ]
  },
  {
   "cell_type": "code",
   "execution_count": null,
   "metadata": {},
   "outputs": [],
   "source": [
    "count_less_10 = 0\n",
    "for each_duration in duration_list:\n",
    "    if each_duration <= 26:\n",
    "        count_less_10 += 1\n",
    "print(\"Matches with duration less than 26 min : \", str(count_less_10))"
   ]
  },
  {
   "cell_type": "code",
   "execution_count": null,
   "metadata": {},
   "outputs": [],
   "source": [
    "dire_score_list, radiant_score_list, difference_score_list = get_team_scores()"
   ]
  },
  {
   "cell_type": "markdown",
   "metadata": {},
   "source": [
    "## DIRE"
   ]
  },
  {
   "cell_type": "code",
   "execution_count": null,
   "metadata": {},
   "outputs": [],
   "source": [
    "fig1, ax1 = plt.subplots()\n",
    "ax1.set_title('Basic Plot')\n",
    "ax1.boxplot(dire_score_list)"
   ]
  },
  {
   "cell_type": "code",
   "execution_count": null,
   "metadata": {},
   "outputs": [],
   "source": [
    "quartiles = percentile(dire_score_list, [25, 50, 75])\n",
    "# calculate min/max\n",
    "data_min, data_max = min(dire_score_list), max(dire_score_list)\n",
    "# print 5-number summary\n",
    "print('Min: %.3f' % data_min)\n",
    "print('Q1: %.3f' % quartiles[0])\n",
    "print('Median: %.3f' % quartiles[1])\n",
    "print('Q3: %.3f' % quartiles[2])\n",
    "print('Max: %.3f' % data_max)"
   ]
  },
  {
   "cell_type": "markdown",
   "metadata": {},
   "source": [
    "## RADIANT"
   ]
  },
  {
   "cell_type": "code",
   "execution_count": null,
   "metadata": {},
   "outputs": [],
   "source": [
    "fig1, ax1 = plt.subplots()\n",
    "ax1.set_title('Basic Plot')\n",
    "ax1.boxplot(radiant_score_list)"
   ]
  },
  {
   "cell_type": "code",
   "execution_count": null,
   "metadata": {},
   "outputs": [],
   "source": [
    "quartiles = percentile(radiant_score_list, [25, 50, 75])\n",
    "# calculate min/max\n",
    "data_min, data_max = min(radiant_score_list), max(radiant_score_list)\n",
    "# print 5-number summary\n",
    "print('Min: %.3f' % data_min)\n",
    "print('Q1: %.3f' % quartiles[0])\n",
    "print('Median: %.3f' % quartiles[1])\n",
    "print('Q3: %.3f' % quartiles[2])\n",
    "print('Max: %.3f' % data_max)"
   ]
  },
  {
   "cell_type": "markdown",
   "metadata": {},
   "source": [
    "## Comparison"
   ]
  },
  {
   "cell_type": "code",
   "execution_count": null,
   "metadata": {},
   "outputs": [],
   "source": [
    "difference_abs_score_list = [abs(number) for number in difference_score_list]\n",
    "fig1, ax1 = plt.subplots()\n",
    "ax1.set_title('Basic Plot')\n",
    "ax1.boxplot(difference_abs_score_list)"
   ]
  },
  {
   "cell_type": "code",
   "execution_count": null,
   "metadata": {},
   "outputs": [],
   "source": [
    "quartiles = percentile(difference_abs_score_list, [25, 50, 75])\n",
    "# calculate min/max\n",
    "data_min, data_max = min(difference_abs_score_list), max(difference_abs_score_list)\n",
    "# print 5-number summary\n",
    "print('Min: %.3f' % data_min)\n",
    "print('Q1: %.3f' % quartiles[0])\n",
    "print('Median: %.3f' % quartiles[1])\n",
    "print('Q3: %.3f' % quartiles[2])\n",
    "print('Max: %.3f' % data_max)"
   ]
  },
  {
   "cell_type": "code",
   "execution_count": null,
   "metadata": {},
   "outputs": [],
   "source": [
    "count_large_diff = 0\n",
    "for each in difference_abs_score_list:\n",
    "    if each >= 16:\n",
    "        count_large_diff += 1\n",
    "print(\"Matches with diff larger than 16 : \", str(count_large_diff))"
   ]
  },
  {
   "cell_type": "code",
   "execution_count": null,
   "metadata": {},
   "outputs": [],
   "source": []
  }
 ],
 "metadata": {
  "kernelspec": {
   "display_name": "Python 3",
   "language": "python",
   "name": "python3"
  },
  "language_info": {
   "codemirror_mode": {
    "name": "ipython",
    "version": 3
   },
   "file_extension": ".py",
   "mimetype": "text/x-python",
   "name": "python",
   "nbconvert_exporter": "python",
   "pygments_lexer": "ipython3",
   "version": "3.6.8"
  }
 },
 "nbformat": 4,
 "nbformat_minor": 2
}
