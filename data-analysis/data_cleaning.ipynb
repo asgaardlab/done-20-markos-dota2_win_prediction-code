{
 "cells": [
  {
   "cell_type": "markdown",
   "metadata": {},
   "source": [
    "## Data cleaning\n",
    "\n",
    "Notebook with code to clean the data"
   ]
  },
  {
   "cell_type": "code",
   "execution_count": 8,
   "metadata": {},
   "outputs": [],
   "source": [
    "import os\n",
    "import json"
   ]
  },
  {
   "cell_type": "code",
   "execution_count": 131,
   "metadata": {},
   "outputs": [
    {
     "name": "stdout",
     "output_type": "stream",
     "text": [
      "C:\\Users\\markos-ece\\Desktop\\Viggiato\\PhD - UofA\\Research\\2-Dota2\\git-repo-code/data-collection/matches/\n"
     ]
    }
   ],
   "source": [
    "# Load the JSON data for all files - Get current and its parent directory\n",
    "cwd = os.getcwd()\n",
    "repo_root_directory = os.path.dirname(cwd)\n",
    "dataset_dir = repo_root_directory + \"/data-collection/matches/\"\n",
    "print(dataset_dir)\n",
    "all_json_files = os.listdir(dataset_dir)\n",
    "dataset_filtered_data_dir = repo_root_directory + \"/data-collection/matches-after-cleaning/\""
   ]
  },
  {
   "cell_type": "code",
   "execution_count": 132,
   "metadata": {},
   "outputs": [
    {
     "name": "stdout",
     "output_type": "stream",
     "text": [
      "\n",
      "Iterating over all match files...\n",
      "('Number of matches : ', 86925)\n",
      "0\n",
      "1000\n",
      "2000\n",
      "3000\n",
      "4000\n",
      "5000\n",
      "6000\n",
      "7000\n",
      "8000\n",
      "9000\n",
      "10000\n",
      "11000\n",
      "12000\n",
      "13000\n",
      "14000\n",
      "15000\n",
      "16000\n",
      "17000\n",
      "18000\n",
      "19000\n",
      "20000\n",
      "21000\n",
      "22000\n",
      "23000\n",
      "24000\n",
      "25000\n",
      "26000\n",
      "27000\n",
      "28000\n",
      "29000\n",
      "30000\n",
      "31000\n",
      "32000\n",
      "33000\n",
      "34000\n",
      "35000\n",
      "36000\n",
      "37000\n",
      "38000\n",
      "39000\n",
      "40000\n",
      "41000\n",
      "42000\n",
      "43000\n",
      "44000\n",
      "45000\n",
      "46000\n",
      "47000\n",
      "48000\n",
      "49000\n",
      "50000\n",
      "51000\n",
      "52000\n",
      "53000\n",
      "54000\n",
      "55000\n",
      "56000\n",
      "57000\n",
      "58000\n",
      "59000\n",
      "60000\n",
      "61000\n",
      "62000\n",
      "63000\n",
      "64000\n",
      "65000\n",
      "66000\n",
      "67000\n",
      "68000\n",
      "69000\n",
      "70000\n",
      "71000\n",
      "72000\n",
      "73000\n",
      "74000\n",
      "75000\n",
      "76000\n",
      "77000\n",
      "78000\n",
      "79000\n",
      "80000\n",
      "81000\n",
      "82000\n",
      "83000\n",
      "84000\n",
      "85000\n",
      "86000\n"
     ]
    }
   ],
   "source": [
    "print(\"\\nIterating over all match files...\")\n",
    "count = 0\n",
    "\n",
    "no_league_info_list = list()\n",
    "league_id_list = list()\n",
    "league_tier_list = list()\n",
    "\n",
    "no_skill_info_list = list()\n",
    "match_skill_list = list()\n",
    "\n",
    "no_game_mode_info_list = list()\n",
    "game_mode_list = list()\n",
    "\n",
    "match_with_leaver_list = list()\n",
    "match_with_NO_leaver_list = list()\n",
    "no_match_player_info_list = list()\n",
    "\n",
    "game_mode_dict = {}\n",
    "player_abandon_dict = {}\n",
    "\n",
    "print(\"Number of matches : \" , len(all_json_files))\n",
    "\n",
    "for each_json_file in all_json_files:\n",
    "    if count%1000 == 0:\n",
    "        print(count)\n",
    "    count += 1\n",
    "    with open(dataset_dir+each_json_file, 'r') as f:\n",
    "        match = json.load(f)\n",
    "        match_id = match['match_id']\n",
    "        \n",
    "    ## collect league info\n",
    "    try:\n",
    "        league_obj = match['league']\n",
    "        league_id = league_obj['leagueid']\n",
    "        league_tier = league_obj['tier']\n",
    "        league_id_list.append(league_id)\n",
    "        league_tier_list.append(league_tier)\n",
    "    except:\n",
    "        no_league_info_list.append(match_id)\n",
    "    \n",
    "    ## collect match skill\n",
    "    try:\n",
    "        match_skill = match['skill']\n",
    "        match_skill_list.append(match_skill)\n",
    "    except:\n",
    "        no_skill_info_list.append(match_id)\n",
    "    \n",
    "    ## collect game mode\n",
    "    try:\n",
    "        game_mode = match['game_mode']\n",
    "        game_mode_list.append(int(game_mode))\n",
    "        game_mode_dict[str(match_id)] = int(game_mode)\n",
    "    except:\n",
    "        no_game_mode_info_list.append(match_id)\n",
    "    \n",
    "    # check if players abandoned the match\n",
    "    try:\n",
    "        match_players = match['players']\n",
    "        list_leaver_status = list()\n",
    "        there_is_leaver = False\n",
    "        for each_player in match_players:\n",
    "            list_leaver_status.append(int(each_player['leaver_status']))\n",
    "#             if int(each_player['leaver_status']) > 0:\n",
    "#                 match_with_leaver_list.append(match_id)\n",
    "#                 there_is_leaver = True\n",
    "#         if not there_is_leaver:\n",
    "#             match_with_NO_leaver_list.append(match_id)\n",
    "        player_abandon_dict[str(match_id)] = list_leaver_status\n",
    "    except:\n",
    "        no_match_player_info_list.append(match_id)"
   ]
  },
  {
   "cell_type": "markdown",
   "metadata": {},
   "source": [
    "### League info"
   ]
  },
  {
   "cell_type": "code",
   "execution_count": 133,
   "metadata": {},
   "outputs": [
    {
     "name": "stdout",
     "output_type": "stream",
     "text": [
      "0\n",
      "86925\n",
      "86925\n"
     ]
    }
   ],
   "source": [
    "print(len(no_league_info_list))\n",
    "print(len(league_id_list))\n",
    "print(len(league_tier_list))"
   ]
  },
  {
   "cell_type": "code",
   "execution_count": 134,
   "metadata": {},
   "outputs": [
    {
     "data": {
      "image/png": "[encoded data removed]",
      "text/plain": [
       "<Figure size 432x288 with 1 Axes>"
      ]
     },
     "metadata": {
      "needs_background": "light"
     },
     "output_type": "display_data"
    }
   ],
   "source": [
    "import matplotlib.pyplot as plt\n",
    "import numpy as np\n",
    "\n",
    "league_tier_list_np = np.asarray(league_tier_list)\n",
    "_ = plt.hist(league_tier_list_np, bins='auto')  # arguments are passed to np.histogram\n",
    "plt.title(\"Histogram with 'auto' bins\")\n",
    "plt.show()"
   ]
  },
  {
   "cell_type": "markdown",
   "metadata": {},
   "source": [
    "### Match skill info"
   ]
  },
  {
   "cell_type": "code",
   "execution_count": 135,
   "metadata": {},
   "outputs": [
    {
     "name": "stdout",
     "output_type": "stream",
     "text": [
      "0\n",
      "86925\n",
      "0\n"
     ]
    }
   ],
   "source": [
    "print(len(no_skill_info_list))\n",
    "print(len(match_skill_list))\n",
    "match_skill_list_notnull = list()\n",
    "\n",
    "for skill in match_skill_list:\n",
    "    if skill is not None:\n",
    "        match_skill_list_notnull.append(skill)\n",
    "\n",
    "print(len(match_skill_list_notnull))"
   ]
  },
  {
   "cell_type": "markdown",
   "metadata": {},
   "source": [
    "### *** Game mode ***"
   ]
  },
  {
   "cell_type": "code",
   "execution_count": 136,
   "metadata": {},
   "outputs": [
    {
     "name": "stdout",
     "output_type": "stream",
     "text": [
      "0\n",
      "86925\n",
      "[0, 1, 2]\n",
      "2085\n",
      "84072\n"
     ]
    }
   ],
   "source": [
    "print(len(no_game_mode_info_list))\n",
    "print(len(game_mode_list))\n",
    "print(list(set(game_mode_list))) # unique modes\n",
    "list_mode_1 = [x for x in game_mode_list if x==1]\n",
    "print(len(list_mode_1))\n",
    "list_mode_2 = [x for x in game_mode_list if x==2]\n",
    "print(len(list_mode_2))"
   ]
  },
  {
   "cell_type": "code",
   "execution_count": 137,
   "metadata": {},
   "outputs": [
    {
     "data": {
      "image/png": "[encoded data removed]",
      "text/plain": [
       "<Figure size 432x288 with 1 Axes>"
      ]
     },
     "metadata": {
      "needs_background": "light"
     },
     "output_type": "display_data"
    }
   ],
   "source": [
    "game_mode_list_np = np.asarray(game_mode_list)\n",
    "_ = plt.hist(game_mode_list_np, bins='auto')  # arguments are passed to np.histogram\n",
    "plt.title(\"Histogram with 'auto' bins\")\n",
    "plt.show()"
   ]
  },
  {
   "cell_type": "code",
   "execution_count": 1,
   "metadata": {},
   "outputs": [],
   "source": [
    "matches_to_exclude = list()"
   ]
  },
  {
   "cell_type": "code",
   "execution_count": 2,
   "metadata": {},
   "outputs": [
    {
     "ename": "NameError",
     "evalue": "name 'game_mode_dict' is not defined",
     "output_type": "error",
     "traceback": [
      "\u001b[1;31m---------------------------------------------------------------------------\u001b[0m",
      "\u001b[1;31mNameError\u001b[0m                                 Traceback (most recent call last)",
      "\u001b[1;32m<ipython-input-2-88f3bd0c3248>\u001b[0m in \u001b[0;36m<module>\u001b[1;34m()\u001b[0m\n\u001b[0;32m      2\u001b[0m \u001b[0mcount_mode_2\u001b[0m \u001b[1;33m=\u001b[0m \u001b[1;36m0\u001b[0m\u001b[1;33m\u001b[0m\u001b[0m\n\u001b[0;32m      3\u001b[0m \u001b[1;33m\u001b[0m\u001b[0m\n\u001b[1;32m----> 4\u001b[1;33m \u001b[1;32mfor\u001b[0m \u001b[0mmatch\u001b[0m \u001b[1;32min\u001b[0m \u001b[0mgame_mode_dict\u001b[0m\u001b[1;33m:\u001b[0m\u001b[1;33m\u001b[0m\u001b[0m\n\u001b[0m\u001b[0;32m      5\u001b[0m     \u001b[1;32mif\u001b[0m \u001b[0mgame_mode_dict\u001b[0m\u001b[1;33m[\u001b[0m\u001b[0mmatch\u001b[0m\u001b[1;33m]\u001b[0m \u001b[1;33m==\u001b[0m \u001b[1;36m1\u001b[0m\u001b[1;33m:\u001b[0m\u001b[1;33m\u001b[0m\u001b[0m\n\u001b[0;32m      6\u001b[0m         \u001b[0mcount_mode_1\u001b[0m \u001b[1;33m+=\u001b[0m \u001b[1;36m1\u001b[0m\u001b[1;33m\u001b[0m\u001b[0m\n",
      "\u001b[1;31mNameError\u001b[0m: name 'game_mode_dict' is not defined"
     ]
    }
   ],
   "source": [
    "count_mode_1 = 0\n",
    "count_mode_2 = 0\n",
    "\n",
    "for match in game_mode_dict:\n",
    "    if game_mode_dict[match] == 1:\n",
    "        count_mode_1 += 1\n",
    "    elif game_mode_dict[match] == 2:\n",
    "        count_mode_2 += 1\n",
    "    else:\n",
    "        matches_to_exclude.append(match)\n",
    "        \n",
    "print(\"Game mode 1 : \" , count_mode_1)\n",
    "print(\"Game mode 2 : \" , count_mode_2)\n",
    "print(len(matches_to_exclude)) "
   ]
  },
  {
   "cell_type": "markdown",
   "metadata": {},
   "source": [
    "### * Leaver status (player abandoned) *"
   ]
  },
  {
   "cell_type": "code",
   "execution_count": 156,
   "metadata": {},
   "outputs": [
    {
     "name": "stdout",
     "output_type": "stream",
     "text": [
      "0\n",
      "0\n",
      "1\n"
     ]
    }
   ],
   "source": [
    "print(len(match_with_leaver_list))\n",
    "print(len(match_with_NO_leaver_list))\n",
    "print(len(no_match_player_info_list))"
   ]
  },
  {
   "cell_type": "code",
   "execution_count": 157,
   "metadata": {},
   "outputs": [
    {
     "name": "stdout",
     "output_type": "stream",
     "text": [
      "32250\n",
      "['18355350', '52627429', '23382424', '27266583', '22601579', '47328846', '37338852', '29583255', '23798815', '29809183']\n"
     ]
    }
   ],
   "source": [
    "for match in player_abandon_dict:\n",
    "    list_status = player_abandon_dict[match]\n",
    "    for each_status in list_status:\n",
    "        if each_status > 0:\n",
    "            matches_to_exclude.append(match)\n",
    "            break\n",
    "print(len(matches_to_exclude))\n",
    "print(matches_to_exclude[:10])"
   ]
  },
  {
   "cell_type": "code",
   "execution_count": 158,
   "metadata": {},
   "outputs": [
    {
     "name": "stdout",
     "output_type": "stream",
     "text": [
      "32250\n"
     ]
    }
   ],
   "source": [
    "matches_to_exclude_strip = [x.strip() for x in matches_to_exclude]\n",
    "print(len(matches_to_exclude_strip))"
   ]
  },
  {
   "cell_type": "code",
   "execution_count": 161,
   "metadata": {},
   "outputs": [],
   "source": [
    "from shutil import copyfile\n",
    "\n",
    "for each_file in all_json_files:\n",
    "    file_id = ((each_file.split('-')[1]).split('.')[0]).strip()\n",
    "    if file_id not in matches_to_exclude_strip:\n",
    "        copyfile(dataset_dir + \"match-\" + file_id + \".json\", dataset_filtered_data_dir + \"match-\" + file_id + \".json\")\n",
    "        \n",
    "#os.rename(\"path/to/current/file.foo\", \"path/to/new/destination/for/file.foo\")"
   ]
  }
 ],
 "metadata": {
  "kernelspec": {
   "display_name": "Python 3.6 (tensorflow)",
   "language": "python",
   "name": "tensorflow"
  },
  "language_info": {
   "codemirror_mode": {
    "name": "ipython",
    "version": 2
   },
   "file_extension": ".py",
   "mimetype": "text/x-python",
   "name": "python",
   "nbconvert_exporter": "python",
   "pygments_lexer": "ipython2",
   "version": "2.7.13"
  }
 },
 "nbformat": 4,
 "nbformat_minor": 2
}
